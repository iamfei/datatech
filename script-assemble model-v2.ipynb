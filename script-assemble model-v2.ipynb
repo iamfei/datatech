{
 "cells": [
  {
   "cell_type": "code",
   "execution_count": 3,
   "metadata": {
    "collapsed": true
   },
   "outputs": [],
   "source": [
    "from sklearn.tree import DecisionTreeClassifier\n",
    "from sklearn.model_selection import train_test_split\n",
    "import pandas as pd\n",
    "import matplotlib.pyplot as plt\n",
    "import numpy as np\n",
    "import seaborn as sns\n",
    "import numpy as np\n",
    "import time\n",
    "import random"
   ]
  },
  {
   "cell_type": "code",
   "execution_count": 4,
   "metadata": {},
   "outputs": [
    {
     "name": "stderr",
     "output_type": "stream",
     "text": [
      "/anaconda/lib/python3.6/site-packages/sklearn/cross_validation.py:44: DeprecationWarning: This module was deprecated in version 0.18 in favor of the model_selection module into which all the refactored classes and functions are moved. Also note that the interface of the new CV iterators are different from that of this module. This module will be removed in 0.20.\n",
      "  \"This module will be removed in 0.20.\", DeprecationWarning)\n",
      "/anaconda/lib/python3.6/site-packages/sklearn/grid_search.py:43: DeprecationWarning: This module was deprecated in version 0.18 in favor of the model_selection module into which all the refactored classes and functions are moved. This module will be removed in 0.20.\n",
      "  DeprecationWarning)\n"
     ]
    }
   ],
   "source": [
    "from sklearn.tree import DecisionTreeClassifier\n",
    "from sklearn.ensemble import RandomForestClassifier, AdaBoostClassifier, GradientBoostingClassifier,ExtraTreesClassifier\n",
    "from sklearn.svm import SVC\n",
    "from sklearn.neighbors import KNeighborsClassifier\n",
    "from sklearn.naive_bayes import GaussianNB\n",
    "from sklearn.model_selection import cross_val_score\n",
    "from sklearn.metrics import classification_report,auc\n",
    "from sklearn.grid_search import GridSearchCV\n",
    "from sklearn.neighbors import KNeighborsClassifier\n",
    "from sklearn.linear_model import LogisticRegression\n",
    "from sklearn.ensemble import GradientBoostingClassifier \n",
    "from sklearn.neural_network import MLPClassifier\n",
    "from sklearn.metrics import cohen_kappa_score\n",
    "from sklearn import cross_validation, metrics\n",
    "from pprint import pprint\n",
    "from sklearn import tree\n",
    "from sklearn.cross_validation import StratifiedKFold\n",
    "import xgboost as xgb"
   ]
  },
  {
   "cell_type": "code",
   "execution_count": 5,
   "metadata": {
    "collapsed": true
   },
   "outputs": [],
   "source": [
    "start=time.time()"
   ]
  },
  {
   "cell_type": "markdown",
   "metadata": {},
   "source": [
    "#  1 导入数据"
   ]
  },
  {
   "cell_type": "code",
   "execution_count": 6,
   "metadata": {},
   "outputs": [
    {
     "name": "stderr",
     "output_type": "stream",
     "text": [
      "/anaconda/lib/python3.6/site-packages/IPython/core/interactiveshell.py:2717: DtypeWarning: Columns (1,9) have mixed types. Specify dtype option on import or set low_memory=False.\n",
      "  interactivity=interactivity, compiler=compiler, result=result)\n"
     ]
    }
   ],
   "source": [
    "dfnopay=pd.read_csv(\"DataTech_Credit_Train_Communication1.txt\") #用户违约类\n",
    "dfpred=pd.read_csv(\"DataTech_Credit_Train_User1.txt\")  #题目提供的测试集，需分割训练和测试集合\n",
    "dfcomm=pd.read_csv(\"DataTech_公共数据_基础信息1.txt\",encoding='utf-8',na_values=['\\\\N']) #用户基本信息。由于含有中文，需要指定utf-8编码，并指定空值类型\n",
    "dfcall=pd.read_csv(\"DataTech_公共数据_通话1.txt\",encoding='utf-8',na_values=['\\\\N']) #用户通话类。由于含有中文，需要指定utf-8编码，并指定空值类型\n",
    "#dfnet=pd.read_csv(\"DataTech_公共数据_上网1.txt\",encoding='utf-8',na_values=['\\\\N'])\n",
    "\n",
    "dfnopay.columns=[\"USERI_ID\",\"Stop_Days\",\"Stop_Cnt\",\"date\"]\n",
    "dfpred.columns=[\"USERI_ID\",\"RISK_Flag\"]\n",
    "dfcomm.columns=[\"USERI_ID\", \"AGE\", \"OCCUPATION_ID\", \"CITY_ID\", \"COUNTY_ID\", \"ONLINE_TIME\", \"REAL_NAME_FLAG\", \"USER_CREDIT_ID\", \"CALL_MARK\", \"COMM_FLAG\", \"CALL_COUNTS\", \"VPMN_CALL_COUNTS\", \"TOLL_COUNTS\", \"WJ_CALL_COUNTS\", \"OUT_CALL_COUNTS\", \"CALLFW_COUNTS\", \"QQW_CALL_COUNTS\", \"BD_CALL_COUNTS\", \"ROAM_COUNTS\", \"CALL_DURATION_M\", \"BILL_DURATION_M\", \"VPMN_CALL_DURATION_M\", \"WJ_CALL_DURATION_M\", \"OUT_CALL_DURATION_M\", \"CALLFW_DURATION_M\", \"BD_CALL_DURATION_M\", \"ROAM_DURATION_M\", \"TOLL_DURATION_M\", \"QQW_CALL_DURATION_M\", \"GPRS_VOLUME\", \"ARPU\", \"SP_FEE\", \"TELE_TYPE\", \"TELE_FAC\", \"SMART_SYSTEM\", \"FIST_USE_DATE\", \"NUM_OF_COMM\", \"date\"]\n",
    "dfcall.columns=[\"USERI_ID\", \"OPP_USER_NUMBER\", \"START_TIME\", \"DURATION\", \"CALL_TYPE\", \"ROAM_TYPE\", \"HPLMN1\", \"HPLMN2\", \"VPLMN1\", \"VPLMN2\", \"OPP_HOME_AREACODE\", \"TOLL_TYPE\", \"industry\", \"serv_type\"]\n",
    "#dfnet.columns=[\"USERI_ID\", \"TIME_FRAME\", \"FIRST_DOMAIN_NAME\", \"APP_NAME\", \"APP_CLASSIFY_TYPE\"]"
   ]
  },
  {
   "cell_type": "code",
   "execution_count": 7,
   "metadata": {},
   "outputs": [
    {
     "data": {
      "text/html": [
       "<div>\n",
       "<style>\n",
       "    .dataframe thead tr:only-child th {\n",
       "        text-align: right;\n",
       "    }\n",
       "\n",
       "    .dataframe thead th {\n",
       "        text-align: left;\n",
       "    }\n",
       "\n",
       "    .dataframe tbody tr th {\n",
       "        vertical-align: top;\n",
       "    }\n",
       "</style>\n",
       "<table border=\"1\" class=\"dataframe\">\n",
       "  <thead>\n",
       "    <tr style=\"text-align: right;\">\n",
       "      <th></th>\n",
       "      <th>USERI_ID</th>\n",
       "      <th>RISK_Flag</th>\n",
       "    </tr>\n",
       "  </thead>\n",
       "  <tbody>\n",
       "    <tr>\n",
       "      <th>0</th>\n",
       "      <td>60015357</td>\n",
       "      <td>0</td>\n",
       "    </tr>\n",
       "    <tr>\n",
       "      <th>1</th>\n",
       "      <td>60015359</td>\n",
       "      <td>1</td>\n",
       "    </tr>\n",
       "    <tr>\n",
       "      <th>2</th>\n",
       "      <td>60015362</td>\n",
       "      <td>1</td>\n",
       "    </tr>\n",
       "    <tr>\n",
       "      <th>3</th>\n",
       "      <td>60015365</td>\n",
       "      <td>0</td>\n",
       "    </tr>\n",
       "    <tr>\n",
       "      <th>4</th>\n",
       "      <td>10032318</td>\n",
       "      <td>1</td>\n",
       "    </tr>\n",
       "  </tbody>\n",
       "</table>\n",
       "</div>"
      ],
      "text/plain": [
       "   USERI_ID  RISK_Flag\n",
       "0  60015357          0\n",
       "1  60015359          1\n",
       "2  60015362          1\n",
       "3  60015365          0\n",
       "4  10032318          1"
      ]
     },
     "execution_count": 7,
     "metadata": {},
     "output_type": "execute_result"
    }
   ],
   "source": [
    "dfpred.head()"
   ]
  },
  {
   "cell_type": "code",
   "execution_count": 8,
   "metadata": {
    "scrolled": true
   },
   "outputs": [
    {
     "name": "stdout",
     "output_type": "stream",
     "text": [
      "=======dfnopay======\n",
      "<class 'pandas.core.frame.DataFrame'>\n",
      "RangeIndex: 28000 entries, 0 to 27999\n",
      "Data columns (total 4 columns):\n",
      "USERI_ID     28000 non-null int64\n",
      "Stop_Days    28000 non-null int64\n",
      "Stop_Cnt     28000 non-null int64\n",
      "date         28000 non-null int64\n",
      "dtypes: int64(4)\n",
      "memory usage: 875.1 KB\n",
      "=======dfpred======\n",
      "<class 'pandas.core.frame.DataFrame'>\n",
      "RangeIndex: 7000 entries, 0 to 6999\n",
      "Data columns (total 2 columns):\n",
      "USERI_ID     7000 non-null int64\n",
      "RISK_Flag    7000 non-null int64\n",
      "dtypes: int64(2)\n",
      "memory usage: 109.5 KB\n",
      "=======dfcomm======\n",
      "<class 'pandas.core.frame.DataFrame'>\n",
      "RangeIndex: 83091 entries, 0 to 83090\n",
      "Data columns (total 38 columns):\n",
      "USERI_ID                83091 non-null int64\n",
      "AGE                     79089 non-null float64\n",
      "OCCUPATION_ID           83091 non-null int64\n",
      "CITY_ID                 83091 non-null int64\n",
      "COUNTY_ID               83091 non-null object\n",
      "ONLINE_TIME             83091 non-null int64\n",
      "REAL_NAME_FLAG          83091 non-null int64\n",
      "USER_CREDIT_ID          76850 non-null float64\n",
      "CALL_MARK               83091 non-null int64\n",
      "COMM_FLAG               83091 non-null int64\n",
      "CALL_COUNTS             83091 non-null int64\n",
      "VPMN_CALL_COUNTS        83091 non-null int64\n",
      "TOLL_COUNTS             83091 non-null int64\n",
      "WJ_CALL_COUNTS          83091 non-null int64\n",
      "OUT_CALL_COUNTS         83091 non-null int64\n",
      "CALLFW_COUNTS           83091 non-null int64\n",
      "QQW_CALL_COUNTS         83091 non-null int64\n",
      "BD_CALL_COUNTS          83091 non-null int64\n",
      "ROAM_COUNTS             83091 non-null int64\n",
      "CALL_DURATION_M         83091 non-null int64\n",
      "BILL_DURATION_M         83091 non-null int64\n",
      "VPMN_CALL_DURATION_M    83091 non-null int64\n",
      "WJ_CALL_DURATION_M      83091 non-null int64\n",
      "OUT_CALL_DURATION_M     83091 non-null int64\n",
      "CALLFW_DURATION_M       83091 non-null int64\n",
      "BD_CALL_DURATION_M      83091 non-null int64\n",
      "ROAM_DURATION_M         83091 non-null int64\n",
      "TOLL_DURATION_M         83091 non-null int64\n",
      "QQW_CALL_DURATION_M     83091 non-null int64\n",
      "GPRS_VOLUME             83091 non-null int64\n",
      "ARPU                    83037 non-null float64\n",
      "SP_FEE                  83037 non-null float64\n",
      "TELE_TYPE               77323 non-null object\n",
      "TELE_FAC                77323 non-null object\n",
      "SMART_SYSTEM            77323 non-null object\n",
      "FIST_USE_DATE           83056 non-null float64\n",
      "NUM_OF_COMM             78850 non-null float64\n",
      "date                    83091 non-null int64\n",
      "dtypes: float64(6), int64(28), object(4)\n",
      "memory usage: 24.1+ MB\n",
      "=======dfcall======\n",
      "<class 'pandas.core.frame.DataFrame'>\n",
      "RangeIndex: 3065439 entries, 0 to 3065438\n",
      "Data columns (total 14 columns):\n",
      "USERI_ID             int64\n",
      "OPP_USER_NUMBER      object\n",
      "START_TIME           int64\n",
      "DURATION             float64\n",
      "CALL_TYPE            int64\n",
      "ROAM_TYPE            int64\n",
      "HPLMN1               int64\n",
      "HPLMN2               int64\n",
      "VPLMN1               int64\n",
      "VPLMN2               object\n",
      "OPP_HOME_AREACODE    float64\n",
      "TOLL_TYPE            int64\n",
      "industry             object\n",
      "serv_type            object\n",
      "dtypes: float64(2), int64(8), object(4)\n",
      "memory usage: 327.4+ MB\n"
     ]
    }
   ],
   "source": [
    "print(\"=======dfnopay======\")\n",
    "dfnopay.info() #数据完整\n",
    "print(\"=======dfpred======\")\n",
    "dfpred.info() #数据完整\n",
    "print(\"=======dfcomm======\")\n",
    "dfcomm.info() #存在空值\n",
    "print(\"=======dfcall======\")\n",
    "dfcall.info() #存在空值"
   ]
  },
  {
   "cell_type": "code",
   "execution_count": 9,
   "metadata": {
    "scrolled": true
   },
   "outputs": [
    {
     "name": "stdout",
     "output_type": "stream",
     "text": [
      "======dfnopay=======\n",
      "USERI_ID     0\n",
      "Stop_Days    0\n",
      "Stop_Cnt     0\n",
      "date         0\n",
      "dtype: int64\n",
      "======dfpred=======\n",
      "USERI_ID     0\n",
      "RISK_Flag    0\n",
      "dtype: int64\n",
      "======dfcomm=======\n",
      "USERI_ID                   0\n",
      "AGE                     4002\n",
      "OCCUPATION_ID              0\n",
      "CITY_ID                    0\n",
      "COUNTY_ID                  0\n",
      "ONLINE_TIME                0\n",
      "REAL_NAME_FLAG             0\n",
      "USER_CREDIT_ID          6241\n",
      "CALL_MARK                  0\n",
      "COMM_FLAG                  0\n",
      "CALL_COUNTS                0\n",
      "VPMN_CALL_COUNTS           0\n",
      "TOLL_COUNTS                0\n",
      "WJ_CALL_COUNTS             0\n",
      "OUT_CALL_COUNTS            0\n",
      "CALLFW_COUNTS              0\n",
      "QQW_CALL_COUNTS            0\n",
      "BD_CALL_COUNTS             0\n",
      "ROAM_COUNTS                0\n",
      "CALL_DURATION_M            0\n",
      "BILL_DURATION_M            0\n",
      "VPMN_CALL_DURATION_M       0\n",
      "WJ_CALL_DURATION_M         0\n",
      "OUT_CALL_DURATION_M        0\n",
      "CALLFW_DURATION_M          0\n",
      "BD_CALL_DURATION_M         0\n",
      "ROAM_DURATION_M            0\n",
      "TOLL_DURATION_M            0\n",
      "QQW_CALL_DURATION_M        0\n",
      "GPRS_VOLUME                0\n",
      "ARPU                      54\n",
      "SP_FEE                    54\n",
      "TELE_TYPE               5768\n",
      "TELE_FAC                5768\n",
      "SMART_SYSTEM            5768\n",
      "FIST_USE_DATE             35\n",
      "NUM_OF_COMM             4241\n",
      "date                       0\n",
      "dtype: int64\n",
      "======dfcall=======\n",
      "USERI_ID                   0\n",
      "OPP_USER_NUMBER            0\n",
      "START_TIME                 0\n",
      "DURATION                 854\n",
      "CALL_TYPE                  0\n",
      "ROAM_TYPE                  0\n",
      "HPLMN1                     0\n",
      "HPLMN2                     0\n",
      "VPLMN1                     0\n",
      "VPLMN2                     0\n",
      "OPP_HOME_AREACODE       4030\n",
      "TOLL_TYPE                  0\n",
      "industry             3015137\n",
      "serv_type            3015137\n",
      "dtype: int64\n"
     ]
    }
   ],
   "source": [
    "print(\"======dfnopay=======\")\n",
    "print(dfnopay.isnull().sum())\n",
    "print(\"======dfpred=======\")\n",
    "print(dfpred.isnull().sum())\n",
    "print(\"======dfcomm=======\")\n",
    "print(dfcomm.isnull().sum())\n",
    "print(\"======dfcall=======\")\n",
    "print(dfcall.isnull().sum())"
   ]
  },
  {
   "cell_type": "markdown",
   "metadata": {},
   "source": [
    "#  2 数据处理"
   ]
  },
  {
   "cell_type": "markdown",
   "metadata": {},
   "source": [
    "## 2.1 空值处理"
   ]
  },
  {
   "cell_type": "code",
   "execution_count": 10,
   "metadata": {
    "collapsed": true
   },
   "outputs": [],
   "source": [
    "#dfcomm=dfcomm.dropna() #直接删除存在空值的行"
   ]
  },
  {
   "cell_type": "code",
   "execution_count": 11,
   "metadata": {
    "collapsed": true
   },
   "outputs": [],
   "source": [
    "dfcomm=dfcomm.fillna(dfcomm.median()) #用中位值填充数值型空值"
   ]
  },
  {
   "cell_type": "code",
   "execution_count": 12,
   "metadata": {
    "collapsed": true
   },
   "outputs": [],
   "source": [
    "dfcomm=dfcomm.fillna(\"unknown\") #用unknown填充字符串型空值"
   ]
  },
  {
   "cell_type": "markdown",
   "metadata": {},
   "source": [
    "## 2.2 类型转换 "
   ]
  },
  {
   "cell_type": "code",
   "execution_count": 13,
   "metadata": {
    "collapsed": true
   },
   "outputs": [],
   "source": [
    "dfnopay[\"USERI_ID\"]=dfnopay[\"USERI_ID\"].astype(\"str\")\n",
    "dfnopay[\"Stop_Days\"]=dfnopay[\"Stop_Days\"].astype(\"int\")\n",
    "dfnopay[\"Stop_Cnt\"]=dfnopay[\"Stop_Cnt\"].astype(\"int\")\n",
    "dfnopay[\"date\"]=dfnopay[\"date\"].astype(\"str\")"
   ]
  },
  {
   "cell_type": "code",
   "execution_count": 14,
   "metadata": {
    "collapsed": true
   },
   "outputs": [],
   "source": [
    "dfpred[\"USERI_ID\"]=dfpred[\"USERI_ID\"].astype(\"str\")\n",
    "dfpred[\"RISK_Flag\"]=dfpred[\"RISK_Flag\"].astype(\"int\")"
   ]
  },
  {
   "cell_type": "code",
   "execution_count": 15,
   "metadata": {
    "collapsed": true
   },
   "outputs": [],
   "source": [
    "dfcomm[\"USERI_ID\"]=dfcomm[\"USERI_ID\"].astype(\"str\")\n",
    "dfcomm[\"date\"]=dfcomm[\"date\"].astype(\"str\")\n",
    "dfcomm[\"NUM_OF_COMM\"]=dfcomm[\"NUM_OF_COMM\"].astype(\"int\")\n",
    "dfcomm[\"OCCUPATION_ID\"]=dfcomm[\"OCCUPATION_ID\"].astype(\"int\")\n",
    "dfcomm[\"CITY_ID\"]=dfcomm[\"CITY_ID\"].astype(\"int\")\n",
    "dfcomm[\"ONLINE_TIME\"]=dfcomm[\"ONLINE_TIME\"].astype(\"int\")\n",
    "dfcomm[\"REAL_NAME_FLAG\"]=dfcomm[\"REAL_NAME_FLAG\"].astype(\"int\")\n",
    "dfcomm[\"USER_CREDIT_ID\"]=dfcomm[\"USER_CREDIT_ID\"].astype(\"int\")\n",
    "dfcomm[\"CALL_MARK\"]=dfcomm[\"CALL_MARK\"].astype(\"int\")\n",
    "dfcomm[\"FIST_USE_DATE\"]=dfcomm[\"FIST_USE_DATE\"].astype(\"str\")"
   ]
  },
  {
   "cell_type": "code",
   "execution_count": 16,
   "metadata": {
    "collapsed": true
   },
   "outputs": [],
   "source": [
    "dfcall[\"USERI_ID\"]=dfcall[\"USERI_ID\"].astype(\"str\")\n",
    "dfcall[\"START_TIME\"]=dfcall[\"START_TIME\"].astype(\"str\")\n",
    "dfcall[\"ROAM_TYPE\"]=dfcall[\"ROAM_TYPE\"].astype(\"str\")"
   ]
  },
  {
   "cell_type": "markdown",
   "metadata": {},
   "source": [
    "# 3 特征提取"
   ]
  },
  {
   "cell_type": "markdown",
   "metadata": {},
   "source": [
    "## 3.1 特征1：信用历史（dfcred_f）"
   ]
  },
  {
   "cell_type": "code",
   "execution_count": 17,
   "metadata": {
    "collapsed": true
   },
   "outputs": [],
   "source": [
    "#选择6月违约天数、违约次数，形成关键数据表dfnopay06\n",
    "dfcred_f=dfnopay[dfnopay.date==\"201706\"].drop('date',1)\n",
    "dfcred_f.columns=['USERI_ID', 'Stop_Days06', 'Stop_Cnt06']"
   ]
  },
  {
   "cell_type": "code",
   "execution_count": 18,
   "metadata": {},
   "outputs": [
    {
     "data": {
      "text/html": [
       "<div>\n",
       "<style>\n",
       "    .dataframe thead tr:only-child th {\n",
       "        text-align: right;\n",
       "    }\n",
       "\n",
       "    .dataframe thead th {\n",
       "        text-align: left;\n",
       "    }\n",
       "\n",
       "    .dataframe tbody tr th {\n",
       "        vertical-align: top;\n",
       "    }\n",
       "</style>\n",
       "<table border=\"1\" class=\"dataframe\">\n",
       "  <thead>\n",
       "    <tr style=\"text-align: right;\">\n",
       "      <th></th>\n",
       "      <th>USERI_ID</th>\n",
       "      <th>Stop_Days06</th>\n",
       "      <th>Stop_Cnt06</th>\n",
       "    </tr>\n",
       "  </thead>\n",
       "  <tbody>\n",
       "    <tr>\n",
       "      <th>3</th>\n",
       "      <td>60015357</td>\n",
       "      <td>1</td>\n",
       "      <td>1</td>\n",
       "    </tr>\n",
       "    <tr>\n",
       "      <th>7</th>\n",
       "      <td>60015359</td>\n",
       "      <td>3</td>\n",
       "      <td>2</td>\n",
       "    </tr>\n",
       "    <tr>\n",
       "      <th>11</th>\n",
       "      <td>60015362</td>\n",
       "      <td>1</td>\n",
       "      <td>1</td>\n",
       "    </tr>\n",
       "    <tr>\n",
       "      <th>15</th>\n",
       "      <td>60015365</td>\n",
       "      <td>1</td>\n",
       "      <td>1</td>\n",
       "    </tr>\n",
       "    <tr>\n",
       "      <th>19</th>\n",
       "      <td>10032318</td>\n",
       "      <td>1</td>\n",
       "      <td>1</td>\n",
       "    </tr>\n",
       "  </tbody>\n",
       "</table>\n",
       "</div>"
      ],
      "text/plain": [
       "    USERI_ID  Stop_Days06  Stop_Cnt06\n",
       "3   60015357            1           1\n",
       "7   60015359            3           2\n",
       "11  60015362            1           1\n",
       "15  60015365            1           1\n",
       "19  10032318            1           1"
      ]
     },
     "execution_count": 18,
     "metadata": {},
     "output_type": "execute_result"
    }
   ],
   "source": [
    "dfcred_f.head()"
   ]
  },
  {
   "cell_type": "markdown",
   "metadata": {},
   "source": [
    "## 3.2 特征2：身份特征（dfuser_f）"
   ]
  },
  {
   "cell_type": "code",
   "execution_count": 19,
   "metadata": {
    "collapsed": true
   },
   "outputs": [],
   "source": [
    "userprofile=[\n",
    "            \"USERI_ID\", #用户ID\n",
    "            \"AGE\", #客户年龄\n",
    "#            \"OCCUPATION_ID\", #客户职业类型\n",
    "#            \"CITY_ID\", #归属地市\n",
    "#            \"COUNTY_ID\", #归属县市\n",
    "#            \"ONLINE_TIME\", #在网时长\n",
    "#            \"REAL_NAME_FLAG\", #是否实名认证\n",
    "            \"USER_CREDIT_ID\", #用户星级\n",
    "#            \"CALL_MARK\", #通话用户标识\n",
    "#            \"TELE_TYPE\", #终端型号\n",
    "#            \"TELE_FAC\", #终端品牌\n",
    "#            \"SMART_SYSTEM\", #终端操作系统\n",
    "            \"FIST_USE_DATE\", #终端首次使用时间\n",
    "           ]"
   ]
  },
  {
   "cell_type": "code",
   "execution_count": 20,
   "metadata": {
    "collapsed": true
   },
   "outputs": [],
   "source": [
    "def monthdiff(date1):\n",
    "    year1=int(date1[0:4])\n",
    "#    year2=int(date2[0:4])\n",
    "    year2=2017\n",
    "    mon1=int(date1[4:6])\n",
    "#    mon2=int(date2[4:6])\n",
    "    mon2=7\n",
    "    return (year2-year1)*12+(mon2-mon1)"
   ]
  },
  {
   "cell_type": "code",
   "execution_count": 21,
   "metadata": {
    "collapsed": true
   },
   "outputs": [],
   "source": [
    "dfuser_f=dfcomm[userprofile]\n",
    "dfuser_f.insert(1,\"LAST_MONTH\",pd.Series(map(monthdiff,dfuser_f.FIST_USE_DATE)))\n",
    "dfuser_f=dfuser_f.drop(\"FIST_USE_DATE\",1)"
   ]
  },
  {
   "cell_type": "code",
   "execution_count": 22,
   "metadata": {},
   "outputs": [
    {
     "data": {
      "text/html": [
       "<div>\n",
       "<style>\n",
       "    .dataframe thead tr:only-child th {\n",
       "        text-align: right;\n",
       "    }\n",
       "\n",
       "    .dataframe thead th {\n",
       "        text-align: left;\n",
       "    }\n",
       "\n",
       "    .dataframe tbody tr th {\n",
       "        vertical-align: top;\n",
       "    }\n",
       "</style>\n",
       "<table border=\"1\" class=\"dataframe\">\n",
       "  <thead>\n",
       "    <tr style=\"text-align: right;\">\n",
       "      <th></th>\n",
       "      <th>USERI_ID</th>\n",
       "      <th>LAST_MONTH</th>\n",
       "      <th>AGE</th>\n",
       "      <th>USER_CREDIT_ID</th>\n",
       "    </tr>\n",
       "  </thead>\n",
       "  <tbody>\n",
       "    <tr>\n",
       "      <th>0</th>\n",
       "      <td>60041552</td>\n",
       "      <td>25</td>\n",
       "      <td>4.0</td>\n",
       "      <td>4</td>\n",
       "    </tr>\n",
       "    <tr>\n",
       "      <th>1</th>\n",
       "      <td>60155603</td>\n",
       "      <td>28</td>\n",
       "      <td>4.0</td>\n",
       "      <td>5</td>\n",
       "    </tr>\n",
       "    <tr>\n",
       "      <th>2</th>\n",
       "      <td>60124892</td>\n",
       "      <td>5</td>\n",
       "      <td>7.0</td>\n",
       "      <td>4</td>\n",
       "    </tr>\n",
       "    <tr>\n",
       "      <th>3</th>\n",
       "      <td>60028102</td>\n",
       "      <td>9</td>\n",
       "      <td>4.0</td>\n",
       "      <td>4</td>\n",
       "    </tr>\n",
       "    <tr>\n",
       "      <th>4</th>\n",
       "      <td>60031641</td>\n",
       "      <td>20</td>\n",
       "      <td>6.0</td>\n",
       "      <td>5</td>\n",
       "    </tr>\n",
       "  </tbody>\n",
       "</table>\n",
       "</div>"
      ],
      "text/plain": [
       "   USERI_ID  LAST_MONTH  AGE  USER_CREDIT_ID\n",
       "0  60041552          25  4.0               4\n",
       "1  60155603          28  4.0               5\n",
       "2  60124892           5  7.0               4\n",
       "3  60028102           9  4.0               4\n",
       "4  60031641          20  6.0               5"
      ]
     },
     "execution_count": 22,
     "metadata": {},
     "output_type": "execute_result"
    }
   ],
   "source": [
    "dfuser_f.head()"
   ]
  },
  {
   "cell_type": "markdown",
   "metadata": {},
   "source": [
    "## 3.3 特征3：消费能力（dfcons_f）"
   ]
  },
  {
   "cell_type": "code",
   "execution_count": 23,
   "metadata": {
    "collapsed": true
   },
   "outputs": [],
   "source": [
    "consume=[\n",
    "    \"USERI_ID\",\n",
    "    \"GPRS_VOLUME\",\n",
    "    \"ARPU\",\n",
    "#    \"SP_FEE\",\n",
    "    \"date\"\n",
    "    ]"
   ]
  },
  {
   "cell_type": "code",
   "execution_count": 24,
   "metadata": {
    "collapsed": true
   },
   "outputs": [],
   "source": [
    "dfcons_f=dfcomm[consume]"
   ]
  },
  {
   "cell_type": "code",
   "execution_count": 25,
   "metadata": {
    "collapsed": true
   },
   "outputs": [],
   "source": [
    "# 提取4月、5月、6月的数据\n",
    "dfcons_f=round(dfcons_f.loc[(dfcons_f.date==\"201704\") | (dfcons_f.date==\"201705\") | (dfcons_f.date==\"201706\"),:].groupby(['USERI_ID'],axis=0).mean().reset_index())"
   ]
  },
  {
   "cell_type": "code",
   "execution_count": 26,
   "metadata": {
    "scrolled": true
   },
   "outputs": [
    {
     "data": {
      "text/html": [
       "<div>\n",
       "<style>\n",
       "    .dataframe thead tr:only-child th {\n",
       "        text-align: right;\n",
       "    }\n",
       "\n",
       "    .dataframe thead th {\n",
       "        text-align: left;\n",
       "    }\n",
       "\n",
       "    .dataframe tbody tr th {\n",
       "        vertical-align: top;\n",
       "    }\n",
       "</style>\n",
       "<table border=\"1\" class=\"dataframe\">\n",
       "  <thead>\n",
       "    <tr style=\"text-align: right;\">\n",
       "      <th></th>\n",
       "      <th>USERI_ID</th>\n",
       "      <th>GPRS_VOLUME</th>\n",
       "      <th>ARPU</th>\n",
       "    </tr>\n",
       "  </thead>\n",
       "  <tbody>\n",
       "    <tr>\n",
       "      <th>0</th>\n",
       "      <td>10001228</td>\n",
       "      <td>0.0</td>\n",
       "      <td>1.0</td>\n",
       "    </tr>\n",
       "    <tr>\n",
       "      <th>1</th>\n",
       "      <td>10001301</td>\n",
       "      <td>0.0</td>\n",
       "      <td>2.0</td>\n",
       "    </tr>\n",
       "    <tr>\n",
       "      <th>2</th>\n",
       "      <td>10001366</td>\n",
       "      <td>0.0</td>\n",
       "      <td>1.0</td>\n",
       "    </tr>\n",
       "    <tr>\n",
       "      <th>3</th>\n",
       "      <td>10001393</td>\n",
       "      <td>0.0</td>\n",
       "      <td>1.0</td>\n",
       "    </tr>\n",
       "    <tr>\n",
       "      <th>4</th>\n",
       "      <td>10001460</td>\n",
       "      <td>0.0</td>\n",
       "      <td>3.0</td>\n",
       "    </tr>\n",
       "  </tbody>\n",
       "</table>\n",
       "</div>"
      ],
      "text/plain": [
       "   USERI_ID  GPRS_VOLUME  ARPU\n",
       "0  10001228          0.0   1.0\n",
       "1  10001301          0.0   2.0\n",
       "2  10001366          0.0   1.0\n",
       "3  10001393          0.0   1.0\n",
       "4  10001460          0.0   3.0"
      ]
     },
     "execution_count": 26,
     "metadata": {},
     "output_type": "execute_result"
    }
   ],
   "source": [
    "dfcons_f.head()"
   ]
  },
  {
   "cell_type": "markdown",
   "metadata": {},
   "source": [
    "## 3.4 特征4：人脉关系（dfsocial_f）"
   ]
  },
  {
   "cell_type": "code",
   "execution_count": 27,
   "metadata": {
    "collapsed": true
   },
   "outputs": [],
   "source": [
    "socialnw=[\n",
    "    \"USERI_ID\",\n",
    "    \"NUM_OF_COMM\",\n",
    "    \"date\"\n",
    "]"
   ]
  },
  {
   "cell_type": "code",
   "execution_count": 28,
   "metadata": {
    "collapsed": true
   },
   "outputs": [],
   "source": [
    "dfsocial_f=dfcomm[socialnw]"
   ]
  },
  {
   "cell_type": "code",
   "execution_count": 29,
   "metadata": {
    "collapsed": true
   },
   "outputs": [],
   "source": [
    "# 提取4月、5月、6月的数据\n",
    "dfsocial_f=round(dfsocial_f.loc[(dfsocial_f.date==\"201704\") | (dfsocial_f.date==\"201705\") | (dfsocial_f.date==\"201706\"),:].groupby(['USERI_ID'],axis=0).mean().reset_index())"
   ]
  },
  {
   "cell_type": "markdown",
   "metadata": {},
   "source": [
    "## 3.5 特征5：语音通信行为（dfcall_f）"
   ]
  },
  {
   "cell_type": "code",
   "execution_count": 30,
   "metadata": {
    "collapsed": true
   },
   "outputs": [],
   "source": [
    "callbehavior=[\n",
    "            \"USERI_ID\", #用户ID\n",
    "#            \"COMM_FLAG\", #通信标识\n",
    "#            \"CALL_COUNTS\", #通话次数\n",
    "#            \"VPMN_CALL_COUNTS\", #虚拟网通话次数\n",
    "            \"TOLL_COUNTS\", #长途通话次数\n",
    "            \"WJ_CALL_COUNTS\", #网外通话次数\n",
    "            \"OUT_CALL_COUNTS\", #被叫通话次数\n",
    "#            \"CALLFW_COUNTS\", #呼转通话次数\n",
    "            \"QQW_CALL_COUNTS\", #亲情网通话次数\n",
    "#            \"BD_CALL_COUNTS\", #本地通话次数\n",
    "            \"ROAM_COUNTS\", #漫游通话次数\n",
    "#            \"CALL_DURATION_M\", #通话时长_分钟\n",
    "#            \"BILL_DURATION_M\", #收费通话时长_分钟\n",
    "#            \"VPMN_CALL_DURATION_M\", #vpmn通话时长_分钟\n",
    "#            \"WJ_CALL_DURATION_M\", #网外通话时长_分钟\n",
    "#            \"OUT_CALL_DURATION_M\", #被叫通话时长_分钟\n",
    "#            \"CALLFW_DURATION_M\", #呼转通话时长_分钟\n",
    "#            \"BD_CALL_DURATION_M\", #非漫游通话时长_分钟\n",
    "#            \"ROAM_DURATION_M\", #漫游通话时长_分钟\n",
    "#            \"TOLL_DURATION_M\", #长话通话时长_分钟\n",
    "#            \"QQW_CALL_DURATION_M\", #亲情网通话时长_分钟\n",
    "            \"date\" #数据日期\n",
    "]"
   ]
  },
  {
   "cell_type": "code",
   "execution_count": 31,
   "metadata": {
    "collapsed": true
   },
   "outputs": [],
   "source": [
    "dfcall_f=dfcomm[callbehavior]"
   ]
  },
  {
   "cell_type": "code",
   "execution_count": 32,
   "metadata": {
    "collapsed": true
   },
   "outputs": [],
   "source": [
    "# 提取4月、5月、6月的数据\n",
    "dfcall_f=round(dfcall_f.loc[(dfcall_f.date==\"201704\") | (dfcall_f.date==\"201705\") | (dfcall_f.date==\"201706\"),:].groupby(['USERI_ID'],axis=0).mean().reset_index())"
   ]
  },
  {
   "cell_type": "code",
   "execution_count": 33,
   "metadata": {},
   "outputs": [
    {
     "data": {
      "text/html": [
       "<div>\n",
       "<style>\n",
       "    .dataframe thead tr:only-child th {\n",
       "        text-align: right;\n",
       "    }\n",
       "\n",
       "    .dataframe thead th {\n",
       "        text-align: left;\n",
       "    }\n",
       "\n",
       "    .dataframe tbody tr th {\n",
       "        vertical-align: top;\n",
       "    }\n",
       "</style>\n",
       "<table border=\"1\" class=\"dataframe\">\n",
       "  <thead>\n",
       "    <tr style=\"text-align: right;\">\n",
       "      <th></th>\n",
       "      <th>USERI_ID</th>\n",
       "      <th>TOLL_COUNTS</th>\n",
       "      <th>WJ_CALL_COUNTS</th>\n",
       "      <th>OUT_CALL_COUNTS</th>\n",
       "      <th>QQW_CALL_COUNTS</th>\n",
       "      <th>ROAM_COUNTS</th>\n",
       "    </tr>\n",
       "  </thead>\n",
       "  <tbody>\n",
       "    <tr>\n",
       "      <th>0</th>\n",
       "      <td>10001228</td>\n",
       "      <td>1.0</td>\n",
       "      <td>4.0</td>\n",
       "      <td>9.0</td>\n",
       "      <td>7.0</td>\n",
       "      <td>0.0</td>\n",
       "    </tr>\n",
       "    <tr>\n",
       "      <th>1</th>\n",
       "      <td>10001301</td>\n",
       "      <td>0.0</td>\n",
       "      <td>1.0</td>\n",
       "      <td>9.0</td>\n",
       "      <td>8.0</td>\n",
       "      <td>0.0</td>\n",
       "    </tr>\n",
       "    <tr>\n",
       "      <th>2</th>\n",
       "      <td>10001366</td>\n",
       "      <td>0.0</td>\n",
       "      <td>1.0</td>\n",
       "      <td>5.0</td>\n",
       "      <td>5.0</td>\n",
       "      <td>0.0</td>\n",
       "    </tr>\n",
       "    <tr>\n",
       "      <th>3</th>\n",
       "      <td>10001393</td>\n",
       "      <td>0.0</td>\n",
       "      <td>0.0</td>\n",
       "      <td>0.0</td>\n",
       "      <td>0.0</td>\n",
       "      <td>0.0</td>\n",
       "    </tr>\n",
       "    <tr>\n",
       "      <th>4</th>\n",
       "      <td>10001460</td>\n",
       "      <td>9.0</td>\n",
       "      <td>9.0</td>\n",
       "      <td>9.0</td>\n",
       "      <td>7.0</td>\n",
       "      <td>9.0</td>\n",
       "    </tr>\n",
       "  </tbody>\n",
       "</table>\n",
       "</div>"
      ],
      "text/plain": [
       "   USERI_ID  TOLL_COUNTS  WJ_CALL_COUNTS  OUT_CALL_COUNTS  QQW_CALL_COUNTS  \\\n",
       "0  10001228          1.0             4.0              9.0              7.0   \n",
       "1  10001301          0.0             1.0              9.0              8.0   \n",
       "2  10001366          0.0             1.0              5.0              5.0   \n",
       "3  10001393          0.0             0.0              0.0              0.0   \n",
       "4  10001460          9.0             9.0              9.0              7.0   \n",
       "\n",
       "   ROAM_COUNTS  \n",
       "0          0.0  \n",
       "1          0.0  \n",
       "2          0.0  \n",
       "3          0.0  \n",
       "4          9.0  "
      ]
     },
     "execution_count": 33,
     "metadata": {},
     "output_type": "execute_result"
    }
   ],
   "source": [
    "dfcall_f.head()"
   ]
  },
  {
   "cell_type": "markdown",
   "metadata": {},
   "source": [
    "## 3.6 特征6：漫游行为（dfroam_f）"
   ]
  },
  {
   "cell_type": "code",
   "execution_count": 34,
   "metadata": {
    "collapsed": true
   },
   "outputs": [],
   "source": [
    "roambehavior=[\n",
    "            \"USERI_ID\", #用户ID\n",
    "            \"ROAM_TYPE\"#漫游类型\n",
    "]\n",
    "dfroam_f=dfcall[roambehavior]\n",
    "dfroam_f=pd.concat([dfroam_f,pd.get_dummies(dfroam_f.ROAM_TYPE,prefix=\"R\")],axis=1).drop('ROAM_TYPE',1).groupby(['USERI_ID'],axis=0).count().reset_index()\n",
    "#dfroam_f.columns=['USERI_ID','R0','R1','R4','R5','R6','R8']"
   ]
  },
  {
   "cell_type": "code",
   "execution_count": 35,
   "metadata": {
    "collapsed": true
   },
   "outputs": [],
   "source": [
    "dfroam_f=dfroam_f.iloc[:,0:-1]"
   ]
  },
  {
   "cell_type": "code",
   "execution_count": 36,
   "metadata": {},
   "outputs": [
    {
     "data": {
      "text/html": [
       "<div>\n",
       "<style>\n",
       "    .dataframe thead tr:only-child th {\n",
       "        text-align: right;\n",
       "    }\n",
       "\n",
       "    .dataframe thead th {\n",
       "        text-align: left;\n",
       "    }\n",
       "\n",
       "    .dataframe tbody tr th {\n",
       "        vertical-align: top;\n",
       "    }\n",
       "</style>\n",
       "<table border=\"1\" class=\"dataframe\">\n",
       "  <thead>\n",
       "    <tr style=\"text-align: right;\">\n",
       "      <th></th>\n",
       "      <th>USERI_ID</th>\n",
       "      <th>R_0</th>\n",
       "      <th>R_1</th>\n",
       "      <th>R_4</th>\n",
       "      <th>R_5</th>\n",
       "      <th>R_6</th>\n",
       "    </tr>\n",
       "  </thead>\n",
       "  <tbody>\n",
       "    <tr>\n",
       "      <th>0</th>\n",
       "      <td>10001228</td>\n",
       "      <td>50</td>\n",
       "      <td>50</td>\n",
       "      <td>50</td>\n",
       "      <td>50</td>\n",
       "      <td>50</td>\n",
       "    </tr>\n",
       "    <tr>\n",
       "      <th>1</th>\n",
       "      <td>10001301</td>\n",
       "      <td>37</td>\n",
       "      <td>37</td>\n",
       "      <td>37</td>\n",
       "      <td>37</td>\n",
       "      <td>37</td>\n",
       "    </tr>\n",
       "    <tr>\n",
       "      <th>2</th>\n",
       "      <td>10001366</td>\n",
       "      <td>48</td>\n",
       "      <td>48</td>\n",
       "      <td>48</td>\n",
       "      <td>48</td>\n",
       "      <td>48</td>\n",
       "    </tr>\n",
       "    <tr>\n",
       "      <th>3</th>\n",
       "      <td>10001460</td>\n",
       "      <td>880</td>\n",
       "      <td>880</td>\n",
       "      <td>880</td>\n",
       "      <td>880</td>\n",
       "      <td>880</td>\n",
       "    </tr>\n",
       "    <tr>\n",
       "      <th>4</th>\n",
       "      <td>10001477</td>\n",
       "      <td>55</td>\n",
       "      <td>55</td>\n",
       "      <td>55</td>\n",
       "      <td>55</td>\n",
       "      <td>55</td>\n",
       "    </tr>\n",
       "  </tbody>\n",
       "</table>\n",
       "</div>"
      ],
      "text/plain": [
       "   USERI_ID  R_0  R_1  R_4  R_5  R_6\n",
       "0  10001228   50   50   50   50   50\n",
       "1  10001301   37   37   37   37   37\n",
       "2  10001366   48   48   48   48   48\n",
       "3  10001460  880  880  880  880  880\n",
       "4  10001477   55   55   55   55   55"
      ]
     },
     "execution_count": 36,
     "metadata": {},
     "output_type": "execute_result"
    }
   ],
   "source": [
    "dfroam_f.head()"
   ]
  },
  {
   "cell_type": "code",
   "execution_count": 37,
   "metadata": {
    "collapsed": true
   },
   "outputs": [],
   "source": [
    "#仅仅找出被叫的漫游\n",
    "\n",
    "#roambehavior=[\n",
    "#            \"USERI_ID\", #用户ID\n",
    "#            \"ROAM_TYPE\",#漫游类型\n",
    "#            \"CALL_TYPE\",#呼叫类型\n",
    "#]\n",
    "#dfroam_f=dfcall[roambehavior]\n",
    "#dfroam_f=pd.concat([dfroam_f,pd.get_dummies(dfroam_f.ROAM_TYPE)],axis=1).drop('ROAM_TYPE',1).groupby(['USERI_ID','CALL_TYPE'],axis=0).sum().reset_index()\n",
    "#dfroam_f=dfroam_f[dfroam_f.CALL_TYPE==1].drop(\"CALL_TYPE\",1)\n",
    "#dfroam_f.columns=['USERI_ID','R0','R1','R4','R5','R6','R8']"
   ]
  },
  {
   "cell_type": "markdown",
   "metadata": {},
   "source": [
    "## 3.7 特征7：上网行为（dfinternet_f)"
   ]
  },
  {
   "cell_type": "code",
   "execution_count": 38,
   "metadata": {
    "collapsed": true
   },
   "outputs": [],
   "source": [
    "#netbehavior=[\n",
    "#    \"USERI_ID\",\n",
    "#    \"APP_CLASSIFY_TYPE\"\n",
    "#    ]"
   ]
  },
  {
   "cell_type": "code",
   "execution_count": 39,
   "metadata": {
    "collapsed": true
   },
   "outputs": [],
   "source": [
    "#dfinternet_f=dfnet[netbehavior]"
   ]
  },
  {
   "cell_type": "code",
   "execution_count": 40,
   "metadata": {
    "collapsed": true
   },
   "outputs": [],
   "source": [
    "#dfinternet_f=pd.concat([dfinternet_f,pd.get_dummies(dfinternet_f.APP_CLASSIFY_TYPE)],axis=1).drop('APP_CLASSIFY_TYPE',1).groupby(['USERI_ID'],axis=0).sum().reset_index()"
   ]
  },
  {
   "cell_type": "markdown",
   "metadata": {},
   "source": [
    "## 3.8 特征8：主被叫次数（dfmomt_f）"
   ]
  },
  {
   "cell_type": "code",
   "execution_count": 41,
   "metadata": {
    "collapsed": true
   },
   "outputs": [],
   "source": [
    "momtbehavior=[\n",
    "            \"USERI_ID\", #用户ID\n",
    "            \"CALL_TYPE\",#呼叫类型    \n",
    "]"
   ]
  },
  {
   "cell_type": "code",
   "execution_count": 42,
   "metadata": {
    "collapsed": true
   },
   "outputs": [],
   "source": [
    "dfmomt_f=pd.concat([dfcall.loc[dfcall.CALL_TYPE==0,momtbehavior],dfcall.loc[dfcall.CALL_TYPE==1,momtbehavior]],axis=0)"
   ]
  },
  {
   "cell_type": "code",
   "execution_count": 43,
   "metadata": {
    "collapsed": true
   },
   "outputs": [],
   "source": [
    "dfmomt_f=pd.concat([dfmomt_f,pd.get_dummies(dfmomt_f.CALL_TYPE)],axis=1).drop('CALL_TYPE',1).groupby(['USERI_ID'],axis=0).sum().reset_index()"
   ]
  },
  {
   "cell_type": "code",
   "execution_count": 44,
   "metadata": {
    "collapsed": true
   },
   "outputs": [],
   "source": [
    "dfmomt_f.columns=['USERI_ID','MOCALL_COUNTS','MTCALL_COUNTS']"
   ]
  },
  {
   "cell_type": "markdown",
   "metadata": {},
   "source": [
    "# 4 合并宽表"
   ]
  },
  {
   "cell_type": "code",
   "execution_count": 45,
   "metadata": {
    "collapsed": true
   },
   "outputs": [],
   "source": [
    "#df=dfpred.merge(dfuser_f,on=\"USERI_ID\",how=\"left\").merge(dfcons_f,on=\"USERI_ID\",how=\"left\").merge(dfcall_f,on=\"USERI_ID\",how=\"left\").merge(dfroam_f,on=\"USERI_ID\",how=\"left\").merge(dfcred_f,on=\"USERI_ID\",how=\"left\").merge(dfsocial_f,on=\"USERI_ID\",how=\"left\").merge(dfinternet_f,on=\"USERI_ID\",how=\"left\")\n",
    "df=dfpred.merge(dfuser_f,on=\"USERI_ID\",how=\"left\").merge(dfcons_f,on=\"USERI_ID\",how=\"left\").merge(dfcall_f,on=\"USERI_ID\",how=\"left\").merge(dfroam_f,on=\"USERI_ID\",how=\"left\").merge(dfcred_f,on=\"USERI_ID\",how=\"left\").merge(dfsocial_f,on=\"USERI_ID\",how=\"left\").merge(dfmomt_f,on=\"USERI_ID\",how=\"left\")"
   ]
  },
  {
   "cell_type": "code",
   "execution_count": 46,
   "metadata": {
    "collapsed": true
   },
   "outputs": [],
   "source": [
    "dfuserid=df.USERI_ID"
   ]
  },
  {
   "cell_type": "code",
   "execution_count": 47,
   "metadata": {
    "collapsed": true
   },
   "outputs": [],
   "source": [
    "df=df.drop(\"USERI_ID\",1).drop(\"R_5\",1).drop(\"R_6\",1)\n",
    "df=df.fillna(df.median()) #用中位值填充数值型空值"
   ]
  },
  {
   "cell_type": "code",
   "execution_count": 48,
   "metadata": {},
   "outputs": [
    {
     "data": {
      "text/plain": [
       "Index(['RISK_Flag', 'LAST_MONTH', 'AGE', 'USER_CREDIT_ID', 'GPRS_VOLUME',\n",
       "       'ARPU', 'TOLL_COUNTS', 'WJ_CALL_COUNTS', 'OUT_CALL_COUNTS',\n",
       "       'QQW_CALL_COUNTS', 'ROAM_COUNTS', 'R_0', 'R_1', 'R_4', 'Stop_Days06',\n",
       "       'Stop_Cnt06', 'NUM_OF_COMM', 'MOCALL_COUNTS', 'MTCALL_COUNTS'],\n",
       "      dtype='object')"
      ]
     },
     "execution_count": 48,
     "metadata": {},
     "output_type": "execute_result"
    }
   ],
   "source": [
    "df.columns"
   ]
  },
  {
   "cell_type": "markdown",
   "metadata": {},
   "source": [
    "# 5 Blending模型"
   ]
  },
  {
   "cell_type": "code",
   "execution_count": 49,
   "metadata": {
    "collapsed": true
   },
   "outputs": [],
   "source": [
    "X1_dev,X1_test,Y1_dev,Y1_test=train_test_split(df.drop('RISK_Flag',1),df.RISK_Flag,test_size=0.20)"
   ]
  },
  {
   "cell_type": "code",
   "execution_count": 50,
   "metadata": {
    "collapsed": true
   },
   "outputs": [],
   "source": [
    "#idx = np.random.permutation(df.shape[0])\n",
    "#df = df.iloc[idx]"
   ]
  },
  {
   "cell_type": "code",
   "execution_count": 51,
   "metadata": {
    "collapsed": true
   },
   "outputs": [],
   "source": [
    "X=df.drop('RISK_Flag',1)\n",
    "Y=df.RISK_Flag\n",
    "\n",
    "dev_cutoff = int(len(df) * 4/5)\n",
    "X_dev = X[:dev_cutoff]\n",
    "Y_dev = Y[:dev_cutoff]\n",
    "X_test = X[dev_cutoff:]\n",
    "Y_test = Y[dev_cutoff:]"
   ]
  },
  {
   "cell_type": "code",
   "execution_count": 52,
   "metadata": {
    "collapsed": true
   },
   "outputs": [],
   "source": [
    "n_folds = 5\n",
    "n_trees = 200"
   ]
  },
  {
   "cell_type": "code",
   "execution_count": 53,
   "metadata": {
    "collapsed": true
   },
   "outputs": [],
   "source": [
    "clfs = [\n",
    "        RandomForestClassifier(n_estimators = n_trees, criterion = 'gini'),\n",
    "        ExtraTreesClassifier(n_estimators = n_trees * 2, criterion = 'gini'),\n",
    "        GradientBoostingClassifier(n_estimators = n_trees),\n",
    "    ]"
   ]
  },
  {
   "cell_type": "code",
   "execution_count": 54,
   "metadata": {
    "collapsed": true
   },
   "outputs": [],
   "source": [
    "skf = list(StratifiedKFold(Y_dev, n_folds))"
   ]
  },
  {
   "cell_type": "code",
   "execution_count": 55,
   "metadata": {
    "collapsed": true
   },
   "outputs": [],
   "source": [
    "blend_train = np.zeros((X_dev.shape[0], len(clfs))) # Number of training data x Number of classifiers\n",
    "blend_test = np.zeros((X_test.shape[0], len(clfs))) # Number of testing data x Number of classifiers"
   ]
  },
  {
   "cell_type": "code",
   "execution_count": 56,
   "metadata": {},
   "outputs": [
    {
     "name": "stdout",
     "output_type": "stream",
     "text": [
      "X_test.shape = (5602, 18)\n",
      "blend_train.shape = (22405, 3)\n",
      "blend_test.shape = (5602, 3)\n"
     ]
    }
   ],
   "source": [
    "print('X_test.shape = %s' % (str(X_test.shape)))\n",
    "print('blend_train.shape = %s' % (str(blend_train.shape)))\n",
    "print('blend_test.shape = %s' % (str(blend_test.shape)))"
   ]
  },
  {
   "cell_type": "code",
   "execution_count": 57,
   "metadata": {
    "scrolled": false
   },
   "outputs": [
    {
     "name": "stdout",
     "output_type": "stream",
     "text": [
      "Training classifier [0]\n",
      "Fold [0]\n",
      "Fold [1]\n",
      "Fold [2]\n",
      "Fold [3]\n",
      "Fold [4]\n",
      "Training classifier [1]\n",
      "Fold [0]\n",
      "Fold [1]\n",
      "Fold [2]\n",
      "Fold [3]\n",
      "Fold [4]\n",
      "Training classifier [2]\n",
      "Fold [0]\n",
      "Fold [1]\n",
      "Fold [2]\n",
      "Fold [3]\n",
      "Fold [4]\n",
      "Y_dev.shape = 22405\n",
      "Accuracy = 0.839164584077\n"
     ]
    }
   ],
   "source": [
    "# For each classifier, we train the number of fold times (=len(skf))\n",
    "for j, clf in enumerate(clfs):\n",
    "    print('Training classifier [%s]' % (j))\n",
    "    blend_test_j = np.zeros((X_test.shape[0], len(skf))) # Number of testing data x Number of folds , we will take the mean of the predictions later\n",
    "    for i, (train_index, cv_index) in enumerate(skf):\n",
    "        print('Fold [%s]' % (i))\n",
    "\n",
    "        # This is the training and validation set\n",
    "        X_train = X_dev.iloc[train_index]\n",
    "        Y_train = Y_dev.iloc[train_index]\n",
    "        X_cv = X_dev.iloc[cv_index]\n",
    "        Y_cv = Y_dev.iloc[cv_index]\n",
    "\n",
    "        clf.fit(X_train, Y_train)\n",
    "\n",
    "        # This output will be the basis for our blended classifier to train against,\n",
    "        # which is also the output of our classifiers\n",
    "        blend_train[cv_index, j] = clf.predict(X_cv)\n",
    "        blend_test_j[:, i] = clf.predict(X_test)\n",
    "    # Take the mean of the predictions of the cross validation set\n",
    "    blend_test[:, j] = blend_test_j.mean(1)\n",
    "\n",
    "print('Y_dev.shape = %s' % (Y_dev.shape))\n",
    "\n",
    "# Start blending!\n",
    "bclf = LogisticRegression()\n",
    "bclf.fit(blend_train, Y_dev)\n",
    "\n",
    "# Predict now\n",
    "Y_test_predict = bclf.predict(blend_test)\n",
    "score = metrics.accuracy_score(Y_test, Y_test_predict)\n",
    "print('Accuracy = %s' % (score))"
   ]
  },
  {
   "cell_type": "code",
   "execution_count": 58,
   "metadata": {
    "scrolled": true
   },
   "outputs": [
    {
     "name": "stdout",
     "output_type": "stream",
     "text": [
      "0.75651324166\n",
      "             precision    recall  f1-score   support\n",
      "\n",
      "          0       0.79      0.77      0.78      3142\n",
      "          1       0.72      0.74      0.73      2460\n",
      "\n",
      "avg / total       0.76      0.76      0.76      5602\n",
      "\n",
      "0.510203165778\n"
     ]
    }
   ],
   "source": [
    "clf_tree=DecisionTreeClassifier()\n",
    "clf_tree.fit(X_dev,Y_dev)\n",
    "score_tree=cross_val_score(clf_tree,X_test,Y_test,cv=10).mean()\n",
    "clf_tree.feature_importances_\n",
    "y_pred_tree=clf_tree.predict(X_test)\n",
    "ck_tree=cohen_kappa_score(Y_test, y_pred_tree)\n",
    "print(score_tree)\n",
    "print(classification_report(Y_test, y_pred_tree))\n",
    "print(ck_tree)"
   ]
  },
  {
   "cell_type": "code",
   "execution_count": 59,
   "metadata": {},
   "outputs": [
    {
     "name": "stdout",
     "output_type": "stream",
     "text": [
      "0.516242360581\n",
      "             precision    recall  f1-score   support\n",
      "\n",
      "          0       0.99      0.99      0.99      2786\n",
      "          1       0.99      0.99      0.99      2816\n",
      "\n",
      "avg / total       0.99      0.99      0.99      5602\n",
      "\n",
      "0.977150624322\n"
     ]
    }
   ],
   "source": [
    "clf_tree=DecisionTreeClassifier()\n",
    "clf_tree.fit(X1_dev,Y1_dev)\n",
    "score_tree=cross_val_score(clf_tree,X1_test,Y_test,cv=10).mean()\n",
    "clf_tree.feature_importances_\n",
    "y_pred_tree=clf_tree.predict(X1_test)\n",
    "ck_tree=cohen_kappa_score(Y1_test, y_pred_tree)\n",
    "print(score_tree)\n",
    "print(classification_report(Y1_test, y_pred_tree))\n",
    "print(ck_tree)"
   ]
  },
  {
   "cell_type": "code",
   "execution_count": null,
   "metadata": {
    "collapsed": true
   },
   "outputs": [],
   "source": []
  }
 ],
 "metadata": {
  "kernelspec": {
   "display_name": "Python 3",
   "language": "python",
   "name": "python3"
  },
  "language_info": {
   "codemirror_mode": {
    "name": "ipython",
    "version": 3
   },
   "file_extension": ".py",
   "mimetype": "text/x-python",
   "name": "python",
   "nbconvert_exporter": "python",
   "pygments_lexer": "ipython3",
   "version": "3.6.1"
  }
 },
 "nbformat": 4,
 "nbformat_minor": 2
}
