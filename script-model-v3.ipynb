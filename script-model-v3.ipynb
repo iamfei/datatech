{
 "cells": [
  {
   "cell_type": "code",
   "execution_count": 1,
   "metadata": {
    "collapsed": true
   },
   "outputs": [],
   "source": [
    "from sklearn.tree import DecisionTreeClassifier\n",
    "from sklearn.model_selection import train_test_split\n",
    "import pandas as pd\n",
    "import matplotlib.pyplot as plt\n",
    "import numpy as np\n",
    "import seaborn as sns\n",
    "import numpy as np\n",
    "import time"
   ]
  },
  {
   "cell_type": "code",
   "execution_count": 2,
   "metadata": {
    "collapsed": true
   },
   "outputs": [],
   "source": [
    "start=time.time()"
   ]
  },
  {
   "cell_type": "markdown",
   "metadata": {},
   "source": [
    "#  1 导入数据"
   ]
  },
  {
   "cell_type": "code",
   "execution_count": 3,
   "metadata": {},
   "outputs": [
    {
     "name": "stderr",
     "output_type": "stream",
     "text": [
      "/anaconda/lib/python3.6/site-packages/IPython/core/interactiveshell.py:2717: DtypeWarning: Columns (1,9) have mixed types. Specify dtype option on import or set low_memory=False.\n",
      "  interactivity=interactivity, compiler=compiler, result=result)\n"
     ]
    }
   ],
   "source": [
    "dfnopay=pd.read_csv(\"DataTech_Credit_Train_Communication1.txt\") #用户违约类\n",
    "dfpred=pd.read_csv(\"DataTech_Credit_Train_User1.txt\")  #题目提供的测试集，需分割训练和测试集合\n",
    "dfcomm=pd.read_csv(\"DataTech_公共数据_基础信息1.txt\",encoding='utf-8',na_values=['\\\\N']) #用户基本信息。由于含有中文，需要指定utf-8编码，并指定空值类型\n",
    "dfcall=pd.read_csv(\"DataTech_公共数据_通话1.txt\",encoding='utf-8',na_values=['\\\\N']) #用户通话类。由于含有中文，需要指定utf-8编码，并指定空值类型\n",
    "#dfnet=pd.read_csv(\"DataTech_公共数据_上网1.txt\",encoding='utf-8',na_values=['\\\\N'])\n",
    "\n",
    "dfnopay.columns=[\"USERI_ID\",\"Stop_Days\",\"Stop_Cnt\",\"date\"]\n",
    "dfpred.columns=[\"USERI_ID\",\"RISK_Flag\"]\n",
    "dfcomm.columns=[\"USERI_ID\", \"AGE\", \"OCCUPATION_ID\", \"CITY_ID\", \"COUNTY_ID\", \"ONLINE_TIME\", \"REAL_NAME_FLAG\", \"USER_CREDIT_ID\", \"CALL_MARK\", \"COMM_FLAG\", \"CALL_COUNTS\", \"VPMN_CALL_COUNTS\", \"TOLL_COUNTS\", \"WJ_CALL_COUNTS\", \"OUT_CALL_COUNTS\", \"CALLFW_COUNTS\", \"QQW_CALL_COUNTS\", \"BD_CALL_COUNTS\", \"ROAM_COUNTS\", \"CALL_DURATION_M\", \"BILL_DURATION_M\", \"VPMN_CALL_DURATION_M\", \"WJ_CALL_DURATION_M\", \"OUT_CALL_DURATION_M\", \"CALLFW_DURATION_M\", \"BD_CALL_DURATION_M\", \"ROAM_DURATION_M\", \"TOLL_DURATION_M\", \"QQW_CALL_DURATION_M\", \"GPRS_VOLUME\", \"ARPU\", \"SP_FEE\", \"TELE_TYPE\", \"TELE_FAC\", \"SMART_SYSTEM\", \"FIST_USE_DATE\", \"NUM_OF_COMM\", \"date\"]\n",
    "dfcall.columns=[\"USERI_ID\", \"OPP_USER_NUMBER\", \"START_TIME\", \"DURATION\", \"CALL_TYPE\", \"ROAM_TYPE\", \"HPLMN1\", \"HPLMN2\", \"VPLMN1\", \"VPLMN2\", \"OPP_HOME_AREACODE\", \"TOLL_TYPE\", \"industry\", \"serv_type\"]\n",
    "#dfnet.columns=[\"USERI_ID\", \"TIME_FRAME\", \"FIRST_DOMAIN_NAME\", \"APP_NAME\", \"APP_CLASSIFY_TYPE\"]"
   ]
  },
  {
   "cell_type": "code",
   "execution_count": 4,
   "metadata": {},
   "outputs": [
    {
     "data": {
      "text/html": [
       "<div>\n",
       "<style>\n",
       "    .dataframe thead tr:only-child th {\n",
       "        text-align: right;\n",
       "    }\n",
       "\n",
       "    .dataframe thead th {\n",
       "        text-align: left;\n",
       "    }\n",
       "\n",
       "    .dataframe tbody tr th {\n",
       "        vertical-align: top;\n",
       "    }\n",
       "</style>\n",
       "<table border=\"1\" class=\"dataframe\">\n",
       "  <thead>\n",
       "    <tr style=\"text-align: right;\">\n",
       "      <th></th>\n",
       "      <th>USERI_ID</th>\n",
       "      <th>RISK_Flag</th>\n",
       "    </tr>\n",
       "  </thead>\n",
       "  <tbody>\n",
       "    <tr>\n",
       "      <th>0</th>\n",
       "      <td>60015357</td>\n",
       "      <td>0</td>\n",
       "    </tr>\n",
       "    <tr>\n",
       "      <th>1</th>\n",
       "      <td>60015359</td>\n",
       "      <td>1</td>\n",
       "    </tr>\n",
       "    <tr>\n",
       "      <th>2</th>\n",
       "      <td>60015362</td>\n",
       "      <td>1</td>\n",
       "    </tr>\n",
       "    <tr>\n",
       "      <th>3</th>\n",
       "      <td>60015365</td>\n",
       "      <td>0</td>\n",
       "    </tr>\n",
       "    <tr>\n",
       "      <th>4</th>\n",
       "      <td>10032318</td>\n",
       "      <td>1</td>\n",
       "    </tr>\n",
       "  </tbody>\n",
       "</table>\n",
       "</div>"
      ],
      "text/plain": [
       "   USERI_ID  RISK_Flag\n",
       "0  60015357          0\n",
       "1  60015359          1\n",
       "2  60015362          1\n",
       "3  60015365          0\n",
       "4  10032318          1"
      ]
     },
     "execution_count": 4,
     "metadata": {},
     "output_type": "execute_result"
    }
   ],
   "source": [
    "dfpred.head()"
   ]
  },
  {
   "cell_type": "code",
   "execution_count": 5,
   "metadata": {
    "scrolled": true
   },
   "outputs": [
    {
     "name": "stdout",
     "output_type": "stream",
     "text": [
      "=======dfnopay======\n",
      "<class 'pandas.core.frame.DataFrame'>\n",
      "RangeIndex: 28000 entries, 0 to 27999\n",
      "Data columns (total 4 columns):\n",
      "USERI_ID     28000 non-null int64\n",
      "Stop_Days    28000 non-null int64\n",
      "Stop_Cnt     28000 non-null int64\n",
      "date         28000 non-null int64\n",
      "dtypes: int64(4)\n",
      "memory usage: 875.1 KB\n",
      "=======dfpred======\n",
      "<class 'pandas.core.frame.DataFrame'>\n",
      "RangeIndex: 7000 entries, 0 to 6999\n",
      "Data columns (total 2 columns):\n",
      "USERI_ID     7000 non-null int64\n",
      "RISK_Flag    7000 non-null int64\n",
      "dtypes: int64(2)\n",
      "memory usage: 109.5 KB\n",
      "=======dfcomm======\n",
      "<class 'pandas.core.frame.DataFrame'>\n",
      "RangeIndex: 83091 entries, 0 to 83090\n",
      "Data columns (total 38 columns):\n",
      "USERI_ID                83091 non-null int64\n",
      "AGE                     79089 non-null float64\n",
      "OCCUPATION_ID           83091 non-null int64\n",
      "CITY_ID                 83091 non-null int64\n",
      "COUNTY_ID               83091 non-null object\n",
      "ONLINE_TIME             83091 non-null int64\n",
      "REAL_NAME_FLAG          83091 non-null int64\n",
      "USER_CREDIT_ID          76850 non-null float64\n",
      "CALL_MARK               83091 non-null int64\n",
      "COMM_FLAG               83091 non-null int64\n",
      "CALL_COUNTS             83091 non-null int64\n",
      "VPMN_CALL_COUNTS        83091 non-null int64\n",
      "TOLL_COUNTS             83091 non-null int64\n",
      "WJ_CALL_COUNTS          83091 non-null int64\n",
      "OUT_CALL_COUNTS         83091 non-null int64\n",
      "CALLFW_COUNTS           83091 non-null int64\n",
      "QQW_CALL_COUNTS         83091 non-null int64\n",
      "BD_CALL_COUNTS          83091 non-null int64\n",
      "ROAM_COUNTS             83091 non-null int64\n",
      "CALL_DURATION_M         83091 non-null int64\n",
      "BILL_DURATION_M         83091 non-null int64\n",
      "VPMN_CALL_DURATION_M    83091 non-null int64\n",
      "WJ_CALL_DURATION_M      83091 non-null int64\n",
      "OUT_CALL_DURATION_M     83091 non-null int64\n",
      "CALLFW_DURATION_M       83091 non-null int64\n",
      "BD_CALL_DURATION_M      83091 non-null int64\n",
      "ROAM_DURATION_M         83091 non-null int64\n",
      "TOLL_DURATION_M         83091 non-null int64\n",
      "QQW_CALL_DURATION_M     83091 non-null int64\n",
      "GPRS_VOLUME             83091 non-null int64\n",
      "ARPU                    83037 non-null float64\n",
      "SP_FEE                  83037 non-null float64\n",
      "TELE_TYPE               77323 non-null object\n",
      "TELE_FAC                77323 non-null object\n",
      "SMART_SYSTEM            77323 non-null object\n",
      "FIST_USE_DATE           83056 non-null float64\n",
      "NUM_OF_COMM             78850 non-null float64\n",
      "date                    83091 non-null int64\n",
      "dtypes: float64(6), int64(28), object(4)\n",
      "memory usage: 24.1+ MB\n",
      "=======dfcall======\n",
      "<class 'pandas.core.frame.DataFrame'>\n",
      "RangeIndex: 3065439 entries, 0 to 3065438\n",
      "Data columns (total 14 columns):\n",
      "USERI_ID             int64\n",
      "OPP_USER_NUMBER      object\n",
      "START_TIME           int64\n",
      "DURATION             float64\n",
      "CALL_TYPE            int64\n",
      "ROAM_TYPE            int64\n",
      "HPLMN1               int64\n",
      "HPLMN2               int64\n",
      "VPLMN1               int64\n",
      "VPLMN2               object\n",
      "OPP_HOME_AREACODE    float64\n",
      "TOLL_TYPE            int64\n",
      "industry             object\n",
      "serv_type            object\n",
      "dtypes: float64(2), int64(8), object(4)\n",
      "memory usage: 327.4+ MB\n"
     ]
    }
   ],
   "source": [
    "print(\"=======dfnopay======\")\n",
    "dfnopay.info() #数据完整\n",
    "print(\"=======dfpred======\")\n",
    "dfpred.info() #数据完整\n",
    "print(\"=======dfcomm======\")\n",
    "dfcomm.info() #存在空值\n",
    "print(\"=======dfcall======\")\n",
    "dfcall.info() #存在空值"
   ]
  },
  {
   "cell_type": "code",
   "execution_count": 6,
   "metadata": {
    "scrolled": true
   },
   "outputs": [
    {
     "name": "stdout",
     "output_type": "stream",
     "text": [
      "======dfnopay=======\n",
      "USERI_ID     0\n",
      "Stop_Days    0\n",
      "Stop_Cnt     0\n",
      "date         0\n",
      "dtype: int64\n",
      "======dfpred=======\n",
      "USERI_ID     0\n",
      "RISK_Flag    0\n",
      "dtype: int64\n",
      "======dfcomm=======\n",
      "USERI_ID                   0\n",
      "AGE                     4002\n",
      "OCCUPATION_ID              0\n",
      "CITY_ID                    0\n",
      "COUNTY_ID                  0\n",
      "ONLINE_TIME                0\n",
      "REAL_NAME_FLAG             0\n",
      "USER_CREDIT_ID          6241\n",
      "CALL_MARK                  0\n",
      "COMM_FLAG                  0\n",
      "CALL_COUNTS                0\n",
      "VPMN_CALL_COUNTS           0\n",
      "TOLL_COUNTS                0\n",
      "WJ_CALL_COUNTS             0\n",
      "OUT_CALL_COUNTS            0\n",
      "CALLFW_COUNTS              0\n",
      "QQW_CALL_COUNTS            0\n",
      "BD_CALL_COUNTS             0\n",
      "ROAM_COUNTS                0\n",
      "CALL_DURATION_M            0\n",
      "BILL_DURATION_M            0\n",
      "VPMN_CALL_DURATION_M       0\n",
      "WJ_CALL_DURATION_M         0\n",
      "OUT_CALL_DURATION_M        0\n",
      "CALLFW_DURATION_M          0\n",
      "BD_CALL_DURATION_M         0\n",
      "ROAM_DURATION_M            0\n",
      "TOLL_DURATION_M            0\n",
      "QQW_CALL_DURATION_M        0\n",
      "GPRS_VOLUME                0\n",
      "ARPU                      54\n",
      "SP_FEE                    54\n",
      "TELE_TYPE               5768\n",
      "TELE_FAC                5768\n",
      "SMART_SYSTEM            5768\n",
      "FIST_USE_DATE             35\n",
      "NUM_OF_COMM             4241\n",
      "date                       0\n",
      "dtype: int64\n",
      "======dfcall=======\n",
      "USERI_ID                   0\n",
      "OPP_USER_NUMBER            0\n",
      "START_TIME                 0\n",
      "DURATION                 854\n",
      "CALL_TYPE                  0\n",
      "ROAM_TYPE                  0\n",
      "HPLMN1                     0\n",
      "HPLMN2                     0\n",
      "VPLMN1                     0\n",
      "VPLMN2                     0\n",
      "OPP_HOME_AREACODE       4030\n",
      "TOLL_TYPE                  0\n",
      "industry             3015137\n",
      "serv_type            3015137\n",
      "dtype: int64\n"
     ]
    }
   ],
   "source": [
    "print(\"======dfnopay=======\")\n",
    "print(dfnopay.isnull().sum())\n",
    "print(\"======dfpred=======\")\n",
    "print(dfpred.isnull().sum())\n",
    "print(\"======dfcomm=======\")\n",
    "print(dfcomm.isnull().sum())\n",
    "print(\"======dfcall=======\")\n",
    "print(dfcall.isnull().sum())"
   ]
  },
  {
   "cell_type": "markdown",
   "metadata": {},
   "source": [
    "#  2 数据处理"
   ]
  },
  {
   "cell_type": "markdown",
   "metadata": {},
   "source": [
    "## 2.1 空值处理"
   ]
  },
  {
   "cell_type": "code",
   "execution_count": 7,
   "metadata": {
    "collapsed": true
   },
   "outputs": [],
   "source": [
    "#dfcomm=dfcomm.dropna() #直接删除存在空值的行"
   ]
  },
  {
   "cell_type": "code",
   "execution_count": 8,
   "metadata": {
    "collapsed": true
   },
   "outputs": [],
   "source": [
    "dfcomm=dfcomm.fillna(dfcomm.median()) #用中位值填充数值型空值"
   ]
  },
  {
   "cell_type": "code",
   "execution_count": 9,
   "metadata": {
    "collapsed": true
   },
   "outputs": [],
   "source": [
    "dfcomm=dfcomm.fillna(\"unknown\") #用unknown填充字符串型空值"
   ]
  },
  {
   "cell_type": "markdown",
   "metadata": {},
   "source": [
    "## 2.2 类型转换 "
   ]
  },
  {
   "cell_type": "code",
   "execution_count": 10,
   "metadata": {
    "collapsed": true
   },
   "outputs": [],
   "source": [
    "dfnopay[\"USERI_ID\"]=dfnopay[\"USERI_ID\"].astype(\"str\")\n",
    "dfnopay[\"Stop_Days\"]=dfnopay[\"Stop_Days\"].astype(\"int\")\n",
    "dfnopay[\"Stop_Cnt\"]=dfnopay[\"Stop_Cnt\"].astype(\"int\")\n",
    "dfnopay[\"date\"]=dfnopay[\"date\"].astype(\"str\")"
   ]
  },
  {
   "cell_type": "code",
   "execution_count": 11,
   "metadata": {
    "collapsed": true
   },
   "outputs": [],
   "source": [
    "dfpred[\"USERI_ID\"]=dfpred[\"USERI_ID\"].astype(\"str\")\n",
    "dfpred[\"RISK_Flag\"]=dfpred[\"RISK_Flag\"].astype(\"int\")"
   ]
  },
  {
   "cell_type": "code",
   "execution_count": 12,
   "metadata": {
    "collapsed": true
   },
   "outputs": [],
   "source": [
    "dfcomm[\"USERI_ID\"]=dfcomm[\"USERI_ID\"].astype(\"str\")\n",
    "dfcomm[\"date\"]=dfcomm[\"date\"].astype(\"str\")\n",
    "dfcomm[\"NUM_OF_COMM\"]=dfcomm[\"NUM_OF_COMM\"].astype(\"int\")\n",
    "dfcomm[\"OCCUPATION_ID\"]=dfcomm[\"OCCUPATION_ID\"].astype(\"int\")\n",
    "dfcomm[\"CITY_ID\"]=dfcomm[\"CITY_ID\"].astype(\"int\")\n",
    "dfcomm[\"ONLINE_TIME\"]=dfcomm[\"ONLINE_TIME\"].astype(\"int\")\n",
    "dfcomm[\"REAL_NAME_FLAG\"]=dfcomm[\"REAL_NAME_FLAG\"].astype(\"int\")\n",
    "dfcomm[\"USER_CREDIT_ID\"]=dfcomm[\"USER_CREDIT_ID\"].astype(\"int\")\n",
    "dfcomm[\"CALL_MARK\"]=dfcomm[\"CALL_MARK\"].astype(\"int\")\n",
    "dfcomm[\"FIST_USE_DATE\"]=dfcomm[\"FIST_USE_DATE\"].astype(\"str\")"
   ]
  },
  {
   "cell_type": "code",
   "execution_count": 13,
   "metadata": {
    "collapsed": true
   },
   "outputs": [],
   "source": [
    "dfcall[\"USERI_ID\"]=dfcall[\"USERI_ID\"].astype(\"str\")\n",
    "dfcall[\"START_TIME\"]=dfcall[\"START_TIME\"].astype(\"str\")\n",
    "dfcall[\"ROAM_TYPE\"]=dfcall[\"ROAM_TYPE\"].astype(\"str\")"
   ]
  },
  {
   "cell_type": "markdown",
   "metadata": {},
   "source": [
    "# 3 特征提取"
   ]
  },
  {
   "cell_type": "markdown",
   "metadata": {},
   "source": [
    "## 3.1 特征1：信用历史（dfcred_f）"
   ]
  },
  {
   "cell_type": "code",
   "execution_count": 14,
   "metadata": {
    "collapsed": true
   },
   "outputs": [],
   "source": [
    "#选择6月违约天数、违约次数，形成关键数据表dfnopay06\n",
    "dfcred_f=dfnopay[dfnopay.date==\"201706\"].drop('date',1)\n",
    "dfcred_f.columns=['USERI_ID', 'Stop_Days06', 'Stop_Cnt06']"
   ]
  },
  {
   "cell_type": "code",
   "execution_count": 15,
   "metadata": {},
   "outputs": [
    {
     "data": {
      "text/html": [
       "<div>\n",
       "<style>\n",
       "    .dataframe thead tr:only-child th {\n",
       "        text-align: right;\n",
       "    }\n",
       "\n",
       "    .dataframe thead th {\n",
       "        text-align: left;\n",
       "    }\n",
       "\n",
       "    .dataframe tbody tr th {\n",
       "        vertical-align: top;\n",
       "    }\n",
       "</style>\n",
       "<table border=\"1\" class=\"dataframe\">\n",
       "  <thead>\n",
       "    <tr style=\"text-align: right;\">\n",
       "      <th></th>\n",
       "      <th>USERI_ID</th>\n",
       "      <th>Stop_Days06</th>\n",
       "      <th>Stop_Cnt06</th>\n",
       "    </tr>\n",
       "  </thead>\n",
       "  <tbody>\n",
       "    <tr>\n",
       "      <th>3</th>\n",
       "      <td>60015357</td>\n",
       "      <td>1</td>\n",
       "      <td>1</td>\n",
       "    </tr>\n",
       "    <tr>\n",
       "      <th>7</th>\n",
       "      <td>60015359</td>\n",
       "      <td>3</td>\n",
       "      <td>2</td>\n",
       "    </tr>\n",
       "    <tr>\n",
       "      <th>11</th>\n",
       "      <td>60015362</td>\n",
       "      <td>1</td>\n",
       "      <td>1</td>\n",
       "    </tr>\n",
       "    <tr>\n",
       "      <th>15</th>\n",
       "      <td>60015365</td>\n",
       "      <td>1</td>\n",
       "      <td>1</td>\n",
       "    </tr>\n",
       "    <tr>\n",
       "      <th>19</th>\n",
       "      <td>10032318</td>\n",
       "      <td>1</td>\n",
       "      <td>1</td>\n",
       "    </tr>\n",
       "  </tbody>\n",
       "</table>\n",
       "</div>"
      ],
      "text/plain": [
       "    USERI_ID  Stop_Days06  Stop_Cnt06\n",
       "3   60015357            1           1\n",
       "7   60015359            3           2\n",
       "11  60015362            1           1\n",
       "15  60015365            1           1\n",
       "19  10032318            1           1"
      ]
     },
     "execution_count": 15,
     "metadata": {},
     "output_type": "execute_result"
    }
   ],
   "source": [
    "dfcred_f.head()"
   ]
  },
  {
   "cell_type": "markdown",
   "metadata": {},
   "source": [
    "## 3.2 特征2：身份特征（dfuser_f）"
   ]
  },
  {
   "cell_type": "code",
   "execution_count": 16,
   "metadata": {
    "collapsed": true
   },
   "outputs": [],
   "source": [
    "userprofile=[\n",
    "            \"USERI_ID\", #用户ID\n",
    "            \"AGE\", #客户年龄\n",
    "#            \"OCCUPATION_ID\", #客户职业类型\n",
    "#            \"CITY_ID\", #归属地市\n",
    "#            \"COUNTY_ID\", #归属县市\n",
    "#            \"ONLINE_TIME\", #在网时长\n",
    "#            \"REAL_NAME_FLAG\", #是否实名认证\n",
    "            \"USER_CREDIT_ID\", #用户星级\n",
    "#            \"CALL_MARK\", #通话用户标识\n",
    "#            \"TELE_TYPE\", #终端型号\n",
    "#            \"TELE_FAC\", #终端品牌\n",
    "#            \"SMART_SYSTEM\", #终端操作系统\n",
    "            \"FIST_USE_DATE\", #终端首次使用时间\n",
    "           ]"
   ]
  },
  {
   "cell_type": "code",
   "execution_count": 17,
   "metadata": {
    "collapsed": true
   },
   "outputs": [],
   "source": [
    "def monthdiff(date1):\n",
    "    year1=int(date1[0:4])\n",
    "#    year2=int(date2[0:4])\n",
    "    year2=2017\n",
    "    mon1=int(date1[4:6])\n",
    "#    mon2=int(date2[4:6])\n",
    "    mon2=7\n",
    "    return (year2-year1)*12+(mon2-mon1)"
   ]
  },
  {
   "cell_type": "code",
   "execution_count": 18,
   "metadata": {
    "collapsed": true
   },
   "outputs": [],
   "source": [
    "dfuser_f=dfcomm[userprofile]\n",
    "dfuser_f.insert(1,\"LAST_MONTH\",pd.Series(map(monthdiff,dfuser_f.FIST_USE_DATE)))\n",
    "dfuser_f=dfuser_f.drop(\"FIST_USE_DATE\",1)"
   ]
  },
  {
   "cell_type": "code",
   "execution_count": 19,
   "metadata": {},
   "outputs": [
    {
     "data": {
      "text/html": [
       "<div>\n",
       "<style>\n",
       "    .dataframe thead tr:only-child th {\n",
       "        text-align: right;\n",
       "    }\n",
       "\n",
       "    .dataframe thead th {\n",
       "        text-align: left;\n",
       "    }\n",
       "\n",
       "    .dataframe tbody tr th {\n",
       "        vertical-align: top;\n",
       "    }\n",
       "</style>\n",
       "<table border=\"1\" class=\"dataframe\">\n",
       "  <thead>\n",
       "    <tr style=\"text-align: right;\">\n",
       "      <th></th>\n",
       "      <th>USERI_ID</th>\n",
       "      <th>LAST_MONTH</th>\n",
       "      <th>AGE</th>\n",
       "      <th>USER_CREDIT_ID</th>\n",
       "    </tr>\n",
       "  </thead>\n",
       "  <tbody>\n",
       "    <tr>\n",
       "      <th>0</th>\n",
       "      <td>60041552</td>\n",
       "      <td>25</td>\n",
       "      <td>4.0</td>\n",
       "      <td>4</td>\n",
       "    </tr>\n",
       "    <tr>\n",
       "      <th>1</th>\n",
       "      <td>60155603</td>\n",
       "      <td>28</td>\n",
       "      <td>4.0</td>\n",
       "      <td>5</td>\n",
       "    </tr>\n",
       "    <tr>\n",
       "      <th>2</th>\n",
       "      <td>60124892</td>\n",
       "      <td>5</td>\n",
       "      <td>7.0</td>\n",
       "      <td>4</td>\n",
       "    </tr>\n",
       "    <tr>\n",
       "      <th>3</th>\n",
       "      <td>60028102</td>\n",
       "      <td>9</td>\n",
       "      <td>4.0</td>\n",
       "      <td>4</td>\n",
       "    </tr>\n",
       "    <tr>\n",
       "      <th>4</th>\n",
       "      <td>60031641</td>\n",
       "      <td>20</td>\n",
       "      <td>6.0</td>\n",
       "      <td>5</td>\n",
       "    </tr>\n",
       "  </tbody>\n",
       "</table>\n",
       "</div>"
      ],
      "text/plain": [
       "   USERI_ID  LAST_MONTH  AGE  USER_CREDIT_ID\n",
       "0  60041552          25  4.0               4\n",
       "1  60155603          28  4.0               5\n",
       "2  60124892           5  7.0               4\n",
       "3  60028102           9  4.0               4\n",
       "4  60031641          20  6.0               5"
      ]
     },
     "execution_count": 19,
     "metadata": {},
     "output_type": "execute_result"
    }
   ],
   "source": [
    "dfuser_f.head()"
   ]
  },
  {
   "cell_type": "markdown",
   "metadata": {},
   "source": [
    "## 3.3 特征3：消费能力（dfcons_f）"
   ]
  },
  {
   "cell_type": "code",
   "execution_count": 20,
   "metadata": {
    "collapsed": true
   },
   "outputs": [],
   "source": [
    "consume=[\n",
    "    \"USERI_ID\",\n",
    "    \"GPRS_VOLUME\",\n",
    "    \"ARPU\",\n",
    "#    \"SP_FEE\",\n",
    "    \"date\"\n",
    "    ]"
   ]
  },
  {
   "cell_type": "code",
   "execution_count": 21,
   "metadata": {
    "collapsed": true
   },
   "outputs": [],
   "source": [
    "dfcons_f=dfcomm[consume]"
   ]
  },
  {
   "cell_type": "code",
   "execution_count": 22,
   "metadata": {
    "collapsed": true
   },
   "outputs": [],
   "source": [
    "# 提取4月、5月、6月的数据\n",
    "dfcons_f=round(dfcons_f.loc[(dfcons_f.date==\"201704\") | (dfcons_f.date==\"201705\") | (dfcons_f.date==\"201706\"),:].groupby(['USERI_ID'],axis=0).mean().reset_index())"
   ]
  },
  {
   "cell_type": "code",
   "execution_count": 23,
   "metadata": {},
   "outputs": [
    {
     "data": {
      "text/html": [
       "<div>\n",
       "<style>\n",
       "    .dataframe thead tr:only-child th {\n",
       "        text-align: right;\n",
       "    }\n",
       "\n",
       "    .dataframe thead th {\n",
       "        text-align: left;\n",
       "    }\n",
       "\n",
       "    .dataframe tbody tr th {\n",
       "        vertical-align: top;\n",
       "    }\n",
       "</style>\n",
       "<table border=\"1\" class=\"dataframe\">\n",
       "  <thead>\n",
       "    <tr style=\"text-align: right;\">\n",
       "      <th></th>\n",
       "      <th>USERI_ID</th>\n",
       "      <th>GPRS_VOLUME</th>\n",
       "      <th>ARPU</th>\n",
       "    </tr>\n",
       "  </thead>\n",
       "  <tbody>\n",
       "    <tr>\n",
       "      <th>0</th>\n",
       "      <td>10001228</td>\n",
       "      <td>0.0</td>\n",
       "      <td>1.0</td>\n",
       "    </tr>\n",
       "    <tr>\n",
       "      <th>1</th>\n",
       "      <td>10001301</td>\n",
       "      <td>0.0</td>\n",
       "      <td>2.0</td>\n",
       "    </tr>\n",
       "    <tr>\n",
       "      <th>2</th>\n",
       "      <td>10001366</td>\n",
       "      <td>0.0</td>\n",
       "      <td>1.0</td>\n",
       "    </tr>\n",
       "    <tr>\n",
       "      <th>3</th>\n",
       "      <td>10001393</td>\n",
       "      <td>0.0</td>\n",
       "      <td>1.0</td>\n",
       "    </tr>\n",
       "    <tr>\n",
       "      <th>4</th>\n",
       "      <td>10001460</td>\n",
       "      <td>0.0</td>\n",
       "      <td>3.0</td>\n",
       "    </tr>\n",
       "  </tbody>\n",
       "</table>\n",
       "</div>"
      ],
      "text/plain": [
       "   USERI_ID  GPRS_VOLUME  ARPU\n",
       "0  10001228          0.0   1.0\n",
       "1  10001301          0.0   2.0\n",
       "2  10001366          0.0   1.0\n",
       "3  10001393          0.0   1.0\n",
       "4  10001460          0.0   3.0"
      ]
     },
     "execution_count": 23,
     "metadata": {},
     "output_type": "execute_result"
    }
   ],
   "source": [
    "dfcons_f.head()"
   ]
  },
  {
   "cell_type": "markdown",
   "metadata": {},
   "source": [
    "## 3.4 特征4：人脉关系（dfsocial_f）"
   ]
  },
  {
   "cell_type": "code",
   "execution_count": 24,
   "metadata": {
    "collapsed": true
   },
   "outputs": [],
   "source": [
    "socialnw=[\n",
    "    \"USERI_ID\",\n",
    "    \"NUM_OF_COMM\",\n",
    "    \"date\"\n",
    "]"
   ]
  },
  {
   "cell_type": "code",
   "execution_count": 25,
   "metadata": {
    "collapsed": true
   },
   "outputs": [],
   "source": [
    "dfsocial_f=dfcomm[socialnw]"
   ]
  },
  {
   "cell_type": "code",
   "execution_count": 26,
   "metadata": {
    "collapsed": true
   },
   "outputs": [],
   "source": [
    "# 提取4月、5月、6月的数据\n",
    "dfsocial_f=round(dfsocial_f.loc[(dfsocial_f.date==\"201704\") | (dfsocial_f.date==\"201705\") | (dfsocial_f.date==\"201706\"),:].groupby(['USERI_ID'],axis=0).mean().reset_index())"
   ]
  },
  {
   "cell_type": "markdown",
   "metadata": {},
   "source": [
    "## 3.5 特征5：语音通信行为（dfcall_f）"
   ]
  },
  {
   "cell_type": "code",
   "execution_count": 27,
   "metadata": {
    "collapsed": true
   },
   "outputs": [],
   "source": [
    "callbehavior=[\n",
    "            \"USERI_ID\", #用户ID\n",
    "#            \"COMM_FLAG\", #通信标识\n",
    "#            \"CALL_COUNTS\", #通话次数\n",
    "#            \"VPMN_CALL_COUNTS\", #虚拟网通话次数\n",
    "            \"TOLL_COUNTS\", #长途通话次数\n",
    "            \"WJ_CALL_COUNTS\", #网外通话次数\n",
    "            \"OUT_CALL_COUNTS\", #被叫通话次数\n",
    "#            \"CALLFW_COUNTS\", #呼转通话次数\n",
    "            \"QQW_CALL_COUNTS\", #亲情网通话次数\n",
    "#            \"BD_CALL_COUNTS\", #本地通话次数\n",
    "            \"ROAM_COUNTS\", #漫游通话次数\n",
    "#            \"CALL_DURATION_M\", #通话时长_分钟\n",
    "#            \"BILL_DURATION_M\", #收费通话时长_分钟\n",
    "#            \"VPMN_CALL_DURATION_M\", #vpmn通话时长_分钟\n",
    "#            \"WJ_CALL_DURATION_M\", #网外通话时长_分钟\n",
    "#            \"OUT_CALL_DURATION_M\", #被叫通话时长_分钟\n",
    "#            \"CALLFW_DURATION_M\", #呼转通话时长_分钟\n",
    "#            \"BD_CALL_DURATION_M\", #非漫游通话时长_分钟\n",
    "#            \"ROAM_DURATION_M\", #漫游通话时长_分钟\n",
    "#            \"TOLL_DURATION_M\", #长话通话时长_分钟\n",
    "#            \"QQW_CALL_DURATION_M\", #亲情网通话时长_分钟\n",
    "            \"date\" #数据日期\n",
    "]"
   ]
  },
  {
   "cell_type": "code",
   "execution_count": 28,
   "metadata": {
    "collapsed": true
   },
   "outputs": [],
   "source": [
    "dfcall_f=dfcomm[callbehavior]"
   ]
  },
  {
   "cell_type": "code",
   "execution_count": 29,
   "metadata": {
    "collapsed": true
   },
   "outputs": [],
   "source": [
    "# 提取4月、5月、6月的数据\n",
    "dfcall_f=round(dfcall_f.loc[(dfcall_f.date==\"201704\") | (dfcall_f.date==\"201705\") | (dfcall_f.date==\"201706\"),:].groupby(['USERI_ID'],axis=0).mean().reset_index())"
   ]
  },
  {
   "cell_type": "code",
   "execution_count": 30,
   "metadata": {},
   "outputs": [
    {
     "data": {
      "text/html": [
       "<div>\n",
       "<style>\n",
       "    .dataframe thead tr:only-child th {\n",
       "        text-align: right;\n",
       "    }\n",
       "\n",
       "    .dataframe thead th {\n",
       "        text-align: left;\n",
       "    }\n",
       "\n",
       "    .dataframe tbody tr th {\n",
       "        vertical-align: top;\n",
       "    }\n",
       "</style>\n",
       "<table border=\"1\" class=\"dataframe\">\n",
       "  <thead>\n",
       "    <tr style=\"text-align: right;\">\n",
       "      <th></th>\n",
       "      <th>USERI_ID</th>\n",
       "      <th>TOLL_COUNTS</th>\n",
       "      <th>WJ_CALL_COUNTS</th>\n",
       "      <th>OUT_CALL_COUNTS</th>\n",
       "      <th>QQW_CALL_COUNTS</th>\n",
       "      <th>ROAM_COUNTS</th>\n",
       "    </tr>\n",
       "  </thead>\n",
       "  <tbody>\n",
       "    <tr>\n",
       "      <th>0</th>\n",
       "      <td>10001228</td>\n",
       "      <td>1.0</td>\n",
       "      <td>4.0</td>\n",
       "      <td>9.0</td>\n",
       "      <td>7.0</td>\n",
       "      <td>0.0</td>\n",
       "    </tr>\n",
       "    <tr>\n",
       "      <th>1</th>\n",
       "      <td>10001301</td>\n",
       "      <td>0.0</td>\n",
       "      <td>1.0</td>\n",
       "      <td>9.0</td>\n",
       "      <td>8.0</td>\n",
       "      <td>0.0</td>\n",
       "    </tr>\n",
       "    <tr>\n",
       "      <th>2</th>\n",
       "      <td>10001366</td>\n",
       "      <td>0.0</td>\n",
       "      <td>1.0</td>\n",
       "      <td>5.0</td>\n",
       "      <td>5.0</td>\n",
       "      <td>0.0</td>\n",
       "    </tr>\n",
       "    <tr>\n",
       "      <th>3</th>\n",
       "      <td>10001393</td>\n",
       "      <td>0.0</td>\n",
       "      <td>0.0</td>\n",
       "      <td>0.0</td>\n",
       "      <td>0.0</td>\n",
       "      <td>0.0</td>\n",
       "    </tr>\n",
       "    <tr>\n",
       "      <th>4</th>\n",
       "      <td>10001460</td>\n",
       "      <td>9.0</td>\n",
       "      <td>9.0</td>\n",
       "      <td>9.0</td>\n",
       "      <td>7.0</td>\n",
       "      <td>9.0</td>\n",
       "    </tr>\n",
       "  </tbody>\n",
       "</table>\n",
       "</div>"
      ],
      "text/plain": [
       "   USERI_ID  TOLL_COUNTS  WJ_CALL_COUNTS  OUT_CALL_COUNTS  QQW_CALL_COUNTS  \\\n",
       "0  10001228          1.0             4.0              9.0              7.0   \n",
       "1  10001301          0.0             1.0              9.0              8.0   \n",
       "2  10001366          0.0             1.0              5.0              5.0   \n",
       "3  10001393          0.0             0.0              0.0              0.0   \n",
       "4  10001460          9.0             9.0              9.0              7.0   \n",
       "\n",
       "   ROAM_COUNTS  \n",
       "0          0.0  \n",
       "1          0.0  \n",
       "2          0.0  \n",
       "3          0.0  \n",
       "4          9.0  "
      ]
     },
     "execution_count": 30,
     "metadata": {},
     "output_type": "execute_result"
    }
   ],
   "source": [
    "dfcall_f.head()"
   ]
  },
  {
   "cell_type": "markdown",
   "metadata": {},
   "source": [
    "## 3.6 特征6：漫游行为（dfroam_f）"
   ]
  },
  {
   "cell_type": "code",
   "execution_count": 31,
   "metadata": {
    "collapsed": true
   },
   "outputs": [],
   "source": [
    "roambehavior=[\n",
    "            \"USERI_ID\", #用户ID\n",
    "            \"ROAM_TYPE\"#漫游类型\n",
    "]\n",
    "dfroam_f=dfcall[roambehavior]\n",
    "dfroam_f=pd.concat([dfroam_f,pd.get_dummies(dfroam_f.ROAM_TYPE,prefix=\"R\")],axis=1).drop('ROAM_TYPE',1).groupby(['USERI_ID'],axis=0).count().reset_index()\n",
    "#dfroam_f.columns=['USERI_ID','R0','R1','R4','R5','R6','R8']"
   ]
  },
  {
   "cell_type": "code",
   "execution_count": 32,
   "metadata": {
    "collapsed": true
   },
   "outputs": [],
   "source": [
    "dfroam_f=dfroam_f.iloc[:,0:-1]"
   ]
  },
  {
   "cell_type": "code",
   "execution_count": 33,
   "metadata": {},
   "outputs": [
    {
     "data": {
      "text/html": [
       "<div>\n",
       "<style>\n",
       "    .dataframe thead tr:only-child th {\n",
       "        text-align: right;\n",
       "    }\n",
       "\n",
       "    .dataframe thead th {\n",
       "        text-align: left;\n",
       "    }\n",
       "\n",
       "    .dataframe tbody tr th {\n",
       "        vertical-align: top;\n",
       "    }\n",
       "</style>\n",
       "<table border=\"1\" class=\"dataframe\">\n",
       "  <thead>\n",
       "    <tr style=\"text-align: right;\">\n",
       "      <th></th>\n",
       "      <th>USERI_ID</th>\n",
       "      <th>R_0</th>\n",
       "      <th>R_1</th>\n",
       "      <th>R_4</th>\n",
       "      <th>R_5</th>\n",
       "      <th>R_6</th>\n",
       "    </tr>\n",
       "  </thead>\n",
       "  <tbody>\n",
       "    <tr>\n",
       "      <th>0</th>\n",
       "      <td>10001228</td>\n",
       "      <td>50</td>\n",
       "      <td>50</td>\n",
       "      <td>50</td>\n",
       "      <td>50</td>\n",
       "      <td>50</td>\n",
       "    </tr>\n",
       "    <tr>\n",
       "      <th>1</th>\n",
       "      <td>10001301</td>\n",
       "      <td>37</td>\n",
       "      <td>37</td>\n",
       "      <td>37</td>\n",
       "      <td>37</td>\n",
       "      <td>37</td>\n",
       "    </tr>\n",
       "    <tr>\n",
       "      <th>2</th>\n",
       "      <td>10001366</td>\n",
       "      <td>48</td>\n",
       "      <td>48</td>\n",
       "      <td>48</td>\n",
       "      <td>48</td>\n",
       "      <td>48</td>\n",
       "    </tr>\n",
       "    <tr>\n",
       "      <th>3</th>\n",
       "      <td>10001460</td>\n",
       "      <td>880</td>\n",
       "      <td>880</td>\n",
       "      <td>880</td>\n",
       "      <td>880</td>\n",
       "      <td>880</td>\n",
       "    </tr>\n",
       "    <tr>\n",
       "      <th>4</th>\n",
       "      <td>10001477</td>\n",
       "      <td>55</td>\n",
       "      <td>55</td>\n",
       "      <td>55</td>\n",
       "      <td>55</td>\n",
       "      <td>55</td>\n",
       "    </tr>\n",
       "  </tbody>\n",
       "</table>\n",
       "</div>"
      ],
      "text/plain": [
       "   USERI_ID  R_0  R_1  R_4  R_5  R_6\n",
       "0  10001228   50   50   50   50   50\n",
       "1  10001301   37   37   37   37   37\n",
       "2  10001366   48   48   48   48   48\n",
       "3  10001460  880  880  880  880  880\n",
       "4  10001477   55   55   55   55   55"
      ]
     },
     "execution_count": 33,
     "metadata": {},
     "output_type": "execute_result"
    }
   ],
   "source": [
    "dfroam_f.head()"
   ]
  },
  {
   "cell_type": "code",
   "execution_count": 34,
   "metadata": {
    "collapsed": true
   },
   "outputs": [],
   "source": [
    "#仅仅找出被叫的漫游\n",
    "\n",
    "#roambehavior=[\n",
    "#            \"USERI_ID\", #用户ID\n",
    "#            \"ROAM_TYPE\",#漫游类型\n",
    "#            \"CALL_TYPE\",#呼叫类型\n",
    "#]\n",
    "#dfroam_f=dfcall[roambehavior]\n",
    "#dfroam_f=pd.concat([dfroam_f,pd.get_dummies(dfroam_f.ROAM_TYPE)],axis=1).drop('ROAM_TYPE',1).groupby(['USERI_ID','CALL_TYPE'],axis=0).sum().reset_index()\n",
    "#dfroam_f=dfroam_f[dfroam_f.CALL_TYPE==1].drop(\"CALL_TYPE\",1)\n",
    "#dfroam_f.columns=['USERI_ID','R0','R1','R4','R5','R6','R8']"
   ]
  },
  {
   "cell_type": "markdown",
   "metadata": {},
   "source": [
    "## 3.7 特征7：上网行为（dfinternet_f)"
   ]
  },
  {
   "cell_type": "code",
   "execution_count": 35,
   "metadata": {
    "collapsed": true
   },
   "outputs": [],
   "source": [
    "#netbehavior=[\n",
    "#    \"USERI_ID\",\n",
    "#    \"APP_CLASSIFY_TYPE\"\n",
    "#    ]"
   ]
  },
  {
   "cell_type": "code",
   "execution_count": 36,
   "metadata": {
    "collapsed": true
   },
   "outputs": [],
   "source": [
    "#dfinternet_f=dfnet[netbehavior]"
   ]
  },
  {
   "cell_type": "code",
   "execution_count": 37,
   "metadata": {
    "collapsed": true
   },
   "outputs": [],
   "source": [
    "#dfinternet_f=pd.concat([dfinternet_f,pd.get_dummies(dfinternet_f.APP_CLASSIFY_TYPE)],axis=1).drop('APP_CLASSIFY_TYPE',1).groupby(['USERI_ID'],axis=0).sum().reset_index()"
   ]
  },
  {
   "cell_type": "markdown",
   "metadata": {},
   "source": [
    "## 3.8 特征8：主被叫次数（dfmomt_f）"
   ]
  },
  {
   "cell_type": "code",
   "execution_count": 38,
   "metadata": {
    "collapsed": true
   },
   "outputs": [],
   "source": [
    "momtbehavior=[\n",
    "            \"USERI_ID\", #用户ID\n",
    "            \"CALL_TYPE\",#呼叫类型    \n",
    "]"
   ]
  },
  {
   "cell_type": "code",
   "execution_count": 39,
   "metadata": {
    "collapsed": true
   },
   "outputs": [],
   "source": [
    "dfmomt_f=pd.concat([dfcall.loc[dfcall.CALL_TYPE==0,momtbehavior],dfcall.loc[dfcall.CALL_TYPE==1,momtbehavior]],axis=0)"
   ]
  },
  {
   "cell_type": "code",
   "execution_count": 40,
   "metadata": {
    "collapsed": true
   },
   "outputs": [],
   "source": [
    "dfmomt_f=pd.concat([dfmomt_f,pd.get_dummies(dfmomt_f.CALL_TYPE)],axis=1).drop('CALL_TYPE',1).groupby(['USERI_ID'],axis=0).sum().reset_index()"
   ]
  },
  {
   "cell_type": "code",
   "execution_count": 41,
   "metadata": {
    "collapsed": true
   },
   "outputs": [],
   "source": [
    "dfmomt_f.columns=['USERI_ID','MOCALL_COUNTS','MTCALL_COUNTS']"
   ]
  },
  {
   "cell_type": "markdown",
   "metadata": {},
   "source": [
    "# 4 合并宽表"
   ]
  },
  {
   "cell_type": "code",
   "execution_count": 42,
   "metadata": {
    "collapsed": true
   },
   "outputs": [],
   "source": [
    "#df=dfpred.merge(dfuser_f,on=\"USERI_ID\",how=\"left\").merge(dfcons_f,on=\"USERI_ID\",how=\"left\").merge(dfcall_f,on=\"USERI_ID\",how=\"left\").merge(dfroam_f,on=\"USERI_ID\",how=\"left\").merge(dfcred_f,on=\"USERI_ID\",how=\"left\").merge(dfsocial_f,on=\"USERI_ID\",how=\"left\").merge(dfinternet_f,on=\"USERI_ID\",how=\"left\")\n",
    "df=dfpred.merge(dfuser_f,on=\"USERI_ID\",how=\"left\").merge(dfcons_f,on=\"USERI_ID\",how=\"left\").merge(dfcall_f,on=\"USERI_ID\",how=\"left\").merge(dfroam_f,on=\"USERI_ID\",how=\"left\").merge(dfcred_f,on=\"USERI_ID\",how=\"left\").merge(dfsocial_f,on=\"USERI_ID\",how=\"left\").merge(dfmomt_f,on=\"USERI_ID\",how=\"left\")"
   ]
  },
  {
   "cell_type": "code",
   "execution_count": 43,
   "metadata": {
    "collapsed": true
   },
   "outputs": [],
   "source": [
    "dfuserid=df.USERI_ID"
   ]
  },
  {
   "cell_type": "code",
   "execution_count": 44,
   "metadata": {
    "collapsed": true
   },
   "outputs": [],
   "source": [
    "df=df.drop(\"USERI_ID\",1).drop(\"R_5\",1).drop(\"R_6\",1)"
   ]
  },
  {
   "cell_type": "markdown",
   "metadata": {},
   "source": [
    "## 计算峰度偏度，并进行预处理"
   ]
  },
  {
   "cell_type": "code",
   "execution_count": 45,
   "metadata": {
    "collapsed": true,
    "scrolled": false
   },
   "outputs": [],
   "source": [
    "#print(df.skew())\n",
    "#print(\"======\")\n",
    "#print(df.kurt())"
   ]
  },
  {
   "cell_type": "code",
   "execution_count": 46,
   "metadata": {
    "collapsed": true,
    "scrolled": false
   },
   "outputs": [],
   "source": [
    "#dfskew=df.skew()\n",
    "#dfskew=dfskew[dfskew>2]\n",
    "#dfskew=dfskew.index\n",
    "#print(dfskew)\n",
    "#df[dfskew]=np.log1p(df[dfskew])"
   ]
  },
  {
   "cell_type": "code",
   "execution_count": 47,
   "metadata": {
    "collapsed": true
   },
   "outputs": [],
   "source": [
    "#print(df.skew())"
   ]
  },
  {
   "cell_type": "code",
   "execution_count": 48,
   "metadata": {
    "collapsed": true
   },
   "outputs": [],
   "source": [
    "df=df.fillna(df.median()) #用中位值填充数值型空值"
   ]
  },
  {
   "cell_type": "markdown",
   "metadata": {},
   "source": [
    "# 5 数据探索"
   ]
  },
  {
   "cell_type": "code",
   "execution_count": 49,
   "metadata": {
    "scrolled": false
   },
   "outputs": [
    {
     "data": {
      "image/png": "[encoded data removed]",
      "text/plain": [
       "<matplotlib.figure.Figure at 0x1506f72e8>"
      ]
     },
     "metadata": {},
     "output_type": "display_data"
    }
   ],
   "source": [
    "dfcorr=df.corr()\n",
    "plt.figure(figsize=(12,12))\n",
    "sns.heatmap(dfcorr)\n",
    "plt.show()"
   ]
  },
  {
   "cell_type": "code",
   "execution_count": 50,
   "metadata": {
    "scrolled": false
   },
   "outputs": [
    {
     "data": {
      "text/plain": [
       "USER_CREDIT_ID    -0.554196\n",
       "ARPU              -0.517463\n",
       "NUM_OF_COMM       -0.516655\n",
       "WJ_CALL_COUNTS    -0.497640\n",
       "R_4               -0.441883\n",
       "R_1               -0.441883\n",
       "R_0               -0.441883\n",
       "MTCALL_COUNTS     -0.439205\n",
       "OUT_CALL_COUNTS   -0.418421\n",
       "MOCALL_COUNTS     -0.404998\n",
       "TOLL_COUNTS       -0.352111\n",
       "GPRS_VOLUME       -0.320935\n",
       "QQW_CALL_COUNTS   -0.306219\n",
       "ROAM_COUNTS       -0.226849\n",
       "LAST_MONTH         0.076541\n",
       "AGE                0.154232\n",
       "Stop_Days06        0.402137\n",
       "Stop_Cnt06         0.423725\n",
       "RISK_Flag          1.000000\n",
       "Name: RISK_Flag, dtype: float64"
      ]
     },
     "execution_count": 50,
     "metadata": {},
     "output_type": "execute_result"
    }
   ],
   "source": [
    "dfcorr.RISK_Flag.sort_values()"
   ]
  },
  {
   "cell_type": "code",
   "execution_count": 51,
   "metadata": {},
   "outputs": [
    {
     "data": {
      "text/html": [
       "<div>\n",
       "<style>\n",
       "    .dataframe thead tr:only-child th {\n",
       "        text-align: right;\n",
       "    }\n",
       "\n",
       "    .dataframe thead th {\n",
       "        text-align: left;\n",
       "    }\n",
       "\n",
       "    .dataframe tbody tr th {\n",
       "        vertical-align: top;\n",
       "    }\n",
       "</style>\n",
       "<table border=\"1\" class=\"dataframe\">\n",
       "  <thead>\n",
       "    <tr style=\"text-align: right;\">\n",
       "      <th></th>\n",
       "      <th>RISK_Flag</th>\n",
       "      <th>LAST_MONTH</th>\n",
       "      <th>AGE</th>\n",
       "      <th>USER_CREDIT_ID</th>\n",
       "      <th>GPRS_VOLUME</th>\n",
       "      <th>ARPU</th>\n",
       "      <th>TOLL_COUNTS</th>\n",
       "      <th>WJ_CALL_COUNTS</th>\n",
       "      <th>OUT_CALL_COUNTS</th>\n",
       "      <th>QQW_CALL_COUNTS</th>\n",
       "      <th>ROAM_COUNTS</th>\n",
       "      <th>R_0</th>\n",
       "      <th>R_1</th>\n",
       "      <th>R_4</th>\n",
       "      <th>Stop_Days06</th>\n",
       "      <th>Stop_Cnt06</th>\n",
       "      <th>NUM_OF_COMM</th>\n",
       "      <th>MOCALL_COUNTS</th>\n",
       "      <th>MTCALL_COUNTS</th>\n",
       "    </tr>\n",
       "  </thead>\n",
       "  <tbody>\n",
       "    <tr>\n",
       "      <th>count</th>\n",
       "      <td>28007.000000</td>\n",
       "      <td>28007.000000</td>\n",
       "      <td>28007.000000</td>\n",
       "      <td>28007.000000</td>\n",
       "      <td>28007.000000</td>\n",
       "      <td>28007.000000</td>\n",
       "      <td>28007.000000</td>\n",
       "      <td>28007.000000</td>\n",
       "      <td>28007.000000</td>\n",
       "      <td>28007.000000</td>\n",
       "      <td>28007.000000</td>\n",
       "      <td>28007.000000</td>\n",
       "      <td>28007.000000</td>\n",
       "      <td>28007.000000</td>\n",
       "      <td>28007.000000</td>\n",
       "      <td>28007.000000</td>\n",
       "      <td>28007.000000</td>\n",
       "      <td>28007.000000</td>\n",
       "      <td>28007.000000</td>\n",
       "    </tr>\n",
       "    <tr>\n",
       "      <th>mean</th>\n",
       "      <td>0.500018</td>\n",
       "      <td>17.641482</td>\n",
       "      <td>4.411076</td>\n",
       "      <td>4.277324</td>\n",
       "      <td>0.529046</td>\n",
       "      <td>2.185168</td>\n",
       "      <td>2.229086</td>\n",
       "      <td>4.993430</td>\n",
       "      <td>7.511658</td>\n",
       "      <td>4.369301</td>\n",
       "      <td>1.502624</td>\n",
       "      <td>207.084407</td>\n",
       "      <td>207.084407</td>\n",
       "      <td>207.084407</td>\n",
       "      <td>1.384475</td>\n",
       "      <td>1.217803</td>\n",
       "      <td>3.964687</td>\n",
       "      <td>93.393830</td>\n",
       "      <td>113.791981</td>\n",
       "    </tr>\n",
       "    <tr>\n",
       "      <th>std</th>\n",
       "      <td>0.500009</td>\n",
       "      <td>14.115910</td>\n",
       "      <td>1.048872</td>\n",
       "      <td>0.455592</td>\n",
       "      <td>1.193727</td>\n",
       "      <td>1.201889</td>\n",
       "      <td>2.831267</td>\n",
       "      <td>3.240832</td>\n",
       "      <td>2.607374</td>\n",
       "      <td>3.809576</td>\n",
       "      <td>2.564595</td>\n",
       "      <td>248.956595</td>\n",
       "      <td>248.956595</td>\n",
       "      <td>248.956595</td>\n",
       "      <td>0.823232</td>\n",
       "      <td>0.427046</td>\n",
       "      <td>1.117021</td>\n",
       "      <td>130.825052</td>\n",
       "      <td>128.200456</td>\n",
       "    </tr>\n",
       "    <tr>\n",
       "      <th>min</th>\n",
       "      <td>0.000000</td>\n",
       "      <td>1.000000</td>\n",
       "      <td>1.000000</td>\n",
       "      <td>3.000000</td>\n",
       "      <td>0.000000</td>\n",
       "      <td>0.000000</td>\n",
       "      <td>0.000000</td>\n",
       "      <td>0.000000</td>\n",
       "      <td>0.000000</td>\n",
       "      <td>0.000000</td>\n",
       "      <td>0.000000</td>\n",
       "      <td>1.000000</td>\n",
       "      <td>1.000000</td>\n",
       "      <td>1.000000</td>\n",
       "      <td>1.000000</td>\n",
       "      <td>1.000000</td>\n",
       "      <td>0.000000</td>\n",
       "      <td>0.000000</td>\n",
       "      <td>0.000000</td>\n",
       "    </tr>\n",
       "    <tr>\n",
       "      <th>25%</th>\n",
       "      <td>0.000000</td>\n",
       "      <td>8.000000</td>\n",
       "      <td>4.000000</td>\n",
       "      <td>4.000000</td>\n",
       "      <td>0.000000</td>\n",
       "      <td>1.000000</td>\n",
       "      <td>0.000000</td>\n",
       "      <td>2.000000</td>\n",
       "      <td>7.000000</td>\n",
       "      <td>0.000000</td>\n",
       "      <td>0.000000</td>\n",
       "      <td>57.000000</td>\n",
       "      <td>57.000000</td>\n",
       "      <td>57.000000</td>\n",
       "      <td>1.000000</td>\n",
       "      <td>1.000000</td>\n",
       "      <td>3.000000</td>\n",
       "      <td>20.000000</td>\n",
       "      <td>34.000000</td>\n",
       "    </tr>\n",
       "    <tr>\n",
       "      <th>50%</th>\n",
       "      <td>1.000000</td>\n",
       "      <td>14.000000</td>\n",
       "      <td>4.000000</td>\n",
       "      <td>4.000000</td>\n",
       "      <td>0.000000</td>\n",
       "      <td>2.000000</td>\n",
       "      <td>1.000000</td>\n",
       "      <td>5.000000</td>\n",
       "      <td>9.000000</td>\n",
       "      <td>4.000000</td>\n",
       "      <td>0.000000</td>\n",
       "      <td>126.000000</td>\n",
       "      <td>126.000000</td>\n",
       "      <td>126.000000</td>\n",
       "      <td>1.000000</td>\n",
       "      <td>1.000000</td>\n",
       "      <td>4.000000</td>\n",
       "      <td>52.000000</td>\n",
       "      <td>74.000000</td>\n",
       "    </tr>\n",
       "    <tr>\n",
       "      <th>75%</th>\n",
       "      <td>1.000000</td>\n",
       "      <td>24.000000</td>\n",
       "      <td>5.000000</td>\n",
       "      <td>5.000000</td>\n",
       "      <td>1.000000</td>\n",
       "      <td>3.000000</td>\n",
       "      <td>3.000000</td>\n",
       "      <td>9.000000</td>\n",
       "      <td>9.000000</td>\n",
       "      <td>9.000000</td>\n",
       "      <td>2.000000</td>\n",
       "      <td>259.000000</td>\n",
       "      <td>259.000000</td>\n",
       "      <td>259.000000</td>\n",
       "      <td>1.000000</td>\n",
       "      <td>1.000000</td>\n",
       "      <td>5.000000</td>\n",
       "      <td>112.000000</td>\n",
       "      <td>147.000000</td>\n",
       "    </tr>\n",
       "    <tr>\n",
       "      <th>max</th>\n",
       "      <td>1.000000</td>\n",
       "      <td>146.000000</td>\n",
       "      <td>8.000000</td>\n",
       "      <td>5.000000</td>\n",
       "      <td>10.000000</td>\n",
       "      <td>5.000000</td>\n",
       "      <td>9.000000</td>\n",
       "      <td>9.000000</td>\n",
       "      <td>9.000000</td>\n",
       "      <td>9.000000</td>\n",
       "      <td>9.000000</td>\n",
       "      <td>2835.000000</td>\n",
       "      <td>2835.000000</td>\n",
       "      <td>2835.000000</td>\n",
       "      <td>4.000000</td>\n",
       "      <td>4.000000</td>\n",
       "      <td>5.000000</td>\n",
       "      <td>1847.000000</td>\n",
       "      <td>1624.000000</td>\n",
       "    </tr>\n",
       "  </tbody>\n",
       "</table>\n",
       "</div>"
      ],
      "text/plain": [
       "          RISK_Flag    LAST_MONTH           AGE  USER_CREDIT_ID   GPRS_VOLUME  \\\n",
       "count  28007.000000  28007.000000  28007.000000    28007.000000  28007.000000   \n",
       "mean       0.500018     17.641482      4.411076        4.277324      0.529046   \n",
       "std        0.500009     14.115910      1.048872        0.455592      1.193727   \n",
       "min        0.000000      1.000000      1.000000        3.000000      0.000000   \n",
       "25%        0.000000      8.000000      4.000000        4.000000      0.000000   \n",
       "50%        1.000000     14.000000      4.000000        4.000000      0.000000   \n",
       "75%        1.000000     24.000000      5.000000        5.000000      1.000000   \n",
       "max        1.000000    146.000000      8.000000        5.000000     10.000000   \n",
       "\n",
       "               ARPU   TOLL_COUNTS  WJ_CALL_COUNTS  OUT_CALL_COUNTS  \\\n",
       "count  28007.000000  28007.000000    28007.000000     28007.000000   \n",
       "mean       2.185168      2.229086        4.993430         7.511658   \n",
       "std        1.201889      2.831267        3.240832         2.607374   \n",
       "min        0.000000      0.000000        0.000000         0.000000   \n",
       "25%        1.000000      0.000000        2.000000         7.000000   \n",
       "50%        2.000000      1.000000        5.000000         9.000000   \n",
       "75%        3.000000      3.000000        9.000000         9.000000   \n",
       "max        5.000000      9.000000        9.000000         9.000000   \n",
       "\n",
       "       QQW_CALL_COUNTS   ROAM_COUNTS           R_0           R_1  \\\n",
       "count     28007.000000  28007.000000  28007.000000  28007.000000   \n",
       "mean          4.369301      1.502624    207.084407    207.084407   \n",
       "std           3.809576      2.564595    248.956595    248.956595   \n",
       "min           0.000000      0.000000      1.000000      1.000000   \n",
       "25%           0.000000      0.000000     57.000000     57.000000   \n",
       "50%           4.000000      0.000000    126.000000    126.000000   \n",
       "75%           9.000000      2.000000    259.000000    259.000000   \n",
       "max           9.000000      9.000000   2835.000000   2835.000000   \n",
       "\n",
       "                R_4   Stop_Days06    Stop_Cnt06   NUM_OF_COMM  MOCALL_COUNTS  \\\n",
       "count  28007.000000  28007.000000  28007.000000  28007.000000   28007.000000   \n",
       "mean     207.084407      1.384475      1.217803      3.964687      93.393830   \n",
       "std      248.956595      0.823232      0.427046      1.117021     130.825052   \n",
       "min        1.000000      1.000000      1.000000      0.000000       0.000000   \n",
       "25%       57.000000      1.000000      1.000000      3.000000      20.000000   \n",
       "50%      126.000000      1.000000      1.000000      4.000000      52.000000   \n",
       "75%      259.000000      1.000000      1.000000      5.000000     112.000000   \n",
       "max     2835.000000      4.000000      4.000000      5.000000    1847.000000   \n",
       "\n",
       "       MTCALL_COUNTS  \n",
       "count   28007.000000  \n",
       "mean      113.791981  \n",
       "std       128.200456  \n",
       "min         0.000000  \n",
       "25%        34.000000  \n",
       "50%        74.000000  \n",
       "75%       147.000000  \n",
       "max      1624.000000  "
      ]
     },
     "execution_count": 51,
     "metadata": {},
     "output_type": "execute_result"
    }
   ],
   "source": [
    "df.describe()"
   ]
  },
  {
   "cell_type": "code",
   "execution_count": 52,
   "metadata": {
    "scrolled": true
   },
   "outputs": [
    {
     "data": {
      "image/png": "[encoded data removed]",
      "text/plain": [
       "<matplotlib.figure.Figure at 0x11a89cb38>"
      ]
     },
     "metadata": {},
     "output_type": "display_data"
    },
    {
     "data": {
      "image/png": "[encoded data removed]",
      "text/plain": [
       "<matplotlib.figure.Figure at 0x11a232da0>"
      ]
     },
     "metadata": {},
     "output_type": "display_data"
    },
    {
     "data": {
      "image/png": "[encoded data removed]",
      "text/plain": [
       "<matplotlib.figure.Figure at 0x11ac099e8>"
      ]
     },
     "metadata": {},
     "output_type": "display_data"
    },
    {
     "data": {
      "image/png": "[encoded data removed]",
      "text/plain": [
       "<matplotlib.figure.Figure at 0x11c3a5748>"
      ]
     },
     "metadata": {},
     "output_type": "display_data"
    },
    {
     "data": {
      "image/png": "[encoded data removed]",
      "text/plain": [
       "<matplotlib.figure.Figure at 0x11c432c18>"
      ]
     },
     "metadata": {},
     "output_type": "display_data"
    }
   ],
   "source": [
    "temp1=pd.crosstab(round(df.ARPU), df.RISK_Flag)\n",
    "temp1.plot(kind='bar', stacked=True, color=['red','blue'], grid=False)\n",
    "\n",
    "temp2=pd.crosstab(round(df.NUM_OF_COMM), df.RISK_Flag)\n",
    "temp2.plot(kind='bar', stacked=True, color=['red','blue'], grid=False)\n",
    "\n",
    "temp3=pd.crosstab(round(df.GPRS_VOLUME), df.RISK_Flag)\n",
    "temp3.plot(kind='bar', stacked=True, color=['red','blue'], grid=False)\n",
    "\n",
    "temp5=pd.crosstab(df.Stop_Cnt06, df.RISK_Flag)\n",
    "temp5.plot(kind='bar', stacked=True, color=['red','blue'], grid=False)\n",
    "\n",
    "temp6=pd.crosstab(df.Stop_Days06, df.RISK_Flag)\n",
    "temp6.plot(kind='bar', stacked=True, color=['red','blue'], grid=False)\n",
    "plt.show()"
   ]
  },
  {
   "cell_type": "code",
   "execution_count": 53,
   "metadata": {},
   "outputs": [
    {
     "name": "stdout",
     "output_type": "stream",
     "text": [
      "RISK_Flag     0     1\n",
      "ARPU                 \n",
      "0.0           4    12\n",
      "1.0        2032  7984\n",
      "2.0        4308  4580\n",
      "3.0        3772  1072\n",
      "4.0        2091   248\n",
      "5.0        1796   108\n",
      "RISK_Flag       0     1\n",
      "NUM_OF_COMM            \n",
      "0.0             0    16\n",
      "1.0           156  1208\n",
      "2.0           180  1644\n",
      "3.0           656  3512\n",
      "4.0          3940  5712\n",
      "5.0          9071  1912\n",
      "RISK_Flag       0      1\n",
      "GPRS_VOLUME             \n",
      "0.0          7996  12876\n",
      "1.0          2880    704\n",
      "2.0          1436    228\n",
      "3.0           779     68\n",
      "4.0           428     64\n",
      "5.0           208     16\n",
      "6.0           116     16\n",
      "7.0            96     16\n",
      "8.0            28      8\n",
      "9.0            20      8\n",
      "10.0           16      0\n",
      "RISK_Flag       0     1\n",
      "Stop_Cnt06             \n",
      "1           13499  8572\n",
      "2             492  5284\n",
      "3              12   144\n",
      "4               0     4\n"
     ]
    }
   ],
   "source": [
    "print(temp1)\n",
    "print(temp2)\n",
    "print(temp3)\n",
    "print(temp5)"
   ]
  },
  {
   "cell_type": "markdown",
   "metadata": {},
   "source": [
    "#  6 数据建模"
   ]
  },
  {
   "cell_type": "markdown",
   "metadata": {},
   "source": [
    "## 6.1 测试验证集"
   ]
  },
  {
   "cell_type": "code",
   "execution_count": 54,
   "metadata": {
    "collapsed": true
   },
   "outputs": [],
   "source": [
    "X_train,X_test,y_train,y_test=train_test_split(df.drop('RISK_Flag',1),df.RISK_Flag,test_size=0.25)"
   ]
  },
  {
   "cell_type": "code",
   "execution_count": 55,
   "metadata": {},
   "outputs": [
    {
     "name": "stdout",
     "output_type": "stream",
     "text": [
      "(21005, 18) (21005,) (7002, 18) (7002,)\n"
     ]
    }
   ],
   "source": [
    "print(X_train.shape,y_train.shape, X_test.shape, y_test.shape)"
   ]
  },
  {
   "cell_type": "markdown",
   "metadata": {},
   "source": [
    "## 6.2 模型训练验证"
   ]
  },
  {
   "cell_type": "code",
   "execution_count": 56,
   "metadata": {},
   "outputs": [
    {
     "name": "stderr",
     "output_type": "stream",
     "text": [
      "/anaconda/lib/python3.6/site-packages/sklearn/cross_validation.py:44: DeprecationWarning: This module was deprecated in version 0.18 in favor of the model_selection module into which all the refactored classes and functions are moved. Also note that the interface of the new CV iterators are different from that of this module. This module will be removed in 0.20.\n",
      "  \"This module will be removed in 0.20.\", DeprecationWarning)\n",
      "/anaconda/lib/python3.6/site-packages/sklearn/grid_search.py:43: DeprecationWarning: This module was deprecated in version 0.18 in favor of the model_selection module into which all the refactored classes and functions are moved. This module will be removed in 0.20.\n",
      "  DeprecationWarning)\n"
     ]
    }
   ],
   "source": [
    "from sklearn.tree import DecisionTreeClassifier\n",
    "from sklearn.ensemble import RandomForestClassifier, AdaBoostClassifier, GradientBoostingClassifier,ExtraTreesClassifier\n",
    "from sklearn.svm import SVC\n",
    "from sklearn.neighbors import KNeighborsClassifier\n",
    "from sklearn.naive_bayes import GaussianNB\n",
    "from sklearn.model_selection import cross_val_score\n",
    "from sklearn.metrics import classification_report,auc\n",
    "from sklearn.grid_search import GridSearchCV\n",
    "from sklearn.neighbors import KNeighborsClassifier\n",
    "from sklearn.linear_model import LogisticRegression\n",
    "from sklearn.ensemble import GradientBoostingClassifier \n",
    "from sklearn.neural_network import MLPClassifier\n",
    "from sklearn.metrics import cohen_kappa_score\n",
    "from sklearn import cross_validation, metrics\n",
    "from pprint import pprint\n",
    "from sklearn import tree\n",
    "import xgboost as xgb"
   ]
  },
  {
   "cell_type": "markdown",
   "metadata": {},
   "source": [
    "### 模型：决策树"
   ]
  },
  {
   "cell_type": "code",
   "execution_count": 57,
   "metadata": {
    "scrolled": true
   },
   "outputs": [
    {
     "name": "stdout",
     "output_type": "stream",
     "text": [
      "0.866753765095\n",
      "             precision    recall  f1-score   support\n",
      "\n",
      "          0       0.99      0.99      0.99      3549\n",
      "          1       0.99      0.99      0.99      3453\n",
      "\n",
      "avg / total       0.99      0.99      0.99      7002\n",
      "\n",
      "0.975430586548\n"
     ]
    }
   ],
   "source": [
    "clf_tree=DecisionTreeClassifier()\n",
    "clf_tree.fit(X_train,y_train)\n",
    "score_tree=cross_val_score(clf_tree,X_test,y_test,cv=10).mean()\n",
    "clf_tree.feature_importances_\n",
    "y_pred_tree=clf_tree.predict(X_test)\n",
    "ck_tree=cohen_kappa_score(y_test, y_pred_tree)\n",
    "print(score_tree)\n",
    "print(classification_report(y_test, y_pred_tree))\n",
    "print(ck_tree)"
   ]
  },
  {
   "cell_type": "code",
   "execution_count": 58,
   "metadata": {},
   "outputs": [
    {
     "name": "stdout",
     "output_type": "stream",
     "text": [
      "样本总数：\t 7002\n",
      "错误数目：\t  86\n",
      "错误率：\t1.23%\n",
      "精准度：\t98.77%\n",
      "AUC：\t98.77%\n"
     ]
    }
   ],
   "source": [
    "error_count_tree = sum(y_test != (y_pred_tree))\n",
    "error_rate_tree = float(error_count_tree) / len(y_pred_tree)\n",
    "fpr_tree, tpr_tree, thresholds_tree = metrics.roc_curve(y_test, y_pred_tree)\n",
    "auc_tree=metrics.auc(fpr_tree, tpr_tree)\n",
    "\n",
    "print(\"样本总数：\\t\", len(y_pred_tree))\n",
    "print(\"错误数目：\\t%4d\" % error_count_tree)\n",
    "print(\"错误率：\\t%.2f%%\" % (100 * error_rate_tree))\n",
    "print(\"精准度：\\t%.2f%%\" % (100 * (1-error_rate_tree)))\n",
    "print(\"AUC：\\t%.2f%%\" % (100 * auc_tree))"
   ]
  },
  {
   "cell_type": "code",
   "execution_count": 59,
   "metadata": {
    "collapsed": true
   },
   "outputs": [],
   "source": [
    "#with open(\"dt2.dot\", 'w') as f:\n",
    "#    dot_data = tree.export_graphviz(clf_tree, out_file=f, \n",
    "#                     feature_names=X_train.columns,  \n",
    "#                     class_names=\"RISK\",  \n",
    "#                     filled=True, rounded=True,  \n",
    "#                     special_characters=True)  "
   ]
  },
  {
   "cell_type": "markdown",
   "metadata": {},
   "source": [
    "### 模型：随机森林"
   ]
  },
  {
   "cell_type": "code",
   "execution_count": 60,
   "metadata": {
    "collapsed": true
   },
   "outputs": [],
   "source": [
    "#==GRID SEARCH 1 FOR RANDFOREST:\n",
    "\n",
    "#parameters1 = {'n_estimators':[750, 760, 770, 780, 790, 800, 810, 820, 830, 840, 850, 860, 870, 880, 890, 900]}\n",
    "#grid_search = GridSearchCV(estimator=RandomForestClassifier(min_samples_split=100,min_samples_leaf=20,max_depth=8,max_features='sqrt' ,random_state=10),param_grid=parameters1, cv=5, scoring='roc_auc')\n",
    "\n",
    "#grid_search.fit(X_train,y_train)\n",
    "#grid_search.grid_scores_, grid_search.best_params_, grid_search.best_score_\n",
    "\n",
    "#([mean: 0.91561, std: 0.00299, params: {'n_estimators': 750},\n",
    "#  mean: 0.91563, std: 0.00298, params: {'n_estimators': 760},\n",
    "#  mean: 0.91562, std: 0.00299, params: {'n_estimators': 770},\n",
    "#  mean: 0.91563, std: 0.00299, params: {'n_estimators': 780},\n",
    "#  mean: 0.91563, std: 0.00299, params: {'n_estimators': 790},\n",
    "#  mean: 0.91564, std: 0.00298, params: {'n_estimators': 800},\n",
    "#  mean: 0.91564, std: 0.00298, params: {'n_estimators': 810},\n",
    "#  mean: 0.91563, std: 0.00298, params: {'n_estimators': 820},\n",
    "#  mean: 0.91562, std: 0.00297, params: {'n_estimators': 830},\n",
    "#  mean: 0.91561, std: 0.00297, params: {'n_estimators': 840},\n",
    "#  mean: 0.91560, std: 0.00296, params: {'n_estimators': 850},\n",
    "#  mean: 0.91560, std: 0.00297, params: {'n_estimators': 860},\n",
    "#  mean: 0.91561, std: 0.00298, params: {'n_estimators': 870},\n",
    "#  mean: 0.91560, std: 0.00298, params: {'n_estimators': 880},\n",
    "#  mean: 0.91559, std: 0.00299, params: {'n_estimators': 890},\n",
    "#  mean: 0.91560, std: 0.00298, params: {'n_estimators': 900}],\n",
    "# {'n_estimators': 800},\n",
    "# 0.9156393405184282)"
   ]
  },
  {
   "cell_type": "code",
   "execution_count": 61,
   "metadata": {
    "collapsed": true,
    "scrolled": false
   },
   "outputs": [],
   "source": [
    "#==GRID SEARCH 2 FOR RANDFOREST:\n",
    "\n",
    "#parameters2 = {'max_depth':[3,5,7,9,11,13], 'min_samples_split':[50,70,90,110,130,150,170,190,210]}\n",
    "#grid_search = GridSearchCV(estimator=RandomForestClassifier(n_estimators= 800,max_features='sqrt' ,random_state=10),param_grid=parameters2, cv=5, scoring='roc_auc')\n",
    "\n",
    "#grid_search.fit(X_train,y_train)\n",
    "#grid_search.grid_scores_, grid_search.best_params_, grid_search.best_score_"
   ]
  },
  {
   "cell_type": "code",
   "execution_count": 62,
   "metadata": {
    "collapsed": true
   },
   "outputs": [],
   "source": [
    "#==GRID SEARCH 3 FOR RANDFOREST:\n",
    "\n",
    "#param_test3 = {'max_features':[3,5,7,9,11,13],'min_samples_leaf':[10,20,30,40,50]}\n",
    "#grid_search = GridSearchCV(estimator = RandomForestClassifier(n_estimators= 800, max_depth=13,min_samples_split=50 ,oob_score=True, random_state=10),param_grid = param_test3, scoring='roc_auc',iid=False, cv=5)\n",
    "#grid_search.fit(X_train,y_train)\n",
    "#grid_search.grid_scores_, grid_search.best_params_, grid_search.best_score_"
   ]
  },
  {
   "cell_type": "code",
   "execution_count": 63,
   "metadata": {
    "scrolled": true
   },
   "outputs": [
    {
     "name": "stdout",
     "output_type": "stream",
     "text": [
      "0.908311553697\n",
      "             precision    recall  f1-score   support\n",
      "\n",
      "          0       0.99      1.00      1.00      3549\n",
      "          1       1.00      0.99      1.00      3453\n",
      "\n",
      "avg / total       1.00      1.00      1.00      7002\n",
      "\n",
      "0.990286434866\n"
     ]
    }
   ],
   "source": [
    "#clf_rf=RandomForestClassifier(n_estimators=1000, max_depth=13,min_samples_split=50 ,oob_score=True, random_state=10,max_features=13,min_samples_leaf=10)\n",
    "clf_rf=RandomForestClassifier(n_estimators= 1000,max_features=5)\n",
    "clf_rf.fit(X_train,y_train)\n",
    "score_rf=cross_val_score(clf_rf,X_test,y_test,cv=10).mean()\n",
    "y_pred_rf=clf_rf.predict(X_test)\n",
    "ck_rf=cohen_kappa_score(y_test, y_pred_rf)\n",
    "print(score_rf)\n",
    "print(classification_report(y_test, y_pred_rf))\n",
    "print(ck_rf)"
   ]
  },
  {
   "cell_type": "code",
   "execution_count": 64,
   "metadata": {},
   "outputs": [
    {
     "name": "stdout",
     "output_type": "stream",
     "text": [
      "样本总数：\t 7002\n",
      "错误数目：\t  34\n",
      "错误率：\t0.49%\n",
      "精准度：\t99.51%\n",
      "AUC：\t99.51%\n"
     ]
    }
   ],
   "source": [
    "error_count_rf = sum(y_test != (y_pred_rf))\n",
    "error_rate_rf = float(error_count_rf) / len(y_pred_rf)\n",
    "fpr_rf, tpr_rf, thresholds_rf = metrics.roc_curve(y_test, y_pred_rf)\n",
    "auc_rf=metrics.auc(fpr_rf, tpr_rf)\n",
    "\n",
    "print(\"样本总数：\\t\", len(y_pred_rf))\n",
    "print(\"错误数目：\\t%4d\" % error_count_rf)\n",
    "print(\"错误率：\\t%.2f%%\" % (100 * error_rate_rf))\n",
    "print(\"精准度：\\t%.2f%%\" % (100 * (1-error_rate_rf)))\n",
    "print(\"AUC：\\t%.2f%%\" % (100 * auc_rf))"
   ]
  },
  {
   "cell_type": "code",
   "execution_count": 65,
   "metadata": {
    "scrolled": false
   },
   "outputs": [
    {
     "data": {
      "text/plain": [
       "<matplotlib.figure.Figure at 0x11aa72860>"
      ]
     },
     "metadata": {},
     "output_type": "display_data"
    },
    {
     "data": {
      "image/png": "[encoded data removed]",
      "text/plain": [
       "<matplotlib.figure.Figure at 0x11aa72630>"
      ]
     },
     "metadata": {},
     "output_type": "display_data"
    },
    {
     "name": "stdout",
     "output_type": "stream",
     "text": [
      "             factor    weight\n",
      "0    USER_CREDIT_ID  0.136250\n",
      "1               R_1  0.091851\n",
      "2               R_0  0.091042\n",
      "3       NUM_OF_COMM  0.084978\n",
      "4               R_4  0.078876\n",
      "5     MTCALL_COUNTS  0.075555\n",
      "6     MOCALL_COUNTS  0.075427\n",
      "7        LAST_MONTH  0.059518\n",
      "8       Stop_Days06  0.048012\n",
      "9              ARPU  0.041868\n",
      "10   WJ_CALL_COUNTS  0.033976\n",
      "11       Stop_Cnt06  0.030930\n",
      "12  QQW_CALL_COUNTS  0.030367\n",
      "13              AGE  0.028516\n",
      "14      TOLL_COUNTS  0.025776\n",
      "15  OUT_CALL_COUNTS  0.023927\n",
      "16      GPRS_VOLUME  0.023680\n",
      "17      ROAM_COUNTS  0.019452\n"
     ]
    }
   ],
   "source": [
    "importances = clf_rf.feature_importances_\n",
    "#features = df.columns[1:]\n",
    "features=df.drop('RISK_Flag',1).columns\n",
    "sort_indices = np.argsort(importances)[::-1]\n",
    "sorted_features = []\n",
    "for idx in sort_indices:\n",
    "    sorted_features.append(features[idx])\n",
    "plt.figure()\n",
    "plt.figure(figsize=(14,14))\n",
    "plt.bar(range(len(importances)), importances[sort_indices], align='center');\n",
    "plt.xticks(range(len(importances)), sorted_features, rotation='vertical');\n",
    "plt.xlim([-1, len(importances)])\n",
    "plt.grid(False)\n",
    "plt.show()\n",
    "\n",
    "result=pd.DataFrame({'factor':sorted_features,'weight':importances[sort_indices]})\n",
    "print(result)"
   ]
  },
  {
   "cell_type": "markdown",
   "metadata": {},
   "source": [
    "## 模型：支持向量机"
   ]
  },
  {
   "cell_type": "code",
   "execution_count": 66,
   "metadata": {},
   "outputs": [
    {
     "name": "stdout",
     "output_type": "stream",
     "text": [
      "0.828191282315\n",
      "             precision    recall  f1-score   support\n",
      "\n",
      "          0       0.97      0.98      0.98      3549\n",
      "          1       0.98      0.96      0.97      3453\n",
      "\n",
      "avg / total       0.97      0.97      0.97      7002\n",
      "\n",
      "0.949419841104\n"
     ]
    }
   ],
   "source": [
    "clf_svm=SVC(C=1)\n",
    "clf_svm.fit(X_train,y_train)\n",
    "score_svm=cross_val_score(clf_svm,X_test,y_test,cv=10).mean()\n",
    "print(score_svm)\n",
    "y_pred_svm=clf_svm.predict(X_test)\n",
    "ck_svm=cohen_kappa_score(y_test, y_pred_svm)\n",
    "print(classification_report(y_test, y_pred_svm))\n",
    "print(ck_svm)"
   ]
  },
  {
   "cell_type": "code",
   "execution_count": 67,
   "metadata": {},
   "outputs": [
    {
     "name": "stdout",
     "output_type": "stream",
     "text": [
      "样本总数：\t 7002\n",
      "错误数目：\t 177\n",
      "错误率：\t2.53%\n",
      "精准度：\t97.47%\n",
      "AUC：\t97.46%\n"
     ]
    }
   ],
   "source": [
    "error_count_svm = sum(y_test != (y_pred_svm))\n",
    "error_rate_svm = float(error_count_svm) / len(y_pred_svm)\n",
    "fpr_svm, tpr_svm, thresholds_svm = metrics.roc_curve(y_test, y_pred_svm)\n",
    "auc_svm=metrics.auc(fpr_svm, tpr_svm)\n",
    "\n",
    "print(\"样本总数：\\t\", len(y_pred_svm))\n",
    "print(\"错误数目：\\t%4d\" % error_count_svm)\n",
    "print(\"错误率：\\t%.2f%%\" % (100 * error_rate_svm))\n",
    "print(\"精准度：\\t%.2f%%\" % (100 * (1-error_rate_svm)))\n",
    "print(\"AUC：\\t%.2f%%\" % (100 * auc_svm))"
   ]
  },
  {
   "cell_type": "code",
   "execution_count": 68,
   "metadata": {
    "collapsed": true
   },
   "outputs": [],
   "source": [
    "#clf_svm=SVC()\n",
    "#parameters = {'C': [0.0001, 1]}\n",
    "#grid_search = GridSearchCV(estimator=clf_svm,param_grid=parameters, cv=10, scoring='accuracy')\n",
    "\n",
    "#print(\"parameters:\")\n",
    "#pprint(parameters)\n",
    "#grid_search.fit(X_train,y_train)\n",
    "#print(\"Best score: %0.3f\" % grid_search.best_score_)\n",
    "#print(\"Best parameters set:\")\n",
    "#best_parameters=grid_search.best_estimator_.get_params()\n",
    "#for param_name in sorted(parameters.keys()):\n",
    "#    print(\"\\t%s: %r\" % (param_name, best_parameters[param_name]))"
   ]
  },
  {
   "cell_type": "markdown",
   "metadata": {},
   "source": [
    "## 模型：Ada Boost"
   ]
  },
  {
   "cell_type": "code",
   "execution_count": 69,
   "metadata": {},
   "outputs": [
    {
     "name": "stdout",
     "output_type": "stream",
     "text": [
      "0.817624336551\n",
      "             precision    recall  f1-score   support\n",
      "\n",
      "          0       0.84      0.81      0.82      3549\n",
      "          1       0.81      0.84      0.83      3453\n",
      "\n",
      "avg / total       0.83      0.82      0.82      7002\n",
      "\n",
      "0.649924014185\n"
     ]
    }
   ],
   "source": [
    "clf_ada=AdaBoostClassifier()\n",
    "clf_ada.fit(X_train,y_train)\n",
    "score_ada=cross_val_score(clf_ada,X_test,y_test,cv=10).mean()\n",
    "print(score_ada)\n",
    "clf_ada.feature_importances_\n",
    "y_pred_ada=clf_ada.predict(X_test)\n",
    "ck_ada=cohen_kappa_score(y_test, y_pred_ada)\n",
    "print(classification_report(y_test, y_pred_ada))\n",
    "print(ck_ada)"
   ]
  },
  {
   "cell_type": "code",
   "execution_count": 70,
   "metadata": {},
   "outputs": [
    {
     "name": "stdout",
     "output_type": "stream",
     "text": [
      "样本总数：\t 7002\n",
      "错误数目：\t1226\n",
      "错误率：\t17.51%\n",
      "精准度：\t82.49%\n",
      "AUC：\t82.51%\n"
     ]
    }
   ],
   "source": [
    "error_count_ada = sum(y_test != (y_pred_ada))\n",
    "error_rate_ada = float(error_count_ada) / len(y_pred_ada)\n",
    "fpr_ada, tpr_ada, thresholds_ada = metrics.roc_curve(y_test, y_pred_ada)\n",
    "auc_ada=metrics.auc(fpr_ada, tpr_ada)\n",
    "\n",
    "print(\"样本总数：\\t\", len(y_pred_ada))\n",
    "print(\"错误数目：\\t%4d\" % error_count_ada)\n",
    "print(\"错误率：\\t%.2f%%\" % (100 * error_rate_ada))\n",
    "print(\"精准度：\\t%.2f%%\" % (100 * (1-error_rate_ada)))\n",
    "print(\"AUC：\\t%.2f%%\" % (100 * auc_ada))"
   ]
  },
  {
   "cell_type": "markdown",
   "metadata": {},
   "source": [
    "## 模型：朴素贝叶斯"
   ]
  },
  {
   "cell_type": "code",
   "execution_count": 71,
   "metadata": {},
   "outputs": [
    {
     "name": "stdout",
     "output_type": "stream",
     "text": [
      "0.798484117606\n",
      "             precision    recall  f1-score   support\n",
      "\n",
      "          0       0.99      0.99      0.99      3549\n",
      "          1       0.99      0.99      0.99      3453\n",
      "\n",
      "avg / total       0.99      0.99      0.99      7002\n",
      "\n",
      "0.975430586548\n"
     ]
    }
   ],
   "source": [
    "clf_nb=GaussianNB()\n",
    "clf_nb.fit(X_train,y_train)\n",
    "score_nb=cross_val_score(clf_nb,X_test,y_test,cv=10).mean()\n",
    "print(score_nb)\n",
    "y_pred_nb=clf_tree.predict(X_test)\n",
    "ck_nb=cohen_kappa_score(y_test, y_pred_nb)\n",
    "print(classification_report(y_test, y_pred_nb))\n",
    "print(ck_nb)"
   ]
  },
  {
   "cell_type": "code",
   "execution_count": 72,
   "metadata": {},
   "outputs": [
    {
     "name": "stdout",
     "output_type": "stream",
     "text": [
      "样本总数：\t 7002\n",
      "错误数目：\t  86\n",
      "错误率：\t1.23%\n",
      "精准度：\t98.77%\n",
      "AUC：\t98.77%\n"
     ]
    }
   ],
   "source": [
    "error_count_nb = sum(y_test != (y_pred_nb))\n",
    "error_rate_nb = float(error_count_nb) / len(y_pred_nb)\n",
    "fpr_nb, tpr_nb, thresholds_nb = metrics.roc_curve(y_test, y_pred_nb)\n",
    "auc_nb=metrics.auc(fpr_nb, tpr_nb)\n",
    "\n",
    "print(\"样本总数：\\t\", len(y_pred_nb))\n",
    "print(\"错误数目：\\t%4d\" % error_count_nb)\n",
    "print(\"错误率：\\t%.2f%%\" % (100 * error_rate_nb))\n",
    "print(\"精准度：\\t%.2f%%\" % (100 * (1-error_rate_nb)))\n",
    "print(\"AUC：\\t%.2f%%\" % (100 * auc_nb))"
   ]
  },
  {
   "cell_type": "markdown",
   "metadata": {},
   "source": [
    "## 模型：GBDT(Gradient Boosting Decision Tree) Classifier  "
   ]
  },
  {
   "cell_type": "code",
   "execution_count": 73,
   "metadata": {},
   "outputs": [
    {
     "name": "stdout",
     "output_type": "stream",
     "text": [
      "0.839190681439\n",
      "             precision    recall  f1-score   support\n",
      "\n",
      "          0       0.88      0.82      0.85      3549\n",
      "          1       0.83      0.88      0.86      3453\n",
      "\n",
      "avg / total       0.86      0.85      0.85      7002\n",
      "\n",
      "0.707995602229\n"
     ]
    }
   ],
   "source": [
    "clf_gbdt=GradientBoostingClassifier(n_estimators=300)\n",
    "clf_gbdt.fit(X_train,y_train)\n",
    "score_gbdt=cross_val_score(clf_gbdt,X_test,y_test,cv=10).mean()\n",
    "print(score_gbdt)\n",
    "y_pred_gbdt=clf_gbdt.predict(X_test)\n",
    "ck_gbdt=cohen_kappa_score(y_test, y_pred_gbdt)\n",
    "print(classification_report(y_test, y_pred_gbdt))\n",
    "print(ck_gbdt)"
   ]
  },
  {
   "cell_type": "code",
   "execution_count": 74,
   "metadata": {
    "scrolled": true
   },
   "outputs": [
    {
     "name": "stdout",
     "output_type": "stream",
     "text": [
      "样本总数：\t 7002\n",
      "错误数目：\t1023\n",
      "错误率：\t14.61%\n",
      "精准度：\t85.39%\n",
      "AUC：\t85.43%\n"
     ]
    }
   ],
   "source": [
    "error_count_gbdt = sum(y_test != (y_pred_gbdt))\n",
    "error_rate_gbdt = float(error_count_gbdt) / len(y_pred_gbdt)\n",
    "fpr_gbdt, tpr_gbdt, thresholds_gbdt = metrics.roc_curve(y_test, y_pred_gbdt)\n",
    "auc_gbdt=metrics.auc(fpr_gbdt, tpr_gbdt)\n",
    "\n",
    "print(\"样本总数：\\t\", len(y_pred_gbdt))\n",
    "print(\"错误数目：\\t%4d\" % error_count_gbdt)\n",
    "print(\"错误率：\\t%.2f%%\" % (100 * error_rate_gbdt))\n",
    "print(\"精准度：\\t%.2f%%\" % (100 * (1-error_rate_gbdt)))\n",
    "print(\"AUC：\\t%.2f%%\" % (100 * auc_gbdt))"
   ]
  },
  {
   "cell_type": "markdown",
   "metadata": {},
   "source": [
    "## 模型：KNN"
   ]
  },
  {
   "cell_type": "code",
   "execution_count": 75,
   "metadata": {},
   "outputs": [
    {
     "name": "stdout",
     "output_type": "stream",
     "text": [
      "0.759494086431\n",
      "             precision    recall  f1-score   support\n",
      "\n",
      "          0       0.78      0.81      0.80      3549\n",
      "          1       0.80      0.77      0.79      3453\n",
      "\n",
      "avg / total       0.79      0.79      0.79      7002\n",
      "\n",
      "0.584674824816\n"
     ]
    }
   ],
   "source": [
    "clf_knn=KNeighborsClassifier(n_neighbors=10)\n",
    "clf_knn.fit(X_train,y_train)\n",
    "score_knn=cross_val_score(clf_knn,X_test,y_test,cv=10).mean()\n",
    "print(score_knn)\n",
    "y_pred_knn=clf_knn.predict(X_test)\n",
    "ck_knn=cohen_kappa_score(y_test, y_pred_knn)\n",
    "print(classification_report(y_test, y_pred_knn))\n",
    "print(ck_knn)"
   ]
  },
  {
   "cell_type": "code",
   "execution_count": 76,
   "metadata": {},
   "outputs": [
    {
     "name": "stdout",
     "output_type": "stream",
     "text": [
      "样本总数：\t 7002\n",
      "错误数目：\t1453\n",
      "错误率：\t20.75%\n",
      "精准度：\t79.25%\n",
      "AUC：\t79.22%\n"
     ]
    }
   ],
   "source": [
    "error_count_knn = sum(y_test != (y_pred_knn))\n",
    "error_rate_knn = float(error_count_knn) / len(y_pred_knn)\n",
    "fpr_knn, tpr_knn, thresholds_knn = metrics.roc_curve(y_test, y_pred_knn)\n",
    "auc_knn=metrics.auc(fpr_knn, tpr_knn)\n",
    "\n",
    "print(\"样本总数：\\t\", len(y_pred_knn))\n",
    "print(\"错误数目：\\t%4d\" % error_count_knn)\n",
    "print(\"错误率：\\t%.2f%%\" % (100 * error_rate_knn))\n",
    "print(\"精准度：\\t%.2f%%\" % (100 * (1-error_rate_knn)))\n",
    "print(\"AUC：\\t%.2f%%\" % (100 * auc_knn))"
   ]
  },
  {
   "cell_type": "markdown",
   "metadata": {},
   "source": [
    "### knn模型结果可视化"
   ]
  },
  {
   "cell_type": "code",
   "execution_count": 77,
   "metadata": {
    "collapsed": true
   },
   "outputs": [],
   "source": [
    "#from sklearn.manifold import TSNE"
   ]
  },
  {
   "cell_type": "code",
   "execution_count": 78,
   "metadata": {
    "collapsed": true
   },
   "outputs": [],
   "source": [
    "#tsne=TSNE()\n",
    "#tsne.fit_transform(X_test)  #进行数据降维,降成两维\n",
    "#tsne=pd.DataFrame(tsne.embedding_,index=y_test)\n",
    "#d0=tsne.loc[y_pred_knn==0]\n",
    "#d1=tsne.loc[y_pred_knn==1]"
   ]
  },
  {
   "cell_type": "code",
   "execution_count": 79,
   "metadata": {
    "collapsed": true
   },
   "outputs": [],
   "source": [
    "#plt.scatter(d0[0],d0[1],c='red')\n",
    "#plt.scatter(d1[0],d1[1],c='blue')\n",
    "#plt.show()"
   ]
  },
  {
   "cell_type": "markdown",
   "metadata": {},
   "source": [
    "## 模型：逻辑回归"
   ]
  },
  {
   "cell_type": "code",
   "execution_count": 80,
   "metadata": {
    "scrolled": true
   },
   "outputs": [
    {
     "name": "stdout",
     "output_type": "stream",
     "text": [
      "0.814196379993\n",
      "             precision    recall  f1-score   support\n",
      "\n",
      "          0       0.83      0.80      0.82      3549\n",
      "          1       0.81      0.83      0.82      3453\n",
      "\n",
      "avg / total       0.82      0.82      0.82      7002\n",
      "\n",
      "0.635621176125\n"
     ]
    }
   ],
   "source": [
    "clf_log=LogisticRegression(C=0.1)\n",
    "clf_log.fit(X_train,y_train)\n",
    "score_log=cross_val_score(clf_log,X_test,y_test,cv=10).mean()\n",
    "print(score_log)\n",
    "y_pred_log=clf_log.predict(X_test)\n",
    "ck_log=cohen_kappa_score(y_test, y_pred_log)\n",
    "print(classification_report(y_test, y_pred_log))\n",
    "print(ck_log)"
   ]
  },
  {
   "cell_type": "code",
   "execution_count": 81,
   "metadata": {},
   "outputs": [
    {
     "name": "stdout",
     "output_type": "stream",
     "text": [
      "样本总数：\t 7002\n",
      "错误数目：\t1276\n",
      "错误率：\t18.22%\n",
      "精准度：\t81.78%\n",
      "AUC：\t81.79%\n"
     ]
    }
   ],
   "source": [
    "error_count_log = sum(y_test != (y_pred_log))\n",
    "error_rate_log = float(error_count_log) / len(y_pred_log)\n",
    "fpr_log, tpr_log, thresholds_log = metrics.roc_curve(y_test, y_pred_log)\n",
    "auc_log=metrics.auc(fpr_log, tpr_log)\n",
    "\n",
    "print(\"样本总数：\\t\", len(y_pred_log))\n",
    "print(\"错误数目：\\t%4d\" % error_count_log)\n",
    "print(\"错误率：\\t%.2f%%\" % (100 * error_rate_log))\n",
    "print(\"精准度：\\t%.2f%%\" % (100 * (1-error_rate_log)))\n",
    "print(\"AUC：\\t%.2f%%\" % (100 * auc_log))"
   ]
  },
  {
   "cell_type": "markdown",
   "metadata": {},
   "source": [
    "## 模型：多隐层神经网络"
   ]
  },
  {
   "cell_type": "code",
   "execution_count": 82,
   "metadata": {
    "scrolled": true
   },
   "outputs": [
    {
     "name": "stdout",
     "output_type": "stream",
     "text": [
      "0.797204726657\n",
      "             precision    recall  f1-score   support\n",
      "\n",
      "          0       0.77      0.83      0.80      3549\n",
      "          1       0.81      0.74      0.78      3453\n",
      "\n",
      "avg / total       0.79      0.79      0.79      7002\n",
      "\n",
      "0.576709981048\n"
     ]
    }
   ],
   "source": [
    "clf_nn = MLPClassifier(solver='adam', alpha=1e-5, hidden_layer_sizes=[20,20], random_state=1, activation='relu')\n",
    "clf_nn.fit(X_test, y_test)\n",
    "score_nn=cross_val_score(clf_nn,X_test,y_test,cv=10).mean()\n",
    "print(score_nn)\n",
    "y_pred_nn=clf_nn.predict(X_test)\n",
    "print(classification_report(y_test, y_pred_nn))\n",
    "ck_nn=cohen_kappa_score(y_test, y_pred_nn)\n",
    "print(ck_nn)"
   ]
  },
  {
   "cell_type": "code",
   "execution_count": 83,
   "metadata": {},
   "outputs": [
    {
     "name": "stdout",
     "output_type": "stream",
     "text": [
      "样本总数：\t 7002\n",
      "错误数目：\t1480\n",
      "错误率：\t21.14%\n",
      "精准度：\t78.86%\n",
      "AUC：\t78.80%\n"
     ]
    }
   ],
   "source": [
    "error_count_nn = sum(y_test != (y_pred_nn))\n",
    "error_rate_nn = float(error_count_nn) / len(y_pred_nn)\n",
    "fpr_nn, tpr_nn, thresholds_nn = metrics.roc_curve(y_test, y_pred_nn)\n",
    "auc_nn=metrics.auc(fpr_nn, tpr_nn)\n",
    "\n",
    "print(\"样本总数：\\t\", len(y_pred_nn))\n",
    "print(\"错误数目：\\t%4d\" % error_count_nn)\n",
    "print(\"错误率：\\t%.2f%%\" % (100 * error_rate_nn))\n",
    "print(\"精准度：\\t%.2f%%\" % (100 * (1-error_rate_nn)))\n",
    "print(\"AUC：\\t%.2f%%\" % (100 * auc_nn))"
   ]
  },
  {
   "cell_type": "markdown",
   "metadata": {},
   "source": [
    "## 模型：xgboost"
   ]
  },
  {
   "cell_type": "code",
   "execution_count": 84,
   "metadata": {
    "collapsed": true
   },
   "outputs": [],
   "source": [
    "from sklearn.datasets import dump_svmlight_file\n",
    "dump_svmlight_file(X_train, y_train, 'train.xgb')\n",
    "dump_svmlight_file(X_test, y_test, 'test.xgb')"
   ]
  },
  {
   "cell_type": "code",
   "execution_count": 85,
   "metadata": {
    "scrolled": true
   },
   "outputs": [
    {
     "name": "stdout",
     "output_type": "stream",
     "text": [
      "[0]\teval-error:0.1501\ttrain-error:0.128779\n",
      "[1]\teval-error:0.128678\ttrain-error:0.10507\n",
      "[2]\teval-error:0.112539\ttrain-error:0.086694\n",
      "[3]\teval-error:0.099115\ttrain-error:0.068793\n",
      "[4]\teval-error:0.082976\ttrain-error:0.050464\n",
      "[5]\teval-error:0.072694\ttrain-error:0.040229\n",
      "[6]\teval-error:0.060697\ttrain-error:0.031088\n",
      "[7]\teval-error:0.044844\ttrain-error:0.021662\n",
      "[8]\teval-error:0.040274\ttrain-error:0.018329\n",
      "[9]\teval-error:0.036418\ttrain-error:0.013235\n",
      "[10]\teval-error:0.033847\ttrain-error:0.011378\n",
      "[11]\teval-error:0.027135\ttrain-error:0.008189\n",
      "[12]\teval-error:0.023422\ttrain-error:0.005761\n",
      "[13]\teval-error:0.02385\ttrain-error:0.005522\n",
      "[14]\teval-error:0.019851\ttrain-error:0.003571\n",
      "[15]\teval-error:0.018709\ttrain-error:0.003237\n",
      "[16]\teval-error:0.01571\ttrain-error:0.001381\n",
      "[17]\teval-error:0.012996\ttrain-error:0.000762\n",
      "[18]\teval-error:0.011425\ttrain-error:0.000524\n",
      "[19]\teval-error:0.012139\ttrain-error:0.000524\n",
      "[20]\teval-error:0.012282\ttrain-error:0.000428\n",
      "[21]\teval-error:0.013282\ttrain-error:0.000476\n",
      "[22]\teval-error:0.011568\ttrain-error:0.000333\n",
      "[23]\teval-error:0.01114\ttrain-error:0.000286\n",
      "[24]\teval-error:0.010997\ttrain-error:0.000286\n",
      "[25]\teval-error:0.010711\ttrain-error:0.000286\n",
      "[26]\teval-error:0.010997\ttrain-error:0.000333\n",
      "[27]\teval-error:0.010283\ttrain-error:0.000238\n",
      "[28]\teval-error:0.009854\ttrain-error:0.00019\n",
      "[29]\teval-error:0.01014\ttrain-error:0.00019\n",
      "[30]\teval-error:0.010283\ttrain-error:0.00019\n",
      "[31]\teval-error:0.010426\ttrain-error:0.00019\n",
      "[32]\teval-error:0.009854\ttrain-error:0.000143\n",
      "[33]\teval-error:0.009712\ttrain-error:0.000143\n",
      "[34]\teval-error:0.009854\ttrain-error:0.000143\n",
      "[35]\teval-error:0.009569\ttrain-error:0.000143\n",
      "[36]\teval-error:0.009712\ttrain-error:0.000143\n",
      "[37]\teval-error:0.009712\ttrain-error:0.000143\n",
      "[38]\teval-error:0.00914\ttrain-error:0.000143\n",
      "[39]\teval-error:0.009712\ttrain-error:0.000143\n",
      "[40]\teval-error:0.009712\ttrain-error:0.000143\n",
      "[41]\teval-error:0.00914\ttrain-error:0.000143\n",
      "[42]\teval-error:0.008855\ttrain-error:0.000143\n",
      "[43]\teval-error:0.009569\ttrain-error:0.000143\n",
      "[44]\teval-error:0.008855\ttrain-error:0.000143\n",
      "[45]\teval-error:0.008569\ttrain-error:0.000143\n",
      "[46]\teval-error:0.008426\ttrain-error:0.000143\n",
      "[47]\teval-error:0.008426\ttrain-error:0.000143\n",
      "[48]\teval-error:0.008569\ttrain-error:0.000143\n",
      "[49]\teval-error:0.008283\ttrain-error:0.000143\n",
      "[50]\teval-error:0.008569\ttrain-error:0.000143\n",
      "[51]\teval-error:0.008283\ttrain-error:0.000143\n",
      "[52]\teval-error:0.008283\ttrain-error:0.000143\n",
      "[53]\teval-error:0.008141\ttrain-error:0.000143\n",
      "[54]\teval-error:0.008283\ttrain-error:0.000143\n",
      "[55]\teval-error:0.008141\ttrain-error:0.000143\n",
      "[56]\teval-error:0.008141\ttrain-error:0.000143\n",
      "[57]\teval-error:0.007998\ttrain-error:0.000143\n",
      "[58]\teval-error:0.007855\ttrain-error:0.000143\n",
      "[59]\teval-error:0.007998\ttrain-error:0.000143\n",
      "[60]\teval-error:0.008141\ttrain-error:0.000143\n",
      "[61]\teval-error:0.008283\ttrain-error:0.000143\n",
      "[62]\teval-error:0.008283\ttrain-error:0.000143\n",
      "[63]\teval-error:0.008283\ttrain-error:0.000143\n",
      "[64]\teval-error:0.008283\ttrain-error:0.000143\n",
      "[65]\teval-error:0.008283\ttrain-error:0.000143\n",
      "[66]\teval-error:0.008283\ttrain-error:0.000143\n",
      "[67]\teval-error:0.008283\ttrain-error:0.000143\n",
      "[68]\teval-error:0.008141\ttrain-error:0.000143\n",
      "[69]\teval-error:0.008141\ttrain-error:0.000143\n",
      "[70]\teval-error:0.008141\ttrain-error:0.000143\n",
      "[71]\teval-error:0.008141\ttrain-error:0.000143\n",
      "[72]\teval-error:0.008141\ttrain-error:0.000143\n",
      "[73]\teval-error:0.008141\ttrain-error:0.000143\n",
      "[74]\teval-error:0.008141\ttrain-error:0.000143\n",
      "[75]\teval-error:0.008141\ttrain-error:0.000143\n",
      "[76]\teval-error:0.007998\ttrain-error:0.000143\n",
      "[77]\teval-error:0.007998\ttrain-error:0.000143\n",
      "[78]\teval-error:0.007998\ttrain-error:0.000143\n",
      "[79]\teval-error:0.007855\ttrain-error:0.000143\n",
      "[80]\teval-error:0.008141\ttrain-error:0.000143\n",
      "[81]\teval-error:0.007998\ttrain-error:0.000143\n",
      "[82]\teval-error:0.008141\ttrain-error:0.000143\n",
      "[83]\teval-error:0.008141\ttrain-error:0.000143\n",
      "[84]\teval-error:0.008141\ttrain-error:0.000143\n",
      "[85]\teval-error:0.008283\ttrain-error:0.000143\n",
      "[86]\teval-error:0.008141\ttrain-error:0.000143\n",
      "[87]\teval-error:0.008141\ttrain-error:0.000143\n",
      "[88]\teval-error:0.007998\ttrain-error:0.000143\n",
      "[89]\teval-error:0.007998\ttrain-error:0.000143\n",
      "[90]\teval-error:0.007998\ttrain-error:0.000143\n",
      "[91]\teval-error:0.007712\ttrain-error:0.000143\n",
      "[92]\teval-error:0.007712\ttrain-error:0.000143\n",
      "[93]\teval-error:0.007855\ttrain-error:0.000143\n",
      "[94]\teval-error:0.007855\ttrain-error:0.000143\n",
      "[95]\teval-error:0.007855\ttrain-error:0.000143\n",
      "[96]\teval-error:0.007855\ttrain-error:0.000143\n",
      "[97]\teval-error:0.007855\ttrain-error:0.000143\n",
      "[98]\teval-error:0.007855\ttrain-error:0.000143\n",
      "[99]\teval-error:0.007712\ttrain-error:0.000143\n",
      "[100]\teval-error:0.007712\ttrain-error:0.000143\n",
      "[101]\teval-error:0.007712\ttrain-error:0.000143\n",
      "[102]\teval-error:0.007855\ttrain-error:0.000143\n",
      "[103]\teval-error:0.007855\ttrain-error:0.000143\n",
      "[104]\teval-error:0.007712\ttrain-error:0.000143\n",
      "[105]\teval-error:0.007712\ttrain-error:0.000143\n",
      "[106]\teval-error:0.007712\ttrain-error:0.000143\n",
      "[107]\teval-error:0.007855\ttrain-error:0.000143\n",
      "[108]\teval-error:0.007712\ttrain-error:0.000143\n",
      "[109]\teval-error:0.007712\ttrain-error:0.000143\n",
      "[110]\teval-error:0.007712\ttrain-error:0.000143\n",
      "[111]\teval-error:0.007569\ttrain-error:0.000143\n",
      "[112]\teval-error:0.007569\ttrain-error:0.000143\n",
      "[113]\teval-error:0.007712\ttrain-error:0.000143\n",
      "[114]\teval-error:0.007712\ttrain-error:0.000143\n",
      "[115]\teval-error:0.007569\ttrain-error:0.000143\n",
      "[116]\teval-error:0.007569\ttrain-error:0.000143\n",
      "[117]\teval-error:0.007569\ttrain-error:0.000143\n",
      "[118]\teval-error:0.007569\ttrain-error:0.000143\n",
      "[119]\teval-error:0.007569\ttrain-error:0.000143\n",
      "[120]\teval-error:0.007712\ttrain-error:0.000143\n",
      "[121]\teval-error:0.007569\ttrain-error:0.000143\n",
      "[122]\teval-error:0.007569\ttrain-error:0.000143\n",
      "[123]\teval-error:0.007712\ttrain-error:0.000143\n",
      "[124]\teval-error:0.007712\ttrain-error:0.000143\n",
      "[125]\teval-error:0.007569\ttrain-error:0.000143\n",
      "[126]\teval-error:0.007569\ttrain-error:0.000143\n",
      "[127]\teval-error:0.007569\ttrain-error:0.000143\n",
      "[128]\teval-error:0.007569\ttrain-error:0.000143\n",
      "[129]\teval-error:0.007569\ttrain-error:0.000143\n",
      "[130]\teval-error:0.007569\ttrain-error:0.000143\n",
      "[131]\teval-error:0.007569\ttrain-error:0.000143\n",
      "[132]\teval-error:0.007569\ttrain-error:0.000143\n",
      "[133]\teval-error:0.007569\ttrain-error:0.000143\n",
      "[134]\teval-error:0.007569\ttrain-error:0.000143\n",
      "[135]\teval-error:0.007569\ttrain-error:0.000143\n",
      "[136]\teval-error:0.007569\ttrain-error:0.000143\n",
      "[137]\teval-error:0.007569\ttrain-error:0.000143\n",
      "[138]\teval-error:0.007569\ttrain-error:0.000143\n",
      "[139]\teval-error:0.007569\ttrain-error:0.000143\n",
      "[140]\teval-error:0.007569\ttrain-error:0.000143\n",
      "[141]\teval-error:0.007569\ttrain-error:0.000143\n",
      "[142]\teval-error:0.007712\ttrain-error:0.000143\n",
      "[143]\teval-error:0.007569\ttrain-error:0.000143\n",
      "[144]\teval-error:0.007712\ttrain-error:0.000143\n",
      "[145]\teval-error:0.007712\ttrain-error:0.000143\n",
      "[146]\teval-error:0.007712\ttrain-error:0.000143\n",
      "[147]\teval-error:0.007712\ttrain-error:0.000143\n",
      "[148]\teval-error:0.007426\ttrain-error:0.000143\n",
      "[149]\teval-error:0.007426\ttrain-error:0.000143\n",
      "[150]\teval-error:0.007426\ttrain-error:0.000143\n",
      "[151]\teval-error:0.007426\ttrain-error:0.000143\n",
      "[152]\teval-error:0.007426\ttrain-error:0.000143\n",
      "[153]\teval-error:0.007426\ttrain-error:0.000143\n",
      "[154]\teval-error:0.007426\ttrain-error:0.000143\n",
      "[155]\teval-error:0.007426\ttrain-error:0.000143\n",
      "[156]\teval-error:0.007426\ttrain-error:0.000143\n",
      "[157]\teval-error:0.007426\ttrain-error:0.000143\n",
      "[158]\teval-error:0.007426\ttrain-error:0.000143\n",
      "[159]\teval-error:0.007712\ttrain-error:0.000143\n",
      "[160]\teval-error:0.007712\ttrain-error:0.000143\n",
      "[161]\teval-error:0.007712\ttrain-error:0.000143\n",
      "[162]\teval-error:0.007712\ttrain-error:0.000143\n",
      "[163]\teval-error:0.007712\ttrain-error:0.000143\n",
      "[164]\teval-error:0.007712\ttrain-error:0.000143\n",
      "[165]\teval-error:0.007712\ttrain-error:0.000143\n",
      "[166]\teval-error:0.007712\ttrain-error:0.000143\n",
      "[167]\teval-error:0.007712\ttrain-error:0.000143\n",
      "[168]\teval-error:0.007712\ttrain-error:0.000143\n",
      "[169]\teval-error:0.007712\ttrain-error:0.000143\n",
      "[170]\teval-error:0.007712\ttrain-error:0.000143\n",
      "[171]\teval-error:0.007855\ttrain-error:0.000143\n",
      "[172]\teval-error:0.007712\ttrain-error:0.000143\n",
      "[173]\teval-error:0.007712\ttrain-error:0.000143\n",
      "[174]\teval-error:0.007712\ttrain-error:0.000143\n",
      "[175]\teval-error:0.007712\ttrain-error:0.000143\n",
      "[176]\teval-error:0.007712\ttrain-error:0.000143\n"
     ]
    },
    {
     "name": "stdout",
     "output_type": "stream",
     "text": [
      "[177]\teval-error:0.007712\ttrain-error:0.000143\n",
      "[178]\teval-error:0.007712\ttrain-error:0.000143\n",
      "[179]\teval-error:0.007712\ttrain-error:0.000143\n",
      "[180]\teval-error:0.007712\ttrain-error:0.000143\n",
      "[181]\teval-error:0.007712\ttrain-error:0.000143\n",
      "[182]\teval-error:0.007712\ttrain-error:0.000143\n",
      "[183]\teval-error:0.007712\ttrain-error:0.000143\n",
      "[184]\teval-error:0.007712\ttrain-error:0.000143\n",
      "[185]\teval-error:0.007712\ttrain-error:0.000143\n",
      "[186]\teval-error:0.007712\ttrain-error:0.000143\n",
      "[187]\teval-error:0.007712\ttrain-error:0.000143\n",
      "[188]\teval-error:0.007712\ttrain-error:0.000143\n",
      "[189]\teval-error:0.007712\ttrain-error:0.000143\n",
      "[190]\teval-error:0.007712\ttrain-error:0.000143\n",
      "[191]\teval-error:0.007712\ttrain-error:0.000143\n",
      "[192]\teval-error:0.007712\ttrain-error:0.000143\n",
      "[193]\teval-error:0.007712\ttrain-error:0.000143\n",
      "[194]\teval-error:0.007712\ttrain-error:0.000143\n",
      "[195]\teval-error:0.007712\ttrain-error:0.000143\n",
      "[196]\teval-error:0.007712\ttrain-error:0.000143\n",
      "[197]\teval-error:0.007712\ttrain-error:0.000143\n",
      "[198]\teval-error:0.007712\ttrain-error:0.000143\n",
      "[199]\teval-error:0.007712\ttrain-error:0.000143\n",
      "[200]\teval-error:0.007712\ttrain-error:0.000143\n",
      "[201]\teval-error:0.007712\ttrain-error:0.000143\n",
      "[202]\teval-error:0.007712\ttrain-error:0.000143\n",
      "[203]\teval-error:0.007712\ttrain-error:0.000143\n",
      "[204]\teval-error:0.007712\ttrain-error:0.000143\n",
      "[205]\teval-error:0.007712\ttrain-error:0.000143\n",
      "[206]\teval-error:0.007426\ttrain-error:0.000143\n",
      "[207]\teval-error:0.007426\ttrain-error:0.000143\n",
      "[208]\teval-error:0.007426\ttrain-error:0.000143\n",
      "[209]\teval-error:0.007712\ttrain-error:0.000143\n",
      "[210]\teval-error:0.007712\ttrain-error:0.000143\n",
      "[211]\teval-error:0.007426\ttrain-error:0.000143\n",
      "[212]\teval-error:0.007426\ttrain-error:0.000143\n",
      "[213]\teval-error:0.007712\ttrain-error:0.000143\n",
      "[214]\teval-error:0.007712\ttrain-error:0.000143\n",
      "[215]\teval-error:0.007712\ttrain-error:0.000143\n",
      "[216]\teval-error:0.007855\ttrain-error:0.000143\n",
      "[217]\teval-error:0.007569\ttrain-error:0.000143\n",
      "[218]\teval-error:0.007569\ttrain-error:0.000143\n",
      "[219]\teval-error:0.007569\ttrain-error:0.000143\n",
      "[220]\teval-error:0.007855\ttrain-error:0.000143\n",
      "[221]\teval-error:0.007712\ttrain-error:0.000143\n",
      "[222]\teval-error:0.007855\ttrain-error:0.000143\n",
      "[223]\teval-error:0.007426\ttrain-error:0.000143\n",
      "[224]\teval-error:0.007426\ttrain-error:0.000143\n",
      "[225]\teval-error:0.007712\ttrain-error:0.000143\n",
      "[226]\teval-error:0.007284\ttrain-error:0.000143\n",
      "[227]\teval-error:0.007426\ttrain-error:0.000143\n",
      "[228]\teval-error:0.007426\ttrain-error:0.000143\n",
      "[229]\teval-error:0.007426\ttrain-error:0.000143\n",
      "[230]\teval-error:0.007712\ttrain-error:0.000143\n",
      "[231]\teval-error:0.007284\ttrain-error:0.000143\n",
      "[232]\teval-error:0.007284\ttrain-error:0.000143\n",
      "[233]\teval-error:0.007284\ttrain-error:0.000143\n",
      "[234]\teval-error:0.007284\ttrain-error:0.000143\n",
      "[235]\teval-error:0.007284\ttrain-error:0.000143\n",
      "[236]\teval-error:0.007284\ttrain-error:0.000143\n",
      "[237]\teval-error:0.007284\ttrain-error:0.000143\n",
      "[238]\teval-error:0.007284\ttrain-error:0.000143\n",
      "[239]\teval-error:0.007284\ttrain-error:0.000143\n",
      "[240]\teval-error:0.007284\ttrain-error:0.000143\n",
      "[241]\teval-error:0.007284\ttrain-error:0.000143\n",
      "[242]\teval-error:0.007284\ttrain-error:0.000143\n",
      "[243]\teval-error:0.007284\ttrain-error:0.000143\n",
      "[244]\teval-error:0.007426\ttrain-error:0.000143\n",
      "[245]\teval-error:0.007712\ttrain-error:0.000143\n",
      "[246]\teval-error:0.007712\ttrain-error:0.000143\n",
      "[247]\teval-error:0.007569\ttrain-error:0.000143\n",
      "[248]\teval-error:0.007284\ttrain-error:0.000143\n",
      "[249]\teval-error:0.007284\ttrain-error:0.000143\n",
      "[250]\teval-error:0.007284\ttrain-error:0.000143\n",
      "[251]\teval-error:0.007284\ttrain-error:0.000143\n",
      "[252]\teval-error:0.007284\ttrain-error:0.000143\n",
      "[253]\teval-error:0.007426\ttrain-error:0.000143\n",
      "[254]\teval-error:0.007284\ttrain-error:0.000143\n",
      "[255]\teval-error:0.007426\ttrain-error:0.000143\n",
      "[256]\teval-error:0.007284\ttrain-error:0.000143\n",
      "[257]\teval-error:0.007426\ttrain-error:0.000143\n",
      "[258]\teval-error:0.007426\ttrain-error:0.000143\n",
      "[259]\teval-error:0.007284\ttrain-error:0.000143\n",
      "[260]\teval-error:0.007284\ttrain-error:0.000143\n",
      "[261]\teval-error:0.007284\ttrain-error:0.000143\n",
      "[262]\teval-error:0.007284\ttrain-error:0.000143\n",
      "[263]\teval-error:0.007284\ttrain-error:0.000143\n",
      "[264]\teval-error:0.007284\ttrain-error:0.000143\n",
      "[265]\teval-error:0.007284\ttrain-error:0.000143\n",
      "[266]\teval-error:0.007284\ttrain-error:0.000143\n",
      "[267]\teval-error:0.007284\ttrain-error:0.000143\n",
      "[268]\teval-error:0.007284\ttrain-error:0.000143\n",
      "[269]\teval-error:0.007426\ttrain-error:0.000143\n",
      "[270]\teval-error:0.007284\ttrain-error:0.000143\n",
      "[271]\teval-error:0.007284\ttrain-error:0.000143\n",
      "[272]\teval-error:0.007284\ttrain-error:0.000143\n",
      "[273]\teval-error:0.007426\ttrain-error:0.000143\n",
      "[274]\teval-error:0.007426\ttrain-error:0.000143\n",
      "[275]\teval-error:0.007426\ttrain-error:0.000143\n",
      "[276]\teval-error:0.007426\ttrain-error:0.000143\n",
      "[277]\teval-error:0.007426\ttrain-error:0.000143\n",
      "[278]\teval-error:0.007284\ttrain-error:0.000143\n",
      "[279]\teval-error:0.007284\ttrain-error:0.000143\n",
      "[280]\teval-error:0.007284\ttrain-error:0.000143\n",
      "[281]\teval-error:0.007284\ttrain-error:0.000143\n",
      "[282]\teval-error:0.007284\ttrain-error:0.000143\n",
      "[283]\teval-error:0.007284\ttrain-error:0.000143\n",
      "[284]\teval-error:0.007284\ttrain-error:0.000143\n",
      "[285]\teval-error:0.007284\ttrain-error:0.000143\n",
      "[286]\teval-error:0.007284\ttrain-error:0.000143\n",
      "[287]\teval-error:0.007284\ttrain-error:0.000143\n",
      "[288]\teval-error:0.007284\ttrain-error:0.000143\n",
      "[289]\teval-error:0.007284\ttrain-error:0.000143\n",
      "[290]\teval-error:0.007284\ttrain-error:0.000143\n",
      "[291]\teval-error:0.007426\ttrain-error:0.000143\n",
      "[292]\teval-error:0.007426\ttrain-error:0.000143\n",
      "[293]\teval-error:0.007426\ttrain-error:0.000143\n",
      "[294]\teval-error:0.007284\ttrain-error:0.000143\n",
      "[295]\teval-error:0.007426\ttrain-error:0.000143\n",
      "[296]\teval-error:0.007284\ttrain-error:0.000143\n",
      "[297]\teval-error:0.007284\ttrain-error:0.000143\n",
      "[298]\teval-error:0.007284\ttrain-error:0.000143\n",
      "[299]\teval-error:0.007284\ttrain-error:0.000143\n",
      "[300]\teval-error:0.007284\ttrain-error:0.000143\n",
      "[301]\teval-error:0.007284\ttrain-error:0.000143\n",
      "[302]\teval-error:0.007284\ttrain-error:0.000143\n",
      "[303]\teval-error:0.007284\ttrain-error:0.000143\n",
      "[304]\teval-error:0.007284\ttrain-error:0.000143\n",
      "[305]\teval-error:0.007284\ttrain-error:0.000143\n",
      "[306]\teval-error:0.007284\ttrain-error:0.000143\n",
      "[307]\teval-error:0.007284\ttrain-error:0.000143\n",
      "[308]\teval-error:0.007284\ttrain-error:0.000143\n",
      "[309]\teval-error:0.007284\ttrain-error:0.000143\n",
      "[310]\teval-error:0.007284\ttrain-error:0.000143\n",
      "[311]\teval-error:0.007284\ttrain-error:0.000143\n",
      "[312]\teval-error:0.007284\ttrain-error:0.000143\n",
      "[313]\teval-error:0.007284\ttrain-error:0.000143\n",
      "[314]\teval-error:0.007284\ttrain-error:0.000143\n",
      "[315]\teval-error:0.007284\ttrain-error:0.000143\n",
      "[316]\teval-error:0.007284\ttrain-error:0.000143\n",
      "[317]\teval-error:0.007284\ttrain-error:0.000143\n",
      "[318]\teval-error:0.007284\ttrain-error:0.000143\n",
      "[319]\teval-error:0.007284\ttrain-error:0.000143\n",
      "[320]\teval-error:0.007284\ttrain-error:0.000143\n",
      "[321]\teval-error:0.007284\ttrain-error:0.000143\n",
      "[322]\teval-error:0.007284\ttrain-error:0.000143\n",
      "[323]\teval-error:0.007284\ttrain-error:0.000143\n",
      "[324]\teval-error:0.007284\ttrain-error:0.000143\n",
      "[325]\teval-error:0.007284\ttrain-error:0.000143\n",
      "[326]\teval-error:0.007284\ttrain-error:0.000143\n",
      "[327]\teval-error:0.007284\ttrain-error:0.000143\n",
      "[328]\teval-error:0.007284\ttrain-error:0.000143\n",
      "[329]\teval-error:0.007284\ttrain-error:0.000143\n",
      "[330]\teval-error:0.007284\ttrain-error:0.000143\n",
      "[331]\teval-error:0.007284\ttrain-error:0.000143\n",
      "[332]\teval-error:0.007284\ttrain-error:0.000143\n",
      "[333]\teval-error:0.007284\ttrain-error:0.000143\n",
      "[334]\teval-error:0.007284\ttrain-error:0.000143\n",
      "[335]\teval-error:0.007284\ttrain-error:0.000143\n",
      "[336]\teval-error:0.007284\ttrain-error:0.000143\n",
      "[337]\teval-error:0.007426\ttrain-error:0.000143\n",
      "[338]\teval-error:0.007284\ttrain-error:0.000143\n",
      "[339]\teval-error:0.007284\ttrain-error:0.000143\n",
      "[340]\teval-error:0.007284\ttrain-error:0.000143\n",
      "[341]\teval-error:0.007426\ttrain-error:0.000143\n",
      "[342]\teval-error:0.007426\ttrain-error:0.000143\n",
      "[343]\teval-error:0.007426\ttrain-error:0.000143\n",
      "[344]\teval-error:0.007284\ttrain-error:0.000143\n",
      "[345]\teval-error:0.007426\ttrain-error:0.000143\n",
      "[346]\teval-error:0.007426\ttrain-error:0.000143\n",
      "[347]\teval-error:0.007426\ttrain-error:0.000143\n",
      "[348]\teval-error:0.007426\ttrain-error:0.000143\n",
      "[349]\teval-error:0.007426\ttrain-error:0.000143\n",
      "[350]\teval-error:0.007284\ttrain-error:0.000143\n",
      "[351]\teval-error:0.007426\ttrain-error:0.000143\n"
     ]
    },
    {
     "name": "stdout",
     "output_type": "stream",
     "text": [
      "[352]\teval-error:0.007426\ttrain-error:0.000143\n",
      "[353]\teval-error:0.007426\ttrain-error:0.000143\n",
      "[354]\teval-error:0.007426\ttrain-error:0.000143\n",
      "[355]\teval-error:0.007141\ttrain-error:0.000143\n",
      "[356]\teval-error:0.007426\ttrain-error:0.000143\n",
      "[357]\teval-error:0.007284\ttrain-error:0.000143\n",
      "[358]\teval-error:0.007141\ttrain-error:0.000143\n",
      "[359]\teval-error:0.007141\ttrain-error:0.000143\n",
      "[360]\teval-error:0.007141\ttrain-error:0.000143\n",
      "[361]\teval-error:0.007141\ttrain-error:0.000143\n",
      "[362]\teval-error:0.007141\ttrain-error:0.000143\n",
      "[363]\teval-error:0.007141\ttrain-error:0.000143\n",
      "[364]\teval-error:0.007284\ttrain-error:0.000143\n",
      "[365]\teval-error:0.007284\ttrain-error:0.000143\n",
      "[366]\teval-error:0.007284\ttrain-error:0.000143\n",
      "[367]\teval-error:0.007284\ttrain-error:0.000143\n",
      "[368]\teval-error:0.007284\ttrain-error:0.000143\n",
      "[369]\teval-error:0.007141\ttrain-error:0.000143\n",
      "[370]\teval-error:0.007141\ttrain-error:0.000143\n",
      "[371]\teval-error:0.007141\ttrain-error:0.000143\n",
      "[372]\teval-error:0.007141\ttrain-error:0.000143\n",
      "[373]\teval-error:0.007141\ttrain-error:0.000143\n",
      "[374]\teval-error:0.007141\ttrain-error:0.000143\n",
      "[375]\teval-error:0.007284\ttrain-error:0.000143\n",
      "[376]\teval-error:0.007141\ttrain-error:0.000143\n",
      "[377]\teval-error:0.007284\ttrain-error:0.000143\n",
      "[378]\teval-error:0.007284\ttrain-error:0.000143\n",
      "[379]\teval-error:0.007426\ttrain-error:0.000143\n",
      "[380]\teval-error:0.007426\ttrain-error:0.000143\n",
      "[381]\teval-error:0.007284\ttrain-error:0.000143\n",
      "[382]\teval-error:0.007284\ttrain-error:0.000143\n",
      "[383]\teval-error:0.007284\ttrain-error:0.000143\n",
      "[384]\teval-error:0.007284\ttrain-error:0.000143\n",
      "[385]\teval-error:0.007284\ttrain-error:0.000143\n",
      "[386]\teval-error:0.007284\ttrain-error:0.000143\n",
      "[387]\teval-error:0.007141\ttrain-error:0.000143\n",
      "[388]\teval-error:0.007141\ttrain-error:0.000143\n",
      "[389]\teval-error:0.007284\ttrain-error:0.000143\n",
      "[390]\teval-error:0.007426\ttrain-error:0.000143\n",
      "[391]\teval-error:0.007141\ttrain-error:0.000143\n",
      "[392]\teval-error:0.007141\ttrain-error:0.000143\n",
      "[393]\teval-error:0.007426\ttrain-error:0.000143\n",
      "[394]\teval-error:0.007284\ttrain-error:0.000143\n",
      "[395]\teval-error:0.007284\ttrain-error:0.000143\n",
      "[396]\teval-error:0.007284\ttrain-error:0.000143\n",
      "[397]\teval-error:0.007426\ttrain-error:0.000143\n",
      "[398]\teval-error:0.007426\ttrain-error:0.000143\n",
      "[399]\teval-error:0.007426\ttrain-error:0.000143\n",
      "[400]\teval-error:0.007426\ttrain-error:0.000143\n",
      "[401]\teval-error:0.007426\ttrain-error:0.000143\n",
      "[402]\teval-error:0.007284\ttrain-error:0.000143\n",
      "[403]\teval-error:0.007284\ttrain-error:0.000143\n",
      "[404]\teval-error:0.007284\ttrain-error:0.000143\n",
      "[405]\teval-error:0.007284\ttrain-error:0.000143\n",
      "[406]\teval-error:0.007284\ttrain-error:0.000143\n",
      "[407]\teval-error:0.007284\ttrain-error:0.000143\n",
      "[408]\teval-error:0.007284\ttrain-error:0.000143\n",
      "[409]\teval-error:0.007284\ttrain-error:0.000143\n",
      "[410]\teval-error:0.007284\ttrain-error:0.000143\n",
      "[411]\teval-error:0.007141\ttrain-error:0.000143\n",
      "[412]\teval-error:0.007284\ttrain-error:0.000143\n",
      "[413]\teval-error:0.007284\ttrain-error:0.000143\n",
      "[414]\teval-error:0.007141\ttrain-error:0.000143\n",
      "[415]\teval-error:0.007141\ttrain-error:0.000143\n",
      "[416]\teval-error:0.007284\ttrain-error:0.000143\n",
      "[417]\teval-error:0.007284\ttrain-error:0.000143\n",
      "[418]\teval-error:0.007284\ttrain-error:0.000143\n",
      "[419]\teval-error:0.007284\ttrain-error:0.000143\n",
      "[420]\teval-error:0.007284\ttrain-error:0.000143\n",
      "[421]\teval-error:0.007284\ttrain-error:0.000143\n",
      "[422]\teval-error:0.007284\ttrain-error:0.000143\n",
      "[423]\teval-error:0.007284\ttrain-error:0.000143\n",
      "[424]\teval-error:0.007284\ttrain-error:0.000143\n",
      "[425]\teval-error:0.007284\ttrain-error:0.000143\n",
      "[426]\teval-error:0.007284\ttrain-error:0.000143\n",
      "[427]\teval-error:0.007426\ttrain-error:0.000143\n",
      "[428]\teval-error:0.007284\ttrain-error:0.000143\n",
      "[429]\teval-error:0.007284\ttrain-error:0.000143\n",
      "[430]\teval-error:0.007426\ttrain-error:0.000143\n",
      "[431]\teval-error:0.007426\ttrain-error:0.000143\n",
      "[432]\teval-error:0.007284\ttrain-error:0.000143\n",
      "[433]\teval-error:0.007284\ttrain-error:0.000143\n",
      "[434]\teval-error:0.007284\ttrain-error:0.000143\n",
      "[435]\teval-error:0.007284\ttrain-error:0.000143\n",
      "[436]\teval-error:0.007284\ttrain-error:0.000143\n",
      "[437]\teval-error:0.007141\ttrain-error:0.000143\n",
      "[438]\teval-error:0.007141\ttrain-error:0.000143\n",
      "[439]\teval-error:0.007284\ttrain-error:0.000143\n",
      "[440]\teval-error:0.007141\ttrain-error:0.000143\n",
      "[441]\teval-error:0.007141\ttrain-error:0.000143\n",
      "[442]\teval-error:0.007284\ttrain-error:0.000143\n",
      "[443]\teval-error:0.007284\ttrain-error:0.000143\n",
      "[444]\teval-error:0.007284\ttrain-error:0.000143\n",
      "[445]\teval-error:0.007284\ttrain-error:0.000143\n",
      "[446]\teval-error:0.007284\ttrain-error:0.000143\n",
      "[447]\teval-error:0.007284\ttrain-error:0.000143\n",
      "[448]\teval-error:0.007284\ttrain-error:0.000143\n",
      "[449]\teval-error:0.007284\ttrain-error:0.000143\n",
      "[450]\teval-error:0.007284\ttrain-error:0.000143\n",
      "[451]\teval-error:0.007284\ttrain-error:0.000143\n",
      "[452]\teval-error:0.007284\ttrain-error:0.000143\n",
      "[453]\teval-error:0.007284\ttrain-error:0.000143\n",
      "[454]\teval-error:0.007284\ttrain-error:0.000143\n",
      "[455]\teval-error:0.007284\ttrain-error:0.000143\n",
      "[456]\teval-error:0.007284\ttrain-error:0.000143\n",
      "[457]\teval-error:0.007141\ttrain-error:0.000143\n",
      "[458]\teval-error:0.007284\ttrain-error:0.000143\n",
      "[459]\teval-error:0.007284\ttrain-error:0.000143\n",
      "[460]\teval-error:0.007284\ttrain-error:0.000143\n",
      "[461]\teval-error:0.007284\ttrain-error:0.000143\n",
      "[462]\teval-error:0.007284\ttrain-error:0.000143\n",
      "[463]\teval-error:0.007284\ttrain-error:0.000143\n",
      "[464]\teval-error:0.007284\ttrain-error:0.000143\n",
      "[465]\teval-error:0.007284\ttrain-error:0.000143\n",
      "[466]\teval-error:0.007284\ttrain-error:0.000143\n",
      "[467]\teval-error:0.007284\ttrain-error:0.000143\n",
      "[468]\teval-error:0.007284\ttrain-error:0.000143\n",
      "[469]\teval-error:0.007284\ttrain-error:0.000143\n",
      "[470]\teval-error:0.007284\ttrain-error:0.000143\n",
      "[471]\teval-error:0.007284\ttrain-error:0.000143\n",
      "[472]\teval-error:0.007284\ttrain-error:0.000143\n",
      "[473]\teval-error:0.007284\ttrain-error:0.000143\n",
      "[474]\teval-error:0.007284\ttrain-error:0.000143\n",
      "[475]\teval-error:0.007284\ttrain-error:0.000143\n",
      "[476]\teval-error:0.007284\ttrain-error:0.000143\n",
      "[477]\teval-error:0.007284\ttrain-error:0.000143\n",
      "[478]\teval-error:0.007284\ttrain-error:0.000143\n",
      "[479]\teval-error:0.007284\ttrain-error:0.000143\n",
      "[480]\teval-error:0.007284\ttrain-error:0.000143\n",
      "[481]\teval-error:0.007284\ttrain-error:0.000143\n",
      "[482]\teval-error:0.007284\ttrain-error:0.000143\n",
      "[483]\teval-error:0.007284\ttrain-error:0.000143\n",
      "[484]\teval-error:0.007284\ttrain-error:0.000143\n",
      "[485]\teval-error:0.007284\ttrain-error:0.000143\n",
      "[486]\teval-error:0.007284\ttrain-error:0.000143\n",
      "[487]\teval-error:0.007284\ttrain-error:0.000143\n",
      "[488]\teval-error:0.007284\ttrain-error:0.000143\n",
      "[489]\teval-error:0.007284\ttrain-error:0.000143\n",
      "[490]\teval-error:0.007141\ttrain-error:0.000143\n",
      "[491]\teval-error:0.007141\ttrain-error:0.000143\n",
      "[492]\teval-error:0.007141\ttrain-error:0.000143\n",
      "[493]\teval-error:0.007284\ttrain-error:0.000143\n",
      "[494]\teval-error:0.007141\ttrain-error:0.000143\n",
      "[495]\teval-error:0.007141\ttrain-error:0.000143\n",
      "[496]\teval-error:0.007141\ttrain-error:0.000143\n",
      "[497]\teval-error:0.007141\ttrain-error:0.000143\n",
      "[498]\teval-error:0.007141\ttrain-error:0.000143\n",
      "[499]\teval-error:0.007141\ttrain-error:0.000143\n"
     ]
    }
   ],
   "source": [
    "# 设置参数，参数的格式用map的形式存储\n",
    "param = {'max_depth': 10,                  # 树的最大深度\n",
    "         'eta': 1,                        # 一个防止过拟合的参数，默认0.3\n",
    "         'silent': 1,                     # 打印信息的繁简指标，1表示简， 0表示繁\n",
    "         'objective': 'binary:logistic'}  # 使用的模型，分类的数目\n",
    "num_round = 500  # 迭代的次数\n",
    "\n",
    "train = xgb.DMatrix('train.xgb')\n",
    "test = xgb.DMatrix('test.xgb')\n",
    "\n",
    "watchlist = [(test, 'eval'), (train, 'train')]# 看板，每次迭代都可以在控制台打印出训练集与测试集的损失\n",
    "\n",
    "clf_xgb=xgb.train(param, train, num_round, evals=watchlist)\n",
    "y_pred_xgb=clf_xgb.predict(test) # 做预测\n"
   ]
  },
  {
   "cell_type": "code",
   "execution_count": 86,
   "metadata": {},
   "outputs": [
    {
     "name": "stdout",
     "output_type": "stream",
     "text": [
      "[  6.47331006e-04   9.99011278e-01   9.99371588e-01 ...,   8.66184950e-01\n",
      "   1.66534982e-03   3.59699450e-04]\n",
      "样本总数：\t 7002\n",
      "错误数目：\t  50\n",
      "错误率：\t0.71%\n",
      "精准度：\t99.29%\n"
     ]
    }
   ],
   "source": [
    "# 打印结果\n",
    "print(y_pred_xgb)\n",
    "\n",
    "error_xgboost = sum(y_test != (y_pred_xgb > 0.5))\n",
    "error_xgboost_rate = float(error_xgboost) / len(y_pred_xgb)\n",
    "score_xgboost='NA'\n",
    "ck_xgboost='NA'\n",
    "auc_xgboost='NA'\n",
    "print(\"样本总数：\\t\", len(y_pred_xgb))\n",
    "print(\"错误数目：\\t%4d\" % error_xgboost)\n",
    "print(\"错误率：\\t%.2f%%\" % (100 * error_xgboost_rate))\n",
    "print(\"精准度：\\t%.2f%%\" % (100 * (1-error_xgboost_rate)))"
   ]
  },
  {
   "cell_type": "markdown",
   "metadata": {},
   "source": [
    "## 模型：extremely random forest"
   ]
  },
  {
   "cell_type": "code",
   "execution_count": 87,
   "metadata": {},
   "outputs": [
    {
     "name": "stdout",
     "output_type": "stream",
     "text": [
      "0.912596865066\n",
      "             precision    recall  f1-score   support\n",
      "\n",
      "          0       1.00      1.00      1.00      3549\n",
      "          1       1.00      1.00      1.00      3453\n",
      "\n",
      "avg / total       1.00      1.00      1.00      7002\n",
      "\n",
      "0.992857644719\n"
     ]
    }
   ],
   "source": [
    "clf_extree=ExtraTreesClassifier(n_estimators= 1000,max_features=5)\n",
    "clf_extree.fit(X_train,y_train)\n",
    "score_extree=cross_val_score(clf_extree,X_test,y_test,cv=10).mean()\n",
    "y_pred_extree=clf_extree.predict(X_test)\n",
    "ck_extree=cohen_kappa_score(y_test, y_pred_extree)\n",
    "print(score_extree)\n",
    "print(classification_report(y_test, y_pred_extree))\n",
    "print(ck_extree)"
   ]
  },
  {
   "cell_type": "code",
   "execution_count": 88,
   "metadata": {},
   "outputs": [
    {
     "name": "stdout",
     "output_type": "stream",
     "text": [
      "样本总数：\t 7002\n",
      "错误数目：\t  25\n",
      "错误率：\t0.36%\n",
      "精准度：\t99.64%\n",
      "AUC：\t99.64%\n"
     ]
    }
   ],
   "source": [
    "error_count_extree = sum(y_test != (y_pred_extree))\n",
    "error_rate_extree = float(error_count_extree) / len(y_pred_extree)\n",
    "fpr_extree, tpr_extree, thresholds_extree = metrics.roc_curve(y_test, y_pred_extree)\n",
    "auc_extree=metrics.auc(fpr_extree, tpr_extree)\n",
    "\n",
    "print(\"样本总数：\\t\", len(y_pred_extree))\n",
    "print(\"错误数目：\\t%4d\" % error_count_extree)\n",
    "print(\"错误率：\\t%.2f%%\" % (100 * error_rate_extree))\n",
    "print(\"精准度：\\t%.2f%%\" % (100 * (1-error_rate_extree)))\n",
    "print(\"AUC：\\t%.2f%%\" % (100 * auc_extree))"
   ]
  },
  {
   "cell_type": "markdown",
   "metadata": {},
   "source": [
    "# 7 模型评估"
   ]
  },
  {
   "cell_type": "code",
   "execution_count": 89,
   "metadata": {
    "scrolled": false
   },
   "outputs": [
    {
     "data": {
      "text/html": [
       "<div>\n",
       "<style>\n",
       "    .dataframe thead tr:only-child th {\n",
       "        text-align: right;\n",
       "    }\n",
       "\n",
       "    .dataframe thead th {\n",
       "        text-align: left;\n",
       "    }\n",
       "\n",
       "    .dataframe tbody tr th {\n",
       "        vertical-align: top;\n",
       "    }\n",
       "</style>\n",
       "<table border=\"1\" class=\"dataframe\">\n",
       "  <thead>\n",
       "    <tr style=\"text-align: right;\">\n",
       "      <th></th>\n",
       "      <th>Classifier</th>\n",
       "      <th>AUC Score</th>\n",
       "      <th>CV Accuracy</th>\n",
       "      <th>NUM of error examples</th>\n",
       "      <th>Kappa Score</th>\n",
       "    </tr>\n",
       "  </thead>\n",
       "  <tbody>\n",
       "    <tr>\n",
       "      <th>9</th>\n",
       "      <td>Extremely random forest</td>\n",
       "      <td>0.996415</td>\n",
       "      <td>0.912597</td>\n",
       "      <td>25</td>\n",
       "      <td>0.992858</td>\n",
       "    </tr>\n",
       "    <tr>\n",
       "      <th>1</th>\n",
       "      <td>Random Forest</td>\n",
       "      <td>0.995132</td>\n",
       "      <td>0.908312</td>\n",
       "      <td>34</td>\n",
       "      <td>0.990286</td>\n",
       "    </tr>\n",
       "    <tr>\n",
       "      <th>10</th>\n",
       "      <td>xgboost</td>\n",
       "      <td>NA</td>\n",
       "      <td>NA</td>\n",
       "      <td>50</td>\n",
       "      <td>NA</td>\n",
       "    </tr>\n",
       "    <tr>\n",
       "      <th>0</th>\n",
       "      <td>Decision Tree</td>\n",
       "      <td>0.987708</td>\n",
       "      <td>0.866754</td>\n",
       "      <td>86</td>\n",
       "      <td>0.975431</td>\n",
       "    </tr>\n",
       "    <tr>\n",
       "      <th>4</th>\n",
       "      <td>Gaussian NB</td>\n",
       "      <td>0.987708</td>\n",
       "      <td>0.798484</td>\n",
       "      <td>86</td>\n",
       "      <td>0.975431</td>\n",
       "    </tr>\n",
       "    <tr>\n",
       "      <th>2</th>\n",
       "      <td>SVM</td>\n",
       "      <td>0.974582</td>\n",
       "      <td>0.828191</td>\n",
       "      <td>177</td>\n",
       "      <td>0.94942</td>\n",
       "    </tr>\n",
       "    <tr>\n",
       "      <th>7</th>\n",
       "      <td>GBDT</td>\n",
       "      <td>0.854304</td>\n",
       "      <td>0.839191</td>\n",
       "      <td>1023</td>\n",
       "      <td>0.707996</td>\n",
       "    </tr>\n",
       "    <tr>\n",
       "      <th>3</th>\n",
       "      <td>Ada boost</td>\n",
       "      <td>0.825125</td>\n",
       "      <td>0.817624</td>\n",
       "      <td>1226</td>\n",
       "      <td>0.649924</td>\n",
       "    </tr>\n",
       "    <tr>\n",
       "      <th>6</th>\n",
       "      <td>Log Regression</td>\n",
       "      <td>0.817948</td>\n",
       "      <td>0.814196</td>\n",
       "      <td>1276</td>\n",
       "      <td>0.635621</td>\n",
       "    </tr>\n",
       "    <tr>\n",
       "      <th>5</th>\n",
       "      <td>KNN</td>\n",
       "      <td>0.792181</td>\n",
       "      <td>0.759494</td>\n",
       "      <td>1453</td>\n",
       "      <td>0.584675</td>\n",
       "    </tr>\n",
       "    <tr>\n",
       "      <th>8</th>\n",
       "      <td>Neural network</td>\n",
       "      <td>0.788032</td>\n",
       "      <td>0.797205</td>\n",
       "      <td>1480</td>\n",
       "      <td>0.57671</td>\n",
       "    </tr>\n",
       "  </tbody>\n",
       "</table>\n",
       "</div>"
      ],
      "text/plain": [
       "                 Classifier AUC Score CV Accuracy  NUM of error examples  \\\n",
       "9   Extremely random forest  0.996415    0.912597                     25   \n",
       "1             Random Forest  0.995132    0.908312                     34   \n",
       "10                  xgboost        NA          NA                     50   \n",
       "0             Decision Tree  0.987708    0.866754                     86   \n",
       "4               Gaussian NB  0.987708    0.798484                     86   \n",
       "2                       SVM  0.974582    0.828191                    177   \n",
       "7                      GBDT  0.854304    0.839191                   1023   \n",
       "3                 Ada boost  0.825125    0.817624                   1226   \n",
       "6            Log Regression  0.817948    0.814196                   1276   \n",
       "5                       KNN  0.792181    0.759494                   1453   \n",
       "8            Neural network  0.788032    0.797205                   1480   \n",
       "\n",
       "   Kappa Score  \n",
       "9     0.992858  \n",
       "1     0.990286  \n",
       "10          NA  \n",
       "0     0.975431  \n",
       "4     0.975431  \n",
       "2      0.94942  \n",
       "7     0.707996  \n",
       "3     0.649924  \n",
       "6     0.635621  \n",
       "5     0.584675  \n",
       "8      0.57671  "
      ]
     },
     "execution_count": 89,
     "metadata": {},
     "output_type": "execute_result"
    }
   ],
   "source": [
    "#result=pd.DataFrame({\"0-Classifier\":[\"Decision Tree\",\"Random Forest\",\"SVM\",\"Ada boost\",\"Gaussian NB\",\"KNN\",\"Log Regression\",\"GBDT\",\"Neural network\",\"Extremely random forest\"],\"2-Accuracy\":[score_tree,score_rf,score_svm,score_ada,score_nb,score_knn,score_log,score_gbdt,score_nn,score_extree],\"4-kappa score\":[ck_tree,ck_rf,ck_svm,ck_ada,ck_nb,ck_knn,ck_log,ck_gbdt,ck_nn,ck_extree],\"1-AUC Score\":[auc_tree,auc_rf,auc_svm,auc_ada,auc_nb,auc_knn,auc_log,auc_gbdt,auc_nn,auc_extree],\"3-NUM of error examples\":[error_count_tree,error_count_rf,error_count_svm,error_count_ada,error_count_nb,error_count_knn,error_count_log,error_count_gbdt,error_count_nn,error_count_extree]})\n",
    "result=pd.DataFrame({\"0-Classifier\":[\"Decision Tree\",\"Random Forest\",\"SVM\",\"Ada boost\",\"Gaussian NB\",\"KNN\",\"Log Regression\",\"GBDT\",\"Neural network\",\"Extremely random forest\",\"xgboost\"],\"2-Accuracy\":[score_tree,score_rf,score_svm,score_ada,score_nb,score_knn,score_log,score_gbdt,score_nn,score_extree,score_xgboost],\"4-kappa score\":[ck_tree,ck_rf,ck_svm,ck_ada,ck_nb,ck_knn,ck_log,ck_gbdt,ck_nn,ck_extree,ck_xgboost],\"1-AUC Score\":[auc_tree,auc_rf,auc_svm,auc_ada,auc_nb,auc_knn,auc_log,auc_gbdt,auc_nn,auc_extree,auc_xgboost],\"3-NUM of error examples\":[error_count_tree,error_count_rf,error_count_svm,error_count_ada,error_count_nb,error_count_knn,error_count_log,error_count_gbdt,error_count_nn,error_count_extree,error_xgboost]})\n",
    "result.columns=['Classifier','AUC Score','CV Accuracy','NUM of error examples','Kappa Score']\n",
    "result.sort_values(\"NUM of error examples\",ascending=True)"
   ]
  },
  {
   "cell_type": "code",
   "execution_count": 90,
   "metadata": {
    "collapsed": true
   },
   "outputs": [],
   "source": [
    "end=time.time()"
   ]
  },
  {
   "cell_type": "code",
   "execution_count": 91,
   "metadata": {},
   "outputs": [
    {
     "name": "stdout",
     "output_type": "stream",
     "text": [
      "Using time(s): 513.50 \n"
     ]
    }
   ],
   "source": [
    "print(\"Using time(s): %.2f \" %(end-start))"
   ]
  },
  {
   "cell_type": "markdown",
   "metadata": {},
   "source": [
    "## 变量权重"
   ]
  },
  {
   "cell_type": "code",
   "execution_count": 92,
   "metadata": {},
   "outputs": [
    {
     "name": "stdout",
     "output_type": "stream",
     "text": [
      "Features sorted by their rank:\n"
     ]
    },
    {
     "data": {
      "text/html": [
       "<div>\n",
       "<style>\n",
       "    .dataframe thead tr:only-child th {\n",
       "        text-align: right;\n",
       "    }\n",
       "\n",
       "    .dataframe thead th {\n",
       "        text-align: left;\n",
       "    }\n",
       "\n",
       "    .dataframe tbody tr th {\n",
       "        vertical-align: top;\n",
       "    }\n",
       "</style>\n",
       "<table border=\"1\" class=\"dataframe\">\n",
       "  <thead>\n",
       "    <tr style=\"text-align: right;\">\n",
       "      <th></th>\n",
       "      <th>0</th>\n",
       "      <th>1</th>\n",
       "    </tr>\n",
       "  </thead>\n",
       "  <tbody>\n",
       "    <tr>\n",
       "      <th>0</th>\n",
       "      <td>1</td>\n",
       "      <td>NUM_OF_COMM</td>\n",
       "    </tr>\n",
       "    <tr>\n",
       "      <th>1</th>\n",
       "      <td>1</td>\n",
       "      <td>Stop_Cnt06</td>\n",
       "    </tr>\n",
       "    <tr>\n",
       "      <th>2</th>\n",
       "      <td>1</td>\n",
       "      <td>USER_CREDIT_ID</td>\n",
       "    </tr>\n",
       "    <tr>\n",
       "      <th>3</th>\n",
       "      <td>2</td>\n",
       "      <td>ARPU</td>\n",
       "    </tr>\n",
       "    <tr>\n",
       "      <th>4</th>\n",
       "      <td>3</td>\n",
       "      <td>AGE</td>\n",
       "    </tr>\n",
       "    <tr>\n",
       "      <th>5</th>\n",
       "      <td>4</td>\n",
       "      <td>GPRS_VOLUME</td>\n",
       "    </tr>\n",
       "    <tr>\n",
       "      <th>6</th>\n",
       "      <td>5</td>\n",
       "      <td>WJ_CALL_COUNTS</td>\n",
       "    </tr>\n",
       "    <tr>\n",
       "      <th>7</th>\n",
       "      <td>6</td>\n",
       "      <td>QQW_CALL_COUNTS</td>\n",
       "    </tr>\n",
       "    <tr>\n",
       "      <th>8</th>\n",
       "      <td>7</td>\n",
       "      <td>Stop_Days06</td>\n",
       "    </tr>\n",
       "    <tr>\n",
       "      <th>9</th>\n",
       "      <td>8</td>\n",
       "      <td>ROAM_COUNTS</td>\n",
       "    </tr>\n",
       "    <tr>\n",
       "      <th>10</th>\n",
       "      <td>9</td>\n",
       "      <td>TOLL_COUNTS</td>\n",
       "    </tr>\n",
       "    <tr>\n",
       "      <th>11</th>\n",
       "      <td>10</td>\n",
       "      <td>OUT_CALL_COUNTS</td>\n",
       "    </tr>\n",
       "    <tr>\n",
       "      <th>12</th>\n",
       "      <td>11</td>\n",
       "      <td>LAST_MONTH</td>\n",
       "    </tr>\n",
       "    <tr>\n",
       "      <th>13</th>\n",
       "      <td>12</td>\n",
       "      <td>MOCALL_COUNTS</td>\n",
       "    </tr>\n",
       "    <tr>\n",
       "      <th>14</th>\n",
       "      <td>13</td>\n",
       "      <td>MTCALL_COUNTS</td>\n",
       "    </tr>\n",
       "    <tr>\n",
       "      <th>15</th>\n",
       "      <td>14</td>\n",
       "      <td>R_0</td>\n",
       "    </tr>\n",
       "    <tr>\n",
       "      <th>16</th>\n",
       "      <td>15</td>\n",
       "      <td>R_1</td>\n",
       "    </tr>\n",
       "    <tr>\n",
       "      <th>17</th>\n",
       "      <td>16</td>\n",
       "      <td>R_4</td>\n",
       "    </tr>\n",
       "  </tbody>\n",
       "</table>\n",
       "</div>"
      ],
      "text/plain": [
       "     0                1\n",
       "0    1      NUM_OF_COMM\n",
       "1    1       Stop_Cnt06\n",
       "2    1   USER_CREDIT_ID\n",
       "3    2             ARPU\n",
       "4    3              AGE\n",
       "5    4      GPRS_VOLUME\n",
       "6    5   WJ_CALL_COUNTS\n",
       "7    6  QQW_CALL_COUNTS\n",
       "8    7      Stop_Days06\n",
       "9    8      ROAM_COUNTS\n",
       "10   9      TOLL_COUNTS\n",
       "11  10  OUT_CALL_COUNTS\n",
       "12  11       LAST_MONTH\n",
       "13  12    MOCALL_COUNTS\n",
       "14  13    MTCALL_COUNTS\n",
       "15  14              R_0\n",
       "16  15              R_1\n",
       "17  16              R_4"
      ]
     },
     "execution_count": 92,
     "metadata": {},
     "output_type": "execute_result"
    }
   ],
   "source": [
    "from sklearn.feature_selection import RFE  \n",
    "from sklearn.linear_model import LinearRegression  \n",
    "    \n",
    "#use linear regression as the model  \n",
    "lr = LinearRegression()  \n",
    "#rank all features, i.e continue the elimination until the last one  \n",
    "rfe = RFE(lr, n_features_to_select=3)  \n",
    "rfe.fit(X_train,y_train)  \n",
    "  \n",
    "print (\"Features sorted by their rank:\")  \n",
    "dd=pd.DataFrame(sorted(zip(map(lambda x: round(x, 4), rfe.ranking_), X_train.columns)))\n",
    "dd"
   ]
  },
  {
   "cell_type": "code",
   "execution_count": 93,
   "metadata": {
    "collapsed": true
   },
   "outputs": [],
   "source": [
    "def save_tofile(content,filename='/Users/user/Downloads/datatech.log',mode='a'):\n",
    "\tfile=open(filename,mode)\n",
    "\tfiletime=time.strftime('%Y-%m-%d %H:%M:%S',time.localtime(time.time()))\n",
    "\tfile.write(filetime+'\\t'+str(content)+'\\n')\n",
    "\tfile.close()"
   ]
  },
  {
   "cell_type": "code",
   "execution_count": 94,
   "metadata": {},
   "outputs": [
    {
     "data": {
      "text/html": [
       "<div>\n",
       "<style>\n",
       "    .dataframe thead tr:only-child th {\n",
       "        text-align: right;\n",
       "    }\n",
       "\n",
       "    .dataframe thead th {\n",
       "        text-align: left;\n",
       "    }\n",
       "\n",
       "    .dataframe tbody tr th {\n",
       "        vertical-align: top;\n",
       "    }\n",
       "</style>\n",
       "<table border=\"1\" class=\"dataframe\">\n",
       "  <thead>\n",
       "    <tr style=\"text-align: right;\">\n",
       "      <th></th>\n",
       "      <th>Classifier</th>\n",
       "      <th>AUC Score</th>\n",
       "      <th>CV Accuracy</th>\n",
       "      <th>NUM of error examples</th>\n",
       "      <th>Kappa Score</th>\n",
       "    </tr>\n",
       "  </thead>\n",
       "  <tbody>\n",
       "    <tr>\n",
       "      <th>8</th>\n",
       "      <td>Extremely random forest</td>\n",
       "      <td>0.996415</td>\n",
       "      <td>0.912597</td>\n",
       "      <td>25</td>\n",
       "      <td>0.992858</td>\n",
       "    </tr>\n",
       "    <tr>\n",
       "      <th>1</th>\n",
       "      <td>Random Forest</td>\n",
       "      <td>0.995132</td>\n",
       "      <td>0.908312</td>\n",
       "      <td>34</td>\n",
       "      <td>0.990286</td>\n",
       "    </tr>\n",
       "    <tr>\n",
       "      <th>0</th>\n",
       "      <td>Decision Tree</td>\n",
       "      <td>0.987708</td>\n",
       "      <td>0.866754</td>\n",
       "      <td>86</td>\n",
       "      <td>0.975431</td>\n",
       "    </tr>\n",
       "    <tr>\n",
       "      <th>4</th>\n",
       "      <td>Gaussian NB</td>\n",
       "      <td>0.987708</td>\n",
       "      <td>0.798484</td>\n",
       "      <td>86</td>\n",
       "      <td>0.975431</td>\n",
       "    </tr>\n",
       "    <tr>\n",
       "      <th>2</th>\n",
       "      <td>SVM</td>\n",
       "      <td>0.974582</td>\n",
       "      <td>0.828191</td>\n",
       "      <td>177</td>\n",
       "      <td>0.949420</td>\n",
       "    </tr>\n",
       "    <tr>\n",
       "      <th>7</th>\n",
       "      <td>GBDT</td>\n",
       "      <td>0.854304</td>\n",
       "      <td>0.839191</td>\n",
       "      <td>1023</td>\n",
       "      <td>0.707996</td>\n",
       "    </tr>\n",
       "    <tr>\n",
       "      <th>3</th>\n",
       "      <td>Ada boost</td>\n",
       "      <td>0.825125</td>\n",
       "      <td>0.817624</td>\n",
       "      <td>1226</td>\n",
       "      <td>0.649924</td>\n",
       "    </tr>\n",
       "    <tr>\n",
       "      <th>6</th>\n",
       "      <td>Log Regression</td>\n",
       "      <td>0.817948</td>\n",
       "      <td>0.814196</td>\n",
       "      <td>1276</td>\n",
       "      <td>0.635621</td>\n",
       "    </tr>\n",
       "    <tr>\n",
       "      <th>5</th>\n",
       "      <td>KNN</td>\n",
       "      <td>0.792181</td>\n",
       "      <td>0.759494</td>\n",
       "      <td>1453</td>\n",
       "      <td>0.584675</td>\n",
       "    </tr>\n",
       "  </tbody>\n",
       "</table>\n",
       "</div>"
      ],
      "text/plain": [
       "                Classifier  AUC Score  CV Accuracy  NUM of error examples  \\\n",
       "8  Extremely random forest   0.996415     0.912597                     25   \n",
       "1            Random Forest   0.995132     0.908312                     34   \n",
       "0            Decision Tree   0.987708     0.866754                     86   \n",
       "4              Gaussian NB   0.987708     0.798484                     86   \n",
       "2                      SVM   0.974582     0.828191                    177   \n",
       "7                     GBDT   0.854304     0.839191                   1023   \n",
       "3                Ada boost   0.825125     0.817624                   1226   \n",
       "6           Log Regression   0.817948     0.814196                   1276   \n",
       "5                      KNN   0.792181     0.759494                   1453   \n",
       "\n",
       "   Kappa Score  \n",
       "8     0.992858  \n",
       "1     0.990286  \n",
       "0     0.975431  \n",
       "4     0.975431  \n",
       "2     0.949420  \n",
       "7     0.707996  \n",
       "3     0.649924  \n",
       "6     0.635621  \n",
       "5     0.584675  "
      ]
     },
     "execution_count": 94,
     "metadata": {},
     "output_type": "execute_result"
    }
   ],
   "source": [
    "result=pd.DataFrame({\"0-Classifier\":[\"Decision Tree\",\"Random Forest\",\"SVM\",\"Ada boost\",\"Gaussian NB\",\"KNN\",\"Log Regression\",\"GBDT\",\"Extremely random forest\"],\"2-Accuracy\":[score_tree,score_rf,score_svm,score_ada,score_nb,score_knn,score_log,score_gbdt,score_extree],\"4-kappa score\":[ck_tree,ck_rf,ck_svm,ck_ada,ck_nb,ck_knn,ck_log,ck_gbdt,ck_extree],\"1-AUC Score\":[auc_tree,auc_rf,auc_svm,auc_ada,auc_nb,auc_knn,auc_log,auc_gbdt,auc_extree],\"3-NUM of error examples\":[error_count_tree,error_count_rf,error_count_svm,error_count_ada,error_count_nb,error_count_knn,error_count_log,error_count_gbdt,error_count_extree]})\n",
    "result.columns=['Classifier','AUC Score','CV Accuracy','NUM of error examples','Kappa Score']\n",
    "result.sort_values(\"NUM of error examples\",ascending=True)"
   ]
  },
  {
   "cell_type": "code",
   "execution_count": 95,
   "metadata": {},
   "outputs": [
    {
     "data": {
      "text/plain": [
       "Index(['LAST_MONTH', 'AGE', 'USER_CREDIT_ID', 'GPRS_VOLUME', 'ARPU',\n",
       "       'TOLL_COUNTS', 'WJ_CALL_COUNTS', 'OUT_CALL_COUNTS', 'QQW_CALL_COUNTS',\n",
       "       'ROAM_COUNTS', 'R_0', 'R_1', 'R_4', 'Stop_Days06', 'Stop_Cnt06',\n",
       "       'NUM_OF_COMM', 'MOCALL_COUNTS', 'MTCALL_COUNTS'],\n",
       "      dtype='object')"
      ]
     },
     "execution_count": 95,
     "metadata": {},
     "output_type": "execute_result"
    }
   ],
   "source": [
    "X_train.columns"
   ]
  },
  {
   "cell_type": "code",
   "execution_count": 96,
   "metadata": {
    "collapsed": true
   },
   "outputs": [],
   "source": [
    "from sklearn.metrics import f1_score"
   ]
  },
  {
   "cell_type": "code",
   "execution_count": 97,
   "metadata": {},
   "outputs": [
    {
     "data": {
      "text/plain": [
       "0.7853449549416458"
      ]
     },
     "execution_count": 97,
     "metadata": {},
     "output_type": "execute_result"
    }
   ],
   "source": [
    "f1_score(y_test,y_pred_knn)"
   ]
  },
  {
   "cell_type": "code",
   "execution_count": 98,
   "metadata": {},
   "outputs": [
    {
     "name": "stdout",
     "output_type": "stream",
     "text": [
      "0\n"
     ]
    }
   ],
   "source": [
    "if clf_rf==clf_knn:\n",
    "    print(1)\n",
    "else:\n",
    "    print(0)"
   ]
  },
  {
   "cell_type": "code",
   "execution_count": null,
   "metadata": {
    "collapsed": true
   },
   "outputs": [],
   "source": []
  }
 ],
 "metadata": {
  "kernelspec": {
   "display_name": "Python 3",
   "language": "python",
   "name": "python3"
  },
  "language_info": {
   "codemirror_mode": {
    "name": "ipython",
    "version": 3
   },
   "file_extension": ".py",
   "mimetype": "text/x-python",
   "name": "python",
   "nbconvert_exporter": "python",
   "pygments_lexer": "ipython3",
   "version": "3.6.1"
  }
 },
 "nbformat": 4,
 "nbformat_minor": 2
}
